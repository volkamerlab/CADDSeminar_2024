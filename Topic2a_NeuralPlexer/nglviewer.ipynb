{
 "cells": [
  {
   "cell_type": "code",
   "execution_count": 8,
   "id": "1ee51e4f-8e38-483b-9c5c-dc6273121245",
   "metadata": {},
   "outputs": [],
   "source": [
    "import nglview as nv\n",
    "import mdtraj as md\n",
    "import warnings\n",
    "import time\n",
    "warnings.filterwarnings('ignore', category=DeprecationWarning)\n",
    "warnings.filterwarnings('ignore', category=UserWarning)\n",
    "\n",
    "def visualize_conformations(pdb_file):\n",
    "    \"\"\"\n",
    "    Create an interactive visualization of protein conformational changes\n",
    "    with improved rendering stability.\n",
    "    \"\"\"\n",
    "    # Load trajectory\n",
    "    traj = md.load(pdb_file)\n",
    "    \n",
    "    # Create viewer with explicit size\n",
    "    view = nv.show_mdtraj(traj)\n",
    "    view._remote_call('setSize', target='Widget', args=['600px', '400px'])\n",
    "    \n",
    "    # Wait briefly for initialization\n",
    "    time.sleep(0.5)\n",
    "    \n",
    "    # Add representations one at a time with pauses\n",
    "    view.clear_representations()\n",
    "    view.add_cartoon(selection=\"protein\")\n",
    "    time.sleep(0.2)\n",
    "    \n",
    "    # Set initial view parameters\n",
    "    view.center()\n",
    "    view.camera = 'orthographic'\n",
    "    \n",
    "    # Force update of the view\n",
    "    view.render_image()\n",
    "    \n",
    "    # Add animation control parameters\n",
    "    view._remote_call(\n",
    "        \"setParameters\",\n",
    "        target=\"Widget\",\n",
    "        args=[{\n",
    "            \"clipDist\": 0,\n",
    "            \"clipFar\": 100,\n",
    "            \"clipNear\": 0,\n",
    "            \"cameraType\": \"perspective\",\n",
    "            \"mousePreset\": \"default\"\n",
    "        }],\n",
    "    )\n",
    "    \n",
    "    # Set animation speed (adjust as needed)\n",
    "    view._remote_call('setDelay', target='Widget', args=[100])\n",
    "    \n",
    "    return view\n",
    "\n",
    "# Example usage:\n",
    "# view = visualize_conformations(\"your_multi_model.pdb\")\n",
    "# \n",
    "# # If the view is still white, try forcing a refresh:\n",
    "# view.render_image()\n",
    "# \n",
    "# # You can also try changing representations after loading:\n",
    "# view.add_cartoon(selection=\"protein\", color=\"chainid\")\n",
    "# view.center()"
   ]
  },
  {
   "cell_type": "code",
   "execution_count": 9,
   "id": "7ceee6a5-f388-47d5-9101-e2f6128a2c57",
   "metadata": {},
   "outputs": [
    {
     "data": {
      "application/vnd.jupyter.widget-view+json": {
       "model_id": "3c999bab16d34a5f9346f6cf4faec2a6",
       "version_major": 2,
       "version_minor": 0
      },
      "text/plain": [
       "NGLWidget(max_frame=40)"
      ]
     },
     "metadata": {},
     "output_type": "display_data"
    }
   ],
   "source": [
    "view = visualize_conformations('./data/results_flexible_trajectory_6np5_prot.pdb')\n",
    "view"
   ]
  },
  {
   "cell_type": "code",
   "execution_count": null,
   "id": "49632f8f-5d50-4d03-965a-9f63bbee8315",
   "metadata": {},
   "outputs": [],
   "source": []
  }
 ],
 "metadata": {
  "kernelspec": {
   "display_name": "Python 3 (ipykernel)",
   "language": "python",
   "name": "python3"
  },
  "language_info": {
   "codemirror_mode": {
    "name": "ipython",
    "version": 3
   },
   "file_extension": ".py",
   "mimetype": "text/x-python",
   "name": "python",
   "nbconvert_exporter": "python",
   "pygments_lexer": "ipython3",
   "version": "3.13.1"
  }
 },
 "nbformat": 4,
 "nbformat_minor": 5
}
