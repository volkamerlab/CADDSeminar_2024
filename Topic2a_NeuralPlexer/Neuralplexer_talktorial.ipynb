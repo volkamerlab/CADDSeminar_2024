{
 "cells": [
  {
   "cell_type": "markdown",
   "metadata": {},
   "source": [
    "# T000 · NeuralPLexer an easy-to-follow usage guide\n",
    "\n",
    "Authors:\n",
    "\n",
    "- Katharina Buchthal 2024 Volkamerlab, Saarland University, Germany\n",
    "- Maximilian Bähr 2024 Volkamerlab, Saarland University, Germany\n"
   ]
  },
  {
   "cell_type": "markdown",
   "metadata": {},
   "source": [
    "*The examples used in this talktorial template are taken from [__Talktorial T001__](https://github.com/volkamerlab/teachopencadd/blob/master/teachopencadd/talktorials/T001_query_chembl/talktorial.ipynb) and [__Talktorial T002__](https://github.com/volkamerlab/teachopencadd/blob/master/teachopencadd/talktorials/T002_compound_adme/talktorial.ipynb).*"
   ]
  },
  {
   "cell_type": "markdown",
   "metadata": {},
   "source": [
    "<div class=\"alert alert-block alert-info\">\n",
    "\n",
    "<b>Cross-referencing talktorials</b>: If you want to cross-reference to existing talktorials in your notebook, please use the following formatting: <b>Talktorial T000</b>.\n",
    "\n",
    "</div>"
   ]
  },
  {
   "cell_type": "markdown",
   "metadata": {},
   "source": [
    "## Aim of this talktorial\n",
    "\n",
    "Understanding the basics of Neuralplexer and beeing able to use it."
   ]
  },
  {
   "cell_type": "markdown",
   "metadata": {},
   "source": [
    "### Contents in *Theory*\n",
    "\n",
    "_Add Table of Contents (TOC) for Theory section._\n",
    "\n",
    "* Diffusion Models\n",
    "* "
   ]
  },
  {
   "cell_type": "markdown",
   "metadata": {},
   "source": [
    "### Contents in *Practical*\n",
    "\n",
    "_Add Table of Contents (TOC) for Practical section._\n",
    "\n",
    "* Connect to ChEMBL database\n",
    "* Load and draw molecules"
   ]
  },
  {
   "cell_type": "markdown",
   "metadata": {},
   "source": [
    "<div class=\"alert alert-block alert-info\">\n",
    "\n",
    "<b>Sync TOC with section titles</b>: These points should refer to the headlines of your <i>Practical</i> section.\n",
    "\n",
    "</div>"
   ]
  },
  {
   "cell_type": "markdown",
   "metadata": {},
   "source": [
    "### References\n",
    "\n",
    "* Paper \n",
    "* Tutorial links\n",
    "* Other useful resources\n",
    "\n",
    "*We suggest the following citation style:*\n",
    "* Keyword describing resource: <i>Journal</i> (year), <b>volume</b>, pages (link to resource) \n",
    "\n",
    "*Example:*\n",
    "* ChEMBL web services: [<i>Nucleic Acids Res.</i> (2015), <b>43</b>, 612-620](https://academic.oup.com/nar/article/43/W1/W612/2467881) "
   ]
  },
  {
   "cell_type": "markdown",
   "metadata": {},
   "source": [
    "## Theory"
   ]
  },
  {
   "cell_type": "markdown",
   "metadata": {},
   "source": [
    "### Diffusion Models"
   ]
  },
  {
   "cell_type": "markdown",
   "metadata": {},
   "source": [
    "Diffusion models are cool"
   ]
  },
  {
   "cell_type": "markdown",
   "metadata": {},
   "source": [
    "![ChEMBL web service schema](./images/example_plot.png)\n",
    "\n",
    "*Figure 1:* \n",
    "Describe figure and add reference.\n",
    "Figure and description taken from: [<i>Nucleic Acids Res.</i> (2015), <b>43</b>, 612-620](https://academic.oup.com/nar/article/43/W1/W612/2467881)."
   ]
  },
  {
   "cell_type": "markdown",
   "metadata": {},
   "source": [
    "<div class=\"alert alert-block alert-info\">\n",
    "    \n",
    "<b>Figures</b>: Place images in the <code>images/</code> folder and include them using Markdown <code>![Figure title](images/some_figure.jpg)</code>. Add a figure caption in the format shown in the example.\n",
    "\n",
    "</div>"
   ]
  },
  {
   "cell_type": "markdown",
   "metadata": {},
   "source": [
    "### Compound activity measures"
   ]
  },
  {
   "cell_type": "markdown",
   "metadata": {},
   "source": [
    "Lorem ipsum dolor sit amet, consetetur sadipscing elitr, sed diam nonumy eirmod tempor invidunt ut labore et dolore magna aliquyam erat, sed diam voluptua. At vero eos et accusam et justo duo dolores et ea rebum. Stet clita kasd gubergren, no sea takimata sanctus est Lorem ipsum dolor sit amet. Lorem ipsum dolor sit amet, consetetur sadipscing elitr, sed diam nonumy eirmod tempor invidunt ut labore et dolore magna aliquyam erat, sed diam voluptua. At vero eos et accusam et justo duo dolores et ea rebum. Stet clita kasd gubergren, no sea takimata sanctus est Lorem ipsum dolor sit amet."
   ]
  },
  {
   "cell_type": "markdown",
   "metadata": {},
   "source": [
    "$pIC_{50} = -log_{10}(IC_{50}*10^{-9})= 9-log_{10}(IC_{50}) $"
   ]
  },
  {
   "cell_type": "markdown",
   "metadata": {},
   "source": [
    "<div class=\"alert alert-block alert-info\">\n",
    "    \n",
    "<b>Formulas</b>: Please use LaTeX to format formulas.\n",
    "</div>"
   ]
  },
  {
   "cell_type": "markdown",
   "metadata": {},
   "source": [
    "If you place links, please link descriptive words.\n",
    "\n",
    "> __Yes__: [ChEMBL](https://www.ebi.ac.uk/chembl/) is a manually curated database of bioactive molecules\n",
    "\n",
    "> __No__: ChEMBL ([here](https://www.ebi.ac.uk/chembl/)) is a manually curated database of bioactive molecules"
   ]
  },
  {
   "cell_type": "markdown",
   "metadata": {},
   "source": [
    "<div class=\"alert alert-block alert-info\">\n",
    "    \n",
    "<b>Links</b>: If you place links, please link descriptive words.\n",
    "\n",
    "</div>"
   ]
  },
  {
   "cell_type": "markdown",
   "metadata": {},
   "source": [
    "## Practical"
   ]
  },
  {
   "cell_type": "markdown",
   "metadata": {},
   "source": [
    "In the practical part we will use NeuralPLexer to predict a sample structure and the complex (??)"
   ]
  },
  {
   "cell_type": "markdown",
   "metadata": {},
   "source": [
    "<div class=\"alert alert-block alert-info\">\n",
    "\n",
    "<b>Sync section titles with TOC</b>: Please make sure that all section titles in the <i>Practical</i> section are synced with the bullet point list provided in the <i>Aim of this talktorial</i> > <i>Contents in Practical</i> section.\n",
    "\n",
    "</div>"
   ]
  },
  {
   "cell_type": "markdown",
   "metadata": {},
   "source": [
    "<div class=\"alert alert-block alert-info\">\n",
    "    \n",
    "<b>Beware of section levels</b>: Please check if you are using the correct subsection levels. The section <i>Practical</i> is written in Markdown as <code>## Practical</code>, so every subsection within <i>Practical</i> is <code>###</code> or lower.\n",
    "\n",
    "</div>"
   ]
  },
  {
   "cell_type": "markdown",
   "metadata": {},
   "source": [
    "### Installation\n",
    "For GPU version see also: link to docker image\n",
    "For online cpu version follow the steps below:"
   ]
  },
  {
   "cell_type": "markdown",
   "metadata": {},
   "source": [
    "since neuralplexer is mostly a command line tool, we can use it in a jupyter notebook."
   ]
  },
  {
   "cell_type": "code",
   "execution_count": null,
   "metadata": {},
   "outputs": [
    {
     "name": "stderr",
     "output_type": "stream",
     "text": [
      "fatal: destination path 'NeuralPLexer' already exists and is not an empty directory.\n"
     ]
    },
    {
     "name": "stdout",
     "output_type": "stream",
     "text": [
      "Executing: cd NeuralPLexer\n",
      "Command completed successfully\n",
      "\n",
      "Executing: conda config --add channels nvidia\n"
     ]
    },
    {
     "name": "stderr",
     "output_type": "stream",
     "text": [
      "Warning: 'nvidia' already in 'channels' list, moving to the top\n"
     ]
    },
    {
     "name": "stdout",
     "output_type": "stream",
     "text": [
      "Command completed successfully\n",
      "\n",
      "Executing: conda config --add channels pytorch\n"
     ]
    },
    {
     "name": "stderr",
     "output_type": "stream",
     "text": [
      "Warning: 'pytorch' already in 'channels' list, moving to the top\n"
     ]
    },
    {
     "name": "stdout",
     "output_type": "stream",
     "text": [
      "Command completed successfully\n",
      "\n",
      "Executing: conda create -n neuralplexer_dev -y\n",
      "Channels:\n",
      " - pytorch\n",
      " - nvidia\n",
      " - defaults\n",
      " - conda-forge\n",
      "Platform: osx-64\n",
      "Collecting package metadata (repodata.json): ...working... done\n",
      "Solving environment: ...working... done\n",
      "\n",
      "## Package Plan ##\n",
      "\n",
      "  environment location: /Users/maxb/miniconda/envs/neuralplexer_dev\n",
      "\n",
      "\n",
      "\n",
      "Preparing transaction: ...working... done\n",
      "Verifying transaction: ...working... done\n",
      "Executing transaction: ...working... done\n",
      "#\n",
      "# To activate this environment, use\n",
      "#\n",
      "#     $ conda activate neuralplexer_dev\n",
      "#\n",
      "# To deactivate an active environment, use\n",
      "#\n",
      "#     $ conda deactivate\n",
      "\n",
      "Command completed successfully\n",
      "\n",
      "Executing: conda run -n neuralplexer_dev conda install -y pytorch torchvision cpuonly -c pytorch\n",
      "Channels:\n",
      " - pytorch\n",
      " - nvidia\n",
      " - defaults\n",
      " - conda-forge\n",
      "Platform: osx-64\n",
      "Collecting package metadata (repodata.json): ...working... done\n",
      "Solving environment: ...working... done\n",
      "\n",
      "## Package Plan ##\n",
      "\n",
      "  environment location: /Users/maxb/miniconda/envs/neuralplexer_dev\n",
      "\n",
      "  added / updated specs:\n",
      "    - cpuonly\n",
      "    - pytorch\n",
      "    - torchvision\n",
      "\n",
      "\n",
      "The following NEW packages will be INSTALLED:\n",
      "\n",
      "  blas               pkgs/main/osx-64::blas-1.0-mkl \n",
      "  brotli-python      pkgs/main/osx-64::brotli-python-1.0.9-py312hcec6c5f_8 \n",
      "  bzip2              pkgs/main/osx-64::bzip2-1.0.8-h6c40b1e_6 \n",
      "  ca-certificates    pkgs/main/osx-64::ca-certificates-2024.9.24-hecd8cb5_0 \n",
      "  certifi            pkgs/main/osx-64::certifi-2024.8.30-py312hecd8cb5_0 \n",
      "  charset-normalizer pkgs/main/noarch::charset-normalizer-3.3.2-pyhd3eb1b0_0 \n",
      "  cpuonly            pytorch/noarch::cpuonly-2.0-0 \n",
      "  filelock           pkgs/main/osx-64::filelock-3.13.1-py312hecd8cb5_0 \n",
      "  freetype           conda-forge/osx-64::freetype-2.12.1-h60636b9_2 \n",
      "  idna               pkgs/main/osx-64::idna-3.7-py312hecd8cb5_0 \n",
      "  intel-openmp       pkgs/main/osx-64::intel-openmp-2023.1.0-ha357a0b_43548 \n",
      "  jinja2             pkgs/main/osx-64::jinja2-3.1.4-py312hecd8cb5_1 \n",
      "  lcms2              conda-forge/osx-64::lcms2-2.16-ha2f27b4_0 \n",
      "  lerc               conda-forge/osx-64::lerc-4.0.0-hb486fe8_0 \n",
      "  libcxx             conda-forge/osx-64::libcxx-19.1.4-hf95d169_0 \n",
      "  libdeflate         conda-forge/osx-64::libdeflate-1.22-h00291cd_0 \n",
      "  libexpat           conda-forge/osx-64::libexpat-2.6.4-h240833e_0 \n",
      "  libffi             pkgs/main/osx-64::libffi-3.4.4-hecd8cb5_1 \n",
      "  libjpeg-turbo      pkgs/main/osx-64::libjpeg-turbo-3.0.3-h46256e1_0 \n",
      "  libpng             conda-forge/osx-64::libpng-1.6.44-h4b8f8c9_0 \n",
      "  libsqlite          conda-forge/osx-64::libsqlite-3.47.0-h2f8c449_1 \n",
      "  libtiff            conda-forge/osx-64::libtiff-4.7.0-h583c2ba_1 \n",
      "  libwebp-base       conda-forge/osx-64::libwebp-base-1.4.0-h10d778d_0 \n",
      "  libxcb             conda-forge/osx-64::libxcb-1.17.0-hf1f96e2_0 \n",
      "  libzlib            conda-forge/osx-64::libzlib-1.3.1-hd23fc13_2 \n",
      "  markupsafe         pkgs/main/osx-64::markupsafe-2.1.3-py312h6c40b1e_0 \n",
      "  mkl                pkgs/main/osx-64::mkl-2023.1.0-h8e150cf_43560 \n",
      "  mkl-service        pkgs/main/osx-64::mkl-service-2.4.0-py312h6c40b1e_1 \n",
      "  mkl_fft            pkgs/main/osx-64::mkl_fft-1.3.8-py312h6c40b1e_0 \n",
      "  mkl_random         pkgs/main/osx-64::mkl_random-1.2.4-py312ha357a0b_0 \n",
      "  mpmath             pkgs/main/osx-64::mpmath-1.3.0-py312hecd8cb5_0 \n",
      "  ncurses            conda-forge/osx-64::ncurses-6.5-hf036a51_1 \n",
      "  networkx           pkgs/main/osx-64::networkx-3.3-py312hecd8cb5_0 \n",
      "  numpy              pkgs/main/osx-64::numpy-1.26.4-py312hac873b0_0 \n",
      "  numpy-base         pkgs/main/osx-64::numpy-base-1.26.4-py312h6f81483_0 \n",
      "  openjpeg           pkgs/main/osx-64::openjpeg-2.5.2-hbf2204d_0 \n",
      "  openssl            conda-forge/osx-64::openssl-3.4.0-hd471939_0 \n",
      "  pillow             conda-forge/osx-64::pillow-11.0.0-py312h66fe14f_0 \n",
      "  pip                pkgs/main/osx-64::pip-24.2-py312hecd8cb5_0 \n",
      "  pthread-stubs      pkgs/main/osx-64::pthread-stubs-0.3-hdd91f34_1 \n",
      "  pysocks            pkgs/main/osx-64::pysocks-1.7.1-py312hecd8cb5_0 \n",
      "  python             conda-forge/osx-64::python-3.12.7-h8f8b54e_0_cpython \n",
      "  python_abi         conda-forge/osx-64::python_abi-3.12-5_cp312 \n",
      "  pytorch            pytorch/osx-64::pytorch-2.2.2-py3.12_0 \n",
      "  pytorch-mutex      pytorch/noarch::pytorch-mutex-1.0-cpu \n",
      "  pyyaml             pkgs/main/osx-64::pyyaml-6.0.2-py312h46256e1_0 \n",
      "  readline           pkgs/main/osx-64::readline-8.2-hca72f7f_0 \n",
      "  requests           pkgs/main/osx-64::requests-2.32.3-py312hecd8cb5_1 \n",
      "  setuptools         pkgs/main/osx-64::setuptools-75.1.0-py312hecd8cb5_0 \n",
      "  sympy              pkgs/main/osx-64::sympy-1.13.2-py312hecd8cb5_0 \n",
      "  tbb                pkgs/main/osx-64::tbb-2021.8.0-ha357a0b_0 \n",
      "  tk                 conda-forge/osx-64::tk-8.6.13-h1abcd95_1 \n",
      "  torchvision        pytorch/osx-64::torchvision-0.17.2-py312_cpu \n",
      "  typing_extensions  pkgs/main/osx-64::typing_extensions-4.11.0-py312hecd8cb5_0 \n",
      "  tzdata             pkgs/main/noarch::tzdata-2024b-h04d1e81_0 \n",
      "  urllib3            pkgs/main/osx-64::urllib3-2.2.3-py312hecd8cb5_0 \n",
      "  wheel              pkgs/main/osx-64::wheel-0.44.0-py312hecd8cb5_0 \n",
      "  xorg-libxau        conda-forge/osx-64::xorg-libxau-1.0.11-h00291cd_1 \n",
      "  xorg-libxdmcp      conda-forge/osx-64::xorg-libxdmcp-1.1.5-h00291cd_0 \n",
      "  xz                 pkgs/main/osx-64::xz-5.4.6-h6c40b1e_1 \n",
      "  yaml               pkgs/main/osx-64::yaml-0.2.5-haf1e3a3_0 \n",
      "  zstd               conda-forge/osx-64::zstd-1.5.6-h915ae27_0 \n",
      "\n",
      "\n",
      "\n",
      "Downloading and Extracting Packages: ...working... done\n",
      "Preparing transaction: ...working... done\n",
      "Verifying transaction: ...working... done\n",
      "Executing transaction: ...working... done\n",
      "\n",
      "Command completed successfully\n",
      "\n",
      "Executing: conda run -n neuralplexer_dev conda env update -f./NeuralPLexer/environment_dev.yaml\n",
      "Channels:\n",
      " - nvidia\n",
      " - pytorch\n",
      " - pytorch3d\n",
      " - pyg\n",
      " - bioconda\n",
      " - conda-forge\n",
      " - defaults\n",
      "Platform: osx-64\n",
      "Collecting package metadata (repodata.json): ...working... done\n",
      "Solving environment: ...working... done\n",
      "\n",
      "Downloading and Extracting Packages: ...working... done\n",
      "Preparing transaction: ...working... done\n",
      "Verifying transaction: ...working... done\n",
      "Executing transaction: ...working... done\n",
      "Installing pip dependencies: ...working... Ran pip subprocess with arguments:\n",
      "['/Users/maxb/miniconda/envs/neuralplexer_dev/bin/python', '-m', 'pip', 'install', '-U', '-r', '/Users/maxb/Code/CADDSeminar_2024/Topic2a_NeuralPlexer/NeuralPLexer/condaenv.uhenj53x.requirements.txt', '--exists-action=b']\n",
      "Pip subprocess output:\n",
      "\n",
      "done\n",
      "#\n",
      "# To activate this environment, use\n",
      "#\n",
      "#     $ conda activate neuralplexer_dev\n",
      "#\n",
      "# To deactivate an active environment, use\n",
      "#\n",
      "#     $ conda deactivate\n",
      "\n",
      "\n",
      "Command completed successfully\n",
      "\n",
      "Executing: conda activate neuralplexer_dev\n",
      "Error executing command: conda activate neuralplexer_dev\n",
      "Error message: Command 'conda activate neuralplexer_dev' returned non-zero exit status 1.\n"
     ]
    },
    {
     "name": "stderr",
     "output_type": "stream",
     "text": [
      "\n",
      "CondaError: Run 'conda init' before 'conda activate'\n",
      "\n"
     ]
    },
    {
     "data": {
      "text/plain": [
       "False"
      ]
     },
     "execution_count": 6,
     "metadata": {},
     "output_type": "execute_result"
    }
   ],
   "source": [
    "import subprocess\n",
    "import os\n",
    "os.system('git clone https://github.com/zrqiao/NeuralPLexer.git')\n",
    "# os.system('echo y | cd NeuralPLexer && conda config --add channels nvidia && conda create -n neuralplexer_dev && conda activate neuralplexer_dev && conda install pytorch torchvision -c pytorch &&conda env update -f environment_dev.yaml && pip install -e .')\n",
    "# os.system('conda activate neuralplexer_dev && python -m ipykernel install --user --name=neuralplexer_dev_kernel')\n",
    "\n",
    "def setup_neuralplexer():\n",
    "    commands = [\n",
    "        'cd NeuralPLexer',\n",
    "        'conda config --add channels nvidia',\n",
    "        'conda config --add channels pytorch',\n",
    "        'conda create -n neuralplexer_dev -y',  # -y flag automatically answers yes\n",
    "        'conda run -n neuralplexer_dev conda install -y pytorch torchvision cpuonly -c pytorch',\n",
    "        'conda run -n neuralplexer_dev conda env update -f./NeuralPLexer/environment_dev.yaml',\n",
    "        'conda activate neuralplexer_dev',\n",
    "        'export CMAKE_PREFIX_PATH=${CONDA_PREFIX:-\"$(dirname $(which conda))/../\"}',\n",
    "        'export TORCH_CUDA_ARCH_LIST=\"3.5;5.0;6.0;6.1;7.0;7.5;8.0;8.6\"',\n",
    "        \"pip install 'pytorch-lightning<2.0.0'\",\n",
    "        \"pip install 'torch-scatter'\", \n",
    "        \"pip install 'fairscale'\", \n",
    "        \"pip install 'mendeleev'\", \n",
    "        \"pip install git+https://github.com/NVIDIA/dllogger.git@0540a43971f4a8a16693a9de9de73c1072020769\",\n",
    "        \"pip install git+https://github.com/aqlaboratory/openfold.git@103d0370ad9ce07579c20fa9c889a632f9b16618\",\n",
    "        \"pip install git+https://github.com/zrqiao/power_spherical.git@290b1630c5f84e3bb0d61711046edcf6e47200d4\", \n",
    "        \"pip install 'fair-esm'\",\n",
    "        \"pip install 'seaborn'\",\n",
    "        \"pip install 'dl-lite'\",\n",
    "        'conda run -n neuralplexer_dev pip install -e .',\n",
    "        'python -m ipykernel install --user --name=neuralplexer_dev_kernel',\n",
    "    ]\n",
    "    \n",
    "    for cmd in commands:\n",
    "        try:\n",
    "            print(f\"Executing: {cmd}\")\n",
    "            print(f\"Command completed successfully\\n\")\n",
    "        except subprocess.CalledProcessError as e:\n",
    "            print(f\"Error executing command: {cmd}\")\n",
    "            print(f\"Error message: {str(e)}\")\n",
    "            return False\n",
    "    \n",
    "    print(\"Setup completed successfully!\")\n",
    "    print(\"To activate the environment, run: conda activate neuralplexer_dev\")\n",
    "    return True\n",
    "\n",
    "setup_neuralplexer()"
   ]
  },
  {
   "cell_type": "markdown",
   "metadata": {},
   "source": [
    "Now we have to switch the notebook kernel to the one we just created.\n",
    "\n",
    "in the top right corner of the notebook, click on the drop down menu and select the kernel you just created (neuralplexer_dev_kernel).\n",
    "\n"
   ]
  },
  {
   "cell_type": "markdown",
   "metadata": {},
   "source": [
    "Please Note that Neuralplexer is a command line tool. it will be executed from the command line. \n",
    "Therefore if you want to follow the steps from this notebook you need to open a terminal and execute the commands from there."
   ]
  },
  {
   "cell_type": "markdown",
   "metadata": {},
   "source": [
    "### Running NeuralPLexer mode1"
   ]
  },
  {
   "cell_type": "markdown",
   "metadata": {},
   "source": []
  },
  {
   "cell_type": "markdown",
   "metadata": {},
   "source": [
    "_In this section we will use NeuralPLexer to infer the protein structure of a given sequence._"
   ]
  },
  {
   "cell_type": "code",
   "execution_count": 1,
   "metadata": {},
   "outputs": [
    {
     "ename": "ModuleNotFoundError",
     "evalue": "No module named 'py3Dmol'",
     "output_type": "error",
     "traceback": [
      "\u001b[0;31m---------------------------------------------------------------------------\u001b[0m",
      "\u001b[0;31mModuleNotFoundError\u001b[0m                       Traceback (most recent call last)",
      "Cell \u001b[0;32mIn[1], line 4\u001b[0m\n\u001b[1;32m      2\u001b[0m \u001b[38;5;28;01mfrom\u001b[39;00m \u001b[38;5;21;01mrdkit\u001b[39;00m\u001b[38;5;21;01m.\u001b[39;00m\u001b[38;5;21;01mChem\u001b[39;00m \u001b[38;5;28;01mimport\u001b[39;00m AllChem\n\u001b[1;32m      3\u001b[0m \u001b[38;5;28;01mfrom\u001b[39;00m \u001b[38;5;21;01mBio\u001b[39;00m \u001b[38;5;28;01mimport\u001b[39;00m PDB\n\u001b[0;32m----> 4\u001b[0m \u001b[38;5;28;01mimport\u001b[39;00m \u001b[38;5;21;01mpy3Dmol\u001b[39;00m\n\u001b[1;32m      5\u001b[0m \u001b[38;5;28;01mimport\u001b[39;00m \u001b[38;5;21;01mtempfile\u001b[39;00m\n\u001b[1;32m      6\u001b[0m \u001b[38;5;28;01mimport\u001b[39;00m \u001b[38;5;21;01mos\u001b[39;00m\n",
      "\u001b[0;31mModuleNotFoundError\u001b[0m: No module named 'py3Dmol'"
     ]
    }
   ],
   "source": [
    "from rdkit import Chem\n",
    "from rdkit.Chem import AllChem\n",
    "from Bio import PDB\n",
    "import py3Dmol\n",
    "import tempfile\n",
    "import os\n",
    "import base64\n",
    "from pathlib import Path\n",
    "from IPython.display import display\n",
    "\n",
    "def load_ligands(sdf_file):\n",
    "    \"\"\"Load ligands from SDF file.\"\"\"\n",
    "    if not os.path.exists(sdf_file):\n",
    "        raise FileNotFoundError(f\"SDF file not found: {sdf_file}\")\n",
    "    \n",
    "    suppl = Chem.SDMolSupplier(sdf_file)\n",
    "    molecules = [mol for mol in suppl if mol is not None]\n",
    "    \n",
    "    if not molecules:\n",
    "        raise ValueError(f\"No valid molecules found in {sdf_file}\")\n",
    "    \n",
    "    return molecules\n",
    "\n",
    "def load_proteins(pdb_file):\n",
    "    \"\"\"Load proteins from PDB file.\"\"\"\n",
    "    if not os.path.exists(pdb_file):\n",
    "        raise FileNotFoundError(f\"PDB file not found: {pdb_file}\")\n",
    "    \n",
    "    parser = PDB.PDBParser(QUIET=True)\n",
    "    try:\n",
    "        structure = parser.get_structure('proteins', pdb_file)\n",
    "        models = list(structure.get_models())\n",
    "        \n",
    "        if not models:\n",
    "            raise ValueError(f\"No valid models found in {pdb_file}\")\n",
    "        \n",
    "        return models\n",
    "    except Exception as e:\n",
    "        raise ValueError(f\"Error parsing PDB file: {str(e)}\")\n",
    "\n",
    "def visualize_pair(protein_model, ligand, index, output_dir='output'):\n",
    "    \"\"\"\n",
    "    Visualize a protein-ligand pair in Jupyter notebook.\n",
    "    Returns the viewer object for display.\n",
    "    \"\"\"\n",
    "    # Create output directory if it doesn't exist\n",
    "    Path(output_dir).mkdir(parents=True, exist_ok=True)\n",
    "    \n",
    "    # Add hydrogens to ligand\n",
    "    ligand = Chem.AddHs(ligand)\n",
    "    \n",
    "    # Create temporary files\n",
    "    temp_pdb = tempfile.NamedTemporaryFile(suffix='.pdb', mode='w', delete=False)\n",
    "    temp_lig = tempfile.NamedTemporaryFile(suffix='.pdb', mode='w', delete=False)\n",
    "    \n",
    "    try:\n",
    "        # Save protein\n",
    "        io = PDB.PDBIO()\n",
    "        io.set_structure(protein_model)\n",
    "        io.save(temp_pdb.name)\n",
    "        \n",
    "        # Prepare and save ligand\n",
    "        try:\n",
    "            AllChem.EmbedMolecule(ligand, randomSeed=42)\n",
    "            AllChem.MMFFOptimizeMolecule(ligand)\n",
    "        except:\n",
    "            print(f\"Warning: Could not generate 3D coordinates for ligand {index}\")\n",
    "            \n",
    "        pdb = Chem.MolToPDBBlock(ligand)\n",
    "        temp_lig.write(pdb)\n",
    "        temp_lig.flush()\n",
    "        \n",
    "        # Create viewer\n",
    "        view = py3Dmol.view(width=800, height=600)\n",
    "        \n",
    "        # Load structures\n",
    "        with open(temp_pdb.name, 'r') as f:\n",
    "            view.addModel(f.read(), \"pdb\")\n",
    "        with open(temp_lig.name, 'r') as f:\n",
    "            view.addModel(f.read(), \"pdb\")\n",
    "        \n",
    "        # Style the visualization\n",
    "        view.setStyle({'model': 0}, {\n",
    "            'cartoon': {'color': 'spectrum'},\n",
    "            'surface': {'opacity': 0.7}\n",
    "        })\n",
    "        view.setStyle({'model': 1}, {\n",
    "            'stick': {'colorscheme': 'elementColors'},\n",
    "            'sphere': {'scale': 0.3}\n",
    "        })\n",
    "        \n",
    "        # Set view options\n",
    "        view.zoomTo()\n",
    "        view.setBackgroundColor('white')\n",
    "        \n",
    "        return view\n",
    "        \n",
    "    finally:\n",
    "        # Clean up temporary files\n",
    "        for temp_file in [temp_pdb, temp_lig]:\n",
    "            try:\n",
    "                os.unlink(temp_file.name)\n",
    "            except:\n",
    "                pass\n",
    "\n",
    "def main():\n",
    "    try:\n",
    "        # Create output directory\n",
    "        output_dir = 'visualization_output'\n",
    "        Path(output_dir).mkdir(parents=True, exist_ok=True)\n",
    "        \n",
    "        # Load molecules\n",
    "        ligands = load_ligands('./data/results_trajectory_6np5/_lig.sdf')\n",
    "        proteins = load_proteins('./data/results_trajectory_6np5/_prot.pdb')\n",
    "\n",
    "        #flex receptor\n",
    "        #ligands = load_ligands('./data/results_flexible_receptor_6np5/lig_ref.sdf')\n",
    "        #proteins = load_proteins('./data/results_flexible_receptor_6np5/prot_all.pdb')\n",
    "\n",
    "        #rigid receptor\n",
    "        #ligands = load_ligands('./data/results_rigid_receptor_6np5/lig_rank1_plddt0.6683360.sdf')\n",
    "        #proteins = load_proteins('./data/results_rigid_receptor_6np5/prot_all.pdb')\n",
    "\n",
    "        # Verify we have equal numbers of proteins and ligands\n",
    "        if len(ligands) != len(proteins):\n",
    "            raise ValueError(f\"Number of proteins ({len(proteins)}) and ligands ({len(ligands)}) must match\")\n",
    "        \n",
    "        # Process each pair\n",
    "        for i, (protein, ligand) in enumerate(zip(proteins, ligands)):\n",
    "            print(f\"Processing pair {i+1}/{len(proteins)}\")\n",
    "            try:\n",
    "                view = visualize_pair(protein, ligand, i+1, output_dir=output_dir)\n",
    "                display(view)\n",
    "            except Exception as e:\n",
    "                print(f\"Error processing pair {i+1}: {str(e)}\")\n",
    "                continue\n",
    "            \n",
    "    except Exception as e:\n",
    "        print(f\"An error occurred: {str(e)}\")\n",
    "\n",
    "if __name__ == \"__main__\":\n",
    "    main()"
   ]
  },
  {
   "cell_type": "code",
   "execution_count": null,
   "metadata": {},
   "outputs": [],
   "source": []
  },
  {
   "cell_type": "code",
   "execution_count": null,
   "metadata": {},
   "outputs": [],
   "source": [
    "import os\n",
    "\n"
   ]
  },
  {
   "cell_type": "code",
   "execution_count": null,
   "metadata": {},
   "outputs": [],
   "source": [
    "#NO CUDA!\n",
    "#NOT FINAL\n",
    "os.system(\n",
    "    \"\"\"neuralplexer-inference \n",
    "            --task batched_structure_sampling \n",
    "            --sampler VPSDE \n",
    "            --input-receptor /media/max/2de90687-8e6f-4428-b0db-8ef542f5ffa7/neuralplexermodels_downstream_datasets_predictions/downstream_test_datasets/pdbbind_tasks/binding_site_recovery/6V5LA/protein.pdb \n",
    "            --input-ligand /media/max/2de90687-8e6f-4428-b0db-8ef542f5ffa7/neuralplexermodels_downstream_datasets_predictions/downstream_test_datasets/pdbbind_tasks/binding_site_recovery/6V5LA/ligand.sdf \n",
    "            --model-checkpoint /media/max/2de90687-8e6f-4428-b0db-8ef542f5ffa7/neuralplexermodels_downstream_datasets_predictions/models/complex_structure_prediction.ckpt \n",
    "            --out-path ./out \n",
    "            --separate-pdb \n",
    "            --n-samples 8 \n",
    "            --chunk-size 1 \n",
    "            --num-steps=30/media/max/2de90687-8e6f-4428-b0db-8ef542f5ffa7/docker\"\"\"\n",
    ")\n"
   ]
  },
  {
   "cell_type": "code",
   "execution_count": 15,
   "metadata": {},
   "outputs": [],
   "source": [
    "import os\n",
    "from openbabel import pybel\n",
    "import subprocess"
   ]
  },
  {
   "cell_type": "markdown",
   "metadata": {},
   "source": [
    "## Docking comparision\n",
    "Within this section, we will compare NeuralPLexer with convential docking. We will use the docking tool TODO, that performs rigid-body-flexible-ligand docking. To make a *fair* comparision, we will (1) run templated NeuralPLexer task that will use a given protein strcuture - here the structure of the input sequence - as template. (2) we will run docking on that structure, and (3) calculcate the RMSD between the respective resulting ligand conformation with the cocrystallized one (`6np5`)."
   ]
  },
  {
   "cell_type": "markdown",
   "metadata": {},
   "source": [
    "### Templated NeuralPLexer"
   ]
  },
  {
   "cell_type": "code",
   "execution_count": 9,
   "metadata": {},
   "outputs": [],
   "source": [
    "import warnings\n",
    "warnings.filterwarnings(\"ignore\")"
   ]
  },
  {
   "cell_type": "code",
   "execution_count": 11,
   "metadata": {},
   "outputs": [
    {
     "name": "stderr",
     "output_type": "stream",
     "text": [
      "/home/katharina/miniforge3/envs/neuralplexer_dev/lib/python3.10/site-packages/lightning_fabric/utilities/cloud_io.py:51: FutureWarning: You are using `torch.load` with `weights_only=False` (the current default value), which uses the default pickle module implicitly. It is possible to construct malicious pickle data which will execute arbitrary code during unpickling (See https://github.com/pytorch/pytorch/blob/main/SECURITY.md#untrusted-models for more details). In a future release, the default value for `weights_only` will be flipped to `True`. This limits the functions that could be executed during unpickling. Arbitrary objects will no longer be allowed to be loaded via this mode unless they are explicitly allowlisted by the user via `torch.serialization.add_safe_globals`. We recommend you start setting `weights_only=True` for any use case where you don't have full control of the loaded file. Please open an issue on GitHub for any issues related to this experimental feature.\n",
      "  return torch.load(f, map_location=map_location)  # type: ignore[arg-type]\n",
      "Lightning automatically upgraded your loaded checkpoint from v1.7.0 to v1.9.5. To apply the upgrade to your files permanently, run `python -m pytorch_lightning.utilities.upgrade_checkpoint --file data/models/complex_structure_prediction.ckpt`\n",
      "/home/katharina/cadd_seminar/CADDSeminar_2024/Topic2a_NeuralPlexer/NeuralPLexer/neuralplexer/model/mht_encoder.py:268: FutureWarning: You are using `torch.load` with `weights_only=False` (the current default value), which uses the default pickle module implicitly. It is possible to construct malicious pickle data which will execute arbitrary code during unpickling (See https://github.com/pytorch/pytorch/blob/main/SECURITY.md#untrusted-models for more details). In a future release, the default value for `weights_only` will be flipped to `True`. This limits the functions that could be executed during unpickling. Arbitrary objects will no longer be allowed to be loaded via this mode unless they are explicitly allowlisted by the user via `torch.serialization.add_safe_globals`. We recommend you start setting `weights_only=True` for any use case where you don't have full control of the loaded file. Please open an issue on GitHub for any issues related to this experimental feature.\n",
      "  for k, v in torch.load(ligand_model_config.checkpoint_file)[\n"
     ]
    },
    {
     "name": "stdout",
     "output_type": "stream",
     "text": [
      "Could not load pretrained MHT weights, skipping\n"
     ]
    },
    {
     "name": "stderr",
     "output_type": "stream",
     "text": [
      "/home/katharina/miniforge3/envs/neuralplexer_dev/lib/python3.10/site-packages/pytorch_lightning/core/saving.py:251: UserWarning: Found keys that are in the model state dict but not in the checkpoint: ['atnum2vdw_uff', 'plm.embed_tokens.weight', 'plm.layers.0.self_attn.k_proj.weight', 'plm.layers.0.self_attn.k_proj.bias', 'plm.layers.0.self_attn.v_proj.weight', 'plm.layers.0.self_attn.v_proj.bias', 'plm.layers.0.self_attn.q_proj.weight', 'plm.layers.0.self_attn.q_proj.bias', 'plm.layers.0.self_attn.out_proj.weight', 'plm.layers.0.self_attn.out_proj.bias', 'plm.layers.0.self_attn.rot_emb.inv_freq', 'plm.layers.0.self_attn_layer_norm.weight', 'plm.layers.0.self_attn_layer_norm.bias', 'plm.layers.0.fc1.weight', 'plm.layers.0.fc1.bias', 'plm.layers.0.fc2.weight', 'plm.layers.0.fc2.bias', 'plm.layers.0.final_layer_norm.weight', 'plm.layers.0.final_layer_norm.bias', 'plm.layers.1.self_attn.k_proj.weight', 'plm.layers.1.self_attn.k_proj.bias', 'plm.layers.1.self_attn.v_proj.weight', 'plm.layers.1.self_attn.v_proj.bias', 'plm.layers.1.self_attn.q_proj.weight', 'plm.layers.1.self_attn.q_proj.bias', 'plm.layers.1.self_attn.out_proj.weight', 'plm.layers.1.self_attn.out_proj.bias', 'plm.layers.1.self_attn.rot_emb.inv_freq', 'plm.layers.1.self_attn_layer_norm.weight', 'plm.layers.1.self_attn_layer_norm.bias', 'plm.layers.1.fc1.weight', 'plm.layers.1.fc1.bias', 'plm.layers.1.fc2.weight', 'plm.layers.1.fc2.bias', 'plm.layers.1.final_layer_norm.weight', 'plm.layers.1.final_layer_norm.bias', 'plm.layers.2.self_attn.k_proj.weight', 'plm.layers.2.self_attn.k_proj.bias', 'plm.layers.2.self_attn.v_proj.weight', 'plm.layers.2.self_attn.v_proj.bias', 'plm.layers.2.self_attn.q_proj.weight', 'plm.layers.2.self_attn.q_proj.bias', 'plm.layers.2.self_attn.out_proj.weight', 'plm.layers.2.self_attn.out_proj.bias', 'plm.layers.2.self_attn.rot_emb.inv_freq', 'plm.layers.2.self_attn_layer_norm.weight', 'plm.layers.2.self_attn_layer_norm.bias', 'plm.layers.2.fc1.weight', 'plm.layers.2.fc1.bias', 'plm.layers.2.fc2.weight', 'plm.layers.2.fc2.bias', 'plm.layers.2.final_layer_norm.weight', 'plm.layers.2.final_layer_norm.bias', 'plm.layers.3.self_attn.k_proj.weight', 'plm.layers.3.self_attn.k_proj.bias', 'plm.layers.3.self_attn.v_proj.weight', 'plm.layers.3.self_attn.v_proj.bias', 'plm.layers.3.self_attn.q_proj.weight', 'plm.layers.3.self_attn.q_proj.bias', 'plm.layers.3.self_attn.out_proj.weight', 'plm.layers.3.self_attn.out_proj.bias', 'plm.layers.3.self_attn.rot_emb.inv_freq', 'plm.layers.3.self_attn_layer_norm.weight', 'plm.layers.3.self_attn_layer_norm.bias', 'plm.layers.3.fc1.weight', 'plm.layers.3.fc1.bias', 'plm.layers.3.fc2.weight', 'plm.layers.3.fc2.bias', 'plm.layers.3.final_layer_norm.weight', 'plm.layers.3.final_layer_norm.bias', 'plm.layers.4.self_attn.k_proj.weight', 'plm.layers.4.self_attn.k_proj.bias', 'plm.layers.4.self_attn.v_proj.weight', 'plm.layers.4.self_attn.v_proj.bias', 'plm.layers.4.self_attn.q_proj.weight', 'plm.layers.4.self_attn.q_proj.bias', 'plm.layers.4.self_attn.out_proj.weight', 'plm.layers.4.self_attn.out_proj.bias', 'plm.layers.4.self_attn.rot_emb.inv_freq', 'plm.layers.4.self_attn_layer_norm.weight', 'plm.layers.4.self_attn_layer_norm.bias', 'plm.layers.4.fc1.weight', 'plm.layers.4.fc1.bias', 'plm.layers.4.fc2.weight', 'plm.layers.4.fc2.bias', 'plm.layers.4.final_layer_norm.weight', 'plm.layers.4.final_layer_norm.bias', 'plm.layers.5.self_attn.k_proj.weight', 'plm.layers.5.self_attn.k_proj.bias', 'plm.layers.5.self_attn.v_proj.weight', 'plm.layers.5.self_attn.v_proj.bias', 'plm.layers.5.self_attn.q_proj.weight', 'plm.layers.5.self_attn.q_proj.bias', 'plm.layers.5.self_attn.out_proj.weight', 'plm.layers.5.self_attn.out_proj.bias', 'plm.layers.5.self_attn.rot_emb.inv_freq', 'plm.layers.5.self_attn_layer_norm.weight', 'plm.layers.5.self_attn_layer_norm.bias', 'plm.layers.5.fc1.weight', 'plm.layers.5.fc1.bias', 'plm.layers.5.fc2.weight', 'plm.layers.5.fc2.bias', 'plm.layers.5.final_layer_norm.weight', 'plm.layers.5.final_layer_norm.bias', 'plm.layers.6.self_attn.k_proj.weight', 'plm.layers.6.self_attn.k_proj.bias', 'plm.layers.6.self_attn.v_proj.weight', 'plm.layers.6.self_attn.v_proj.bias', 'plm.layers.6.self_attn.q_proj.weight', 'plm.layers.6.self_attn.q_proj.bias', 'plm.layers.6.self_attn.out_proj.weight', 'plm.layers.6.self_attn.out_proj.bias', 'plm.layers.6.self_attn.rot_emb.inv_freq', 'plm.layers.6.self_attn_layer_norm.weight', 'plm.layers.6.self_attn_layer_norm.bias', 'plm.layers.6.fc1.weight', 'plm.layers.6.fc1.bias', 'plm.layers.6.fc2.weight', 'plm.layers.6.fc2.bias', 'plm.layers.6.final_layer_norm.weight', 'plm.layers.6.final_layer_norm.bias', 'plm.layers.7.self_attn.k_proj.weight', 'plm.layers.7.self_attn.k_proj.bias', 'plm.layers.7.self_attn.v_proj.weight', 'plm.layers.7.self_attn.v_proj.bias', 'plm.layers.7.self_attn.q_proj.weight', 'plm.layers.7.self_attn.q_proj.bias', 'plm.layers.7.self_attn.out_proj.weight', 'plm.layers.7.self_attn.out_proj.bias', 'plm.layers.7.self_attn.rot_emb.inv_freq', 'plm.layers.7.self_attn_layer_norm.weight', 'plm.layers.7.self_attn_layer_norm.bias', 'plm.layers.7.fc1.weight', 'plm.layers.7.fc1.bias', 'plm.layers.7.fc2.weight', 'plm.layers.7.fc2.bias', 'plm.layers.7.final_layer_norm.weight', 'plm.layers.7.final_layer_norm.bias', 'plm.layers.8.self_attn.k_proj.weight', 'plm.layers.8.self_attn.k_proj.bias', 'plm.layers.8.self_attn.v_proj.weight', 'plm.layers.8.self_attn.v_proj.bias', 'plm.layers.8.self_attn.q_proj.weight', 'plm.layers.8.self_attn.q_proj.bias', 'plm.layers.8.self_attn.out_proj.weight', 'plm.layers.8.self_attn.out_proj.bias', 'plm.layers.8.self_attn.rot_emb.inv_freq', 'plm.layers.8.self_attn_layer_norm.weight', 'plm.layers.8.self_attn_layer_norm.bias', 'plm.layers.8.fc1.weight', 'plm.layers.8.fc1.bias', 'plm.layers.8.fc2.weight', 'plm.layers.8.fc2.bias', 'plm.layers.8.final_layer_norm.weight', 'plm.layers.8.final_layer_norm.bias', 'plm.layers.9.self_attn.k_proj.weight', 'plm.layers.9.self_attn.k_proj.bias', 'plm.layers.9.self_attn.v_proj.weight', 'plm.layers.9.self_attn.v_proj.bias', 'plm.layers.9.self_attn.q_proj.weight', 'plm.layers.9.self_attn.q_proj.bias', 'plm.layers.9.self_attn.out_proj.weight', 'plm.layers.9.self_attn.out_proj.bias', 'plm.layers.9.self_attn.rot_emb.inv_freq', 'plm.layers.9.self_attn_layer_norm.weight', 'plm.layers.9.self_attn_layer_norm.bias', 'plm.layers.9.fc1.weight', 'plm.layers.9.fc1.bias', 'plm.layers.9.fc2.weight', 'plm.layers.9.fc2.bias', 'plm.layers.9.final_layer_norm.weight', 'plm.layers.9.final_layer_norm.bias', 'plm.layers.10.self_attn.k_proj.weight', 'plm.layers.10.self_attn.k_proj.bias', 'plm.layers.10.self_attn.v_proj.weight', 'plm.layers.10.self_attn.v_proj.bias', 'plm.layers.10.self_attn.q_proj.weight', 'plm.layers.10.self_attn.q_proj.bias', 'plm.layers.10.self_attn.out_proj.weight', 'plm.layers.10.self_attn.out_proj.bias', 'plm.layers.10.self_attn.rot_emb.inv_freq', 'plm.layers.10.self_attn_layer_norm.weight', 'plm.layers.10.self_attn_layer_norm.bias', 'plm.layers.10.fc1.weight', 'plm.layers.10.fc1.bias', 'plm.layers.10.fc2.weight', 'plm.layers.10.fc2.bias', 'plm.layers.10.final_layer_norm.weight', 'plm.layers.10.final_layer_norm.bias', 'plm.layers.11.self_attn.k_proj.weight', 'plm.layers.11.self_attn.k_proj.bias', 'plm.layers.11.self_attn.v_proj.weight', 'plm.layers.11.self_attn.v_proj.bias', 'plm.layers.11.self_attn.q_proj.weight', 'plm.layers.11.self_attn.q_proj.bias', 'plm.layers.11.self_attn.out_proj.weight', 'plm.layers.11.self_attn.out_proj.bias', 'plm.layers.11.self_attn.rot_emb.inv_freq', 'plm.layers.11.self_attn_layer_norm.weight', 'plm.layers.11.self_attn_layer_norm.bias', 'plm.layers.11.fc1.weight', 'plm.layers.11.fc1.bias', 'plm.layers.11.fc2.weight', 'plm.layers.11.fc2.bias', 'plm.layers.11.final_layer_norm.weight', 'plm.layers.11.final_layer_norm.bias', 'plm.layers.12.self_attn.k_proj.weight', 'plm.layers.12.self_attn.k_proj.bias', 'plm.layers.12.self_attn.v_proj.weight', 'plm.layers.12.self_attn.v_proj.bias', 'plm.layers.12.self_attn.q_proj.weight', 'plm.layers.12.self_attn.q_proj.bias', 'plm.layers.12.self_attn.out_proj.weight', 'plm.layers.12.self_attn.out_proj.bias', 'plm.layers.12.self_attn.rot_emb.inv_freq', 'plm.layers.12.self_attn_layer_norm.weight', 'plm.layers.12.self_attn_layer_norm.bias', 'plm.layers.12.fc1.weight', 'plm.layers.12.fc1.bias', 'plm.layers.12.fc2.weight', 'plm.layers.12.fc2.bias', 'plm.layers.12.final_layer_norm.weight', 'plm.layers.12.final_layer_norm.bias', 'plm.layers.13.self_attn.k_proj.weight', 'plm.layers.13.self_attn.k_proj.bias', 'plm.layers.13.self_attn.v_proj.weight', 'plm.layers.13.self_attn.v_proj.bias', 'plm.layers.13.self_attn.q_proj.weight', 'plm.layers.13.self_attn.q_proj.bias', 'plm.layers.13.self_attn.out_proj.weight', 'plm.layers.13.self_attn.out_proj.bias', 'plm.layers.13.self_attn.rot_emb.inv_freq', 'plm.layers.13.self_attn_layer_norm.weight', 'plm.layers.13.self_attn_layer_norm.bias', 'plm.layers.13.fc1.weight', 'plm.layers.13.fc1.bias', 'plm.layers.13.fc2.weight', 'plm.layers.13.fc2.bias', 'plm.layers.13.final_layer_norm.weight', 'plm.layers.13.final_layer_norm.bias', 'plm.layers.14.self_attn.k_proj.weight', 'plm.layers.14.self_attn.k_proj.bias', 'plm.layers.14.self_attn.v_proj.weight', 'plm.layers.14.self_attn.v_proj.bias', 'plm.layers.14.self_attn.q_proj.weight', 'plm.layers.14.self_attn.q_proj.bias', 'plm.layers.14.self_attn.out_proj.weight', 'plm.layers.14.self_attn.out_proj.bias', 'plm.layers.14.self_attn.rot_emb.inv_freq', 'plm.layers.14.self_attn_layer_norm.weight', 'plm.layers.14.self_attn_layer_norm.bias', 'plm.layers.14.fc1.weight', 'plm.layers.14.fc1.bias', 'plm.layers.14.fc2.weight', 'plm.layers.14.fc2.bias', 'plm.layers.14.final_layer_norm.weight', 'plm.layers.14.final_layer_norm.bias', 'plm.layers.15.self_attn.k_proj.weight', 'plm.layers.15.self_attn.k_proj.bias', 'plm.layers.15.self_attn.v_proj.weight', 'plm.layers.15.self_attn.v_proj.bias', 'plm.layers.15.self_attn.q_proj.weight', 'plm.layers.15.self_attn.q_proj.bias', 'plm.layers.15.self_attn.out_proj.weight', 'plm.layers.15.self_attn.out_proj.bias', 'plm.layers.15.self_attn.rot_emb.inv_freq', 'plm.layers.15.self_attn_layer_norm.weight', 'plm.layers.15.self_attn_layer_norm.bias', 'plm.layers.15.fc1.weight', 'plm.layers.15.fc1.bias', 'plm.layers.15.fc2.weight', 'plm.layers.15.fc2.bias', 'plm.layers.15.final_layer_norm.weight', 'plm.layers.15.final_layer_norm.bias', 'plm.layers.16.self_attn.k_proj.weight', 'plm.layers.16.self_attn.k_proj.bias', 'plm.layers.16.self_attn.v_proj.weight', 'plm.layers.16.self_attn.v_proj.bias', 'plm.layers.16.self_attn.q_proj.weight', 'plm.layers.16.self_attn.q_proj.bias', 'plm.layers.16.self_attn.out_proj.weight', 'plm.layers.16.self_attn.out_proj.bias', 'plm.layers.16.self_attn.rot_emb.inv_freq', 'plm.layers.16.self_attn_layer_norm.weight', 'plm.layers.16.self_attn_layer_norm.bias', 'plm.layers.16.fc1.weight', 'plm.layers.16.fc1.bias', 'plm.layers.16.fc2.weight', 'plm.layers.16.fc2.bias', 'plm.layers.16.final_layer_norm.weight', 'plm.layers.16.final_layer_norm.bias', 'plm.layers.17.self_attn.k_proj.weight', 'plm.layers.17.self_attn.k_proj.bias', 'plm.layers.17.self_attn.v_proj.weight', 'plm.layers.17.self_attn.v_proj.bias', 'plm.layers.17.self_attn.q_proj.weight', 'plm.layers.17.self_attn.q_proj.bias', 'plm.layers.17.self_attn.out_proj.weight', 'plm.layers.17.self_attn.out_proj.bias', 'plm.layers.17.self_attn.rot_emb.inv_freq', 'plm.layers.17.self_attn_layer_norm.weight', 'plm.layers.17.self_attn_layer_norm.bias', 'plm.layers.17.fc1.weight', 'plm.layers.17.fc1.bias', 'plm.layers.17.fc2.weight', 'plm.layers.17.fc2.bias', 'plm.layers.17.final_layer_norm.weight', 'plm.layers.17.final_layer_norm.bias', 'plm.layers.18.self_attn.k_proj.weight', 'plm.layers.18.self_attn.k_proj.bias', 'plm.layers.18.self_attn.v_proj.weight', 'plm.layers.18.self_attn.v_proj.bias', 'plm.layers.18.self_attn.q_proj.weight', 'plm.layers.18.self_attn.q_proj.bias', 'plm.layers.18.self_attn.out_proj.weight', 'plm.layers.18.self_attn.out_proj.bias', 'plm.layers.18.self_attn.rot_emb.inv_freq', 'plm.layers.18.self_attn_layer_norm.weight', 'plm.layers.18.self_attn_layer_norm.bias', 'plm.layers.18.fc1.weight', 'plm.layers.18.fc1.bias', 'plm.layers.18.fc2.weight', 'plm.layers.18.fc2.bias', 'plm.layers.18.final_layer_norm.weight', 'plm.layers.18.final_layer_norm.bias', 'plm.layers.19.self_attn.k_proj.weight', 'plm.layers.19.self_attn.k_proj.bias', 'plm.layers.19.self_attn.v_proj.weight', 'plm.layers.19.self_attn.v_proj.bias', 'plm.layers.19.self_attn.q_proj.weight', 'plm.layers.19.self_attn.q_proj.bias', 'plm.layers.19.self_attn.out_proj.weight', 'plm.layers.19.self_attn.out_proj.bias', 'plm.layers.19.self_attn.rot_emb.inv_freq', 'plm.layers.19.self_attn_layer_norm.weight', 'plm.layers.19.self_attn_layer_norm.bias', 'plm.layers.19.fc1.weight', 'plm.layers.19.fc1.bias', 'plm.layers.19.fc2.weight', 'plm.layers.19.fc2.bias', 'plm.layers.19.final_layer_norm.weight', 'plm.layers.19.final_layer_norm.bias', 'plm.layers.20.self_attn.k_proj.weight', 'plm.layers.20.self_attn.k_proj.bias', 'plm.layers.20.self_attn.v_proj.weight', 'plm.layers.20.self_attn.v_proj.bias', 'plm.layers.20.self_attn.q_proj.weight', 'plm.layers.20.self_attn.q_proj.bias', 'plm.layers.20.self_attn.out_proj.weight', 'plm.layers.20.self_attn.out_proj.bias', 'plm.layers.20.self_attn.rot_emb.inv_freq', 'plm.layers.20.self_attn_layer_norm.weight', 'plm.layers.20.self_attn_layer_norm.bias', 'plm.layers.20.fc1.weight', 'plm.layers.20.fc1.bias', 'plm.layers.20.fc2.weight', 'plm.layers.20.fc2.bias', 'plm.layers.20.final_layer_norm.weight', 'plm.layers.20.final_layer_norm.bias', 'plm.layers.21.self_attn.k_proj.weight', 'plm.layers.21.self_attn.k_proj.bias', 'plm.layers.21.self_attn.v_proj.weight', 'plm.layers.21.self_attn.v_proj.bias', 'plm.layers.21.self_attn.q_proj.weight', 'plm.layers.21.self_attn.q_proj.bias', 'plm.layers.21.self_attn.out_proj.weight', 'plm.layers.21.self_attn.out_proj.bias', 'plm.layers.21.self_attn.rot_emb.inv_freq', 'plm.layers.21.self_attn_layer_norm.weight', 'plm.layers.21.self_attn_layer_norm.bias', 'plm.layers.21.fc1.weight', 'plm.layers.21.fc1.bias', 'plm.layers.21.fc2.weight', 'plm.layers.21.fc2.bias', 'plm.layers.21.final_layer_norm.weight', 'plm.layers.21.final_layer_norm.bias', 'plm.layers.22.self_attn.k_proj.weight', 'plm.layers.22.self_attn.k_proj.bias', 'plm.layers.22.self_attn.v_proj.weight', 'plm.layers.22.self_attn.v_proj.bias', 'plm.layers.22.self_attn.q_proj.weight', 'plm.layers.22.self_attn.q_proj.bias', 'plm.layers.22.self_attn.out_proj.weight', 'plm.layers.22.self_attn.out_proj.bias', 'plm.layers.22.self_attn.rot_emb.inv_freq', 'plm.layers.22.self_attn_layer_norm.weight', 'plm.layers.22.self_attn_layer_norm.bias', 'plm.layers.22.fc1.weight', 'plm.layers.22.fc1.bias', 'plm.layers.22.fc2.weight', 'plm.layers.22.fc2.bias', 'plm.layers.22.final_layer_norm.weight', 'plm.layers.22.final_layer_norm.bias', 'plm.layers.23.self_attn.k_proj.weight', 'plm.layers.23.self_attn.k_proj.bias', 'plm.layers.23.self_attn.v_proj.weight', 'plm.layers.23.self_attn.v_proj.bias', 'plm.layers.23.self_attn.q_proj.weight', 'plm.layers.23.self_attn.q_proj.bias', 'plm.layers.23.self_attn.out_proj.weight', 'plm.layers.23.self_attn.out_proj.bias', 'plm.layers.23.self_attn.rot_emb.inv_freq', 'plm.layers.23.self_attn_layer_norm.weight', 'plm.layers.23.self_attn_layer_norm.bias', 'plm.layers.23.fc1.weight', 'plm.layers.23.fc1.bias', 'plm.layers.23.fc2.weight', 'plm.layers.23.fc2.bias', 'plm.layers.23.final_layer_norm.weight', 'plm.layers.23.final_layer_norm.bias', 'plm.layers.24.self_attn.k_proj.weight', 'plm.layers.24.self_attn.k_proj.bias', 'plm.layers.24.self_attn.v_proj.weight', 'plm.layers.24.self_attn.v_proj.bias', 'plm.layers.24.self_attn.q_proj.weight', 'plm.layers.24.self_attn.q_proj.bias', 'plm.layers.24.self_attn.out_proj.weight', 'plm.layers.24.self_attn.out_proj.bias', 'plm.layers.24.self_attn.rot_emb.inv_freq', 'plm.layers.24.self_attn_layer_norm.weight', 'plm.layers.24.self_attn_layer_norm.bias', 'plm.layers.24.fc1.weight', 'plm.layers.24.fc1.bias', 'plm.layers.24.fc2.weight', 'plm.layers.24.fc2.bias', 'plm.layers.24.final_layer_norm.weight', 'plm.layers.24.final_layer_norm.bias', 'plm.layers.25.self_attn.k_proj.weight', 'plm.layers.25.self_attn.k_proj.bias', 'plm.layers.25.self_attn.v_proj.weight', 'plm.layers.25.self_attn.v_proj.bias', 'plm.layers.25.self_attn.q_proj.weight', 'plm.layers.25.self_attn.q_proj.bias', 'plm.layers.25.self_attn.out_proj.weight', 'plm.layers.25.self_attn.out_proj.bias', 'plm.layers.25.self_attn.rot_emb.inv_freq', 'plm.layers.25.self_attn_layer_norm.weight', 'plm.layers.25.self_attn_layer_norm.bias', 'plm.layers.25.fc1.weight', 'plm.layers.25.fc1.bias', 'plm.layers.25.fc2.weight', 'plm.layers.25.fc2.bias', 'plm.layers.25.final_layer_norm.weight', 'plm.layers.25.final_layer_norm.bias', 'plm.layers.26.self_attn.k_proj.weight', 'plm.layers.26.self_attn.k_proj.bias', 'plm.layers.26.self_attn.v_proj.weight', 'plm.layers.26.self_attn.v_proj.bias', 'plm.layers.26.self_attn.q_proj.weight', 'plm.layers.26.self_attn.q_proj.bias', 'plm.layers.26.self_attn.out_proj.weight', 'plm.layers.26.self_attn.out_proj.bias', 'plm.layers.26.self_attn.rot_emb.inv_freq', 'plm.layers.26.self_attn_layer_norm.weight', 'plm.layers.26.self_attn_layer_norm.bias', 'plm.layers.26.fc1.weight', 'plm.layers.26.fc1.bias', 'plm.layers.26.fc2.weight', 'plm.layers.26.fc2.bias', 'plm.layers.26.final_layer_norm.weight', 'plm.layers.26.final_layer_norm.bias', 'plm.layers.27.self_attn.k_proj.weight', 'plm.layers.27.self_attn.k_proj.bias', 'plm.layers.27.self_attn.v_proj.weight', 'plm.layers.27.self_attn.v_proj.bias', 'plm.layers.27.self_attn.q_proj.weight', 'plm.layers.27.self_attn.q_proj.bias', 'plm.layers.27.self_attn.out_proj.weight', 'plm.layers.27.self_attn.out_proj.bias', 'plm.layers.27.self_attn.rot_emb.inv_freq', 'plm.layers.27.self_attn_layer_norm.weight', 'plm.layers.27.self_attn_layer_norm.bias', 'plm.layers.27.fc1.weight', 'plm.layers.27.fc1.bias', 'plm.layers.27.fc2.weight', 'plm.layers.27.fc2.bias', 'plm.layers.27.final_layer_norm.weight', 'plm.layers.27.final_layer_norm.bias', 'plm.layers.28.self_attn.k_proj.weight', 'plm.layers.28.self_attn.k_proj.bias', 'plm.layers.28.self_attn.v_proj.weight', 'plm.layers.28.self_attn.v_proj.bias', 'plm.layers.28.self_attn.q_proj.weight', 'plm.layers.28.self_attn.q_proj.bias', 'plm.layers.28.self_attn.out_proj.weight', 'plm.layers.28.self_attn.out_proj.bias', 'plm.layers.28.self_attn.rot_emb.inv_freq', 'plm.layers.28.self_attn_layer_norm.weight', 'plm.layers.28.self_attn_layer_norm.bias', 'plm.layers.28.fc1.weight', 'plm.layers.28.fc1.bias', 'plm.layers.28.fc2.weight', 'plm.layers.28.fc2.bias', 'plm.layers.28.final_layer_norm.weight', 'plm.layers.28.final_layer_norm.bias', 'plm.layers.29.self_attn.k_proj.weight', 'plm.layers.29.self_attn.k_proj.bias', 'plm.layers.29.self_attn.v_proj.weight', 'plm.layers.29.self_attn.v_proj.bias', 'plm.layers.29.self_attn.q_proj.weight', 'plm.layers.29.self_attn.q_proj.bias', 'plm.layers.29.self_attn.out_proj.weight', 'plm.layers.29.self_attn.out_proj.bias', 'plm.layers.29.self_attn.rot_emb.inv_freq', 'plm.layers.29.self_attn_layer_norm.weight', 'plm.layers.29.self_attn_layer_norm.bias', 'plm.layers.29.fc1.weight', 'plm.layers.29.fc1.bias', 'plm.layers.29.fc2.weight', 'plm.layers.29.fc2.bias', 'plm.layers.29.final_layer_norm.weight', 'plm.layers.29.final_layer_norm.bias', 'plm.layers.30.self_attn.k_proj.weight', 'plm.layers.30.self_attn.k_proj.bias', 'plm.layers.30.self_attn.v_proj.weight', 'plm.layers.30.self_attn.v_proj.bias', 'plm.layers.30.self_attn.q_proj.weight', 'plm.layers.30.self_attn.q_proj.bias', 'plm.layers.30.self_attn.out_proj.weight', 'plm.layers.30.self_attn.out_proj.bias', 'plm.layers.30.self_attn.rot_emb.inv_freq', 'plm.layers.30.self_attn_layer_norm.weight', 'plm.layers.30.self_attn_layer_norm.bias', 'plm.layers.30.fc1.weight', 'plm.layers.30.fc1.bias', 'plm.layers.30.fc2.weight', 'plm.layers.30.fc2.bias', 'plm.layers.30.final_layer_norm.weight', 'plm.layers.30.final_layer_norm.bias', 'plm.layers.31.self_attn.k_proj.weight', 'plm.layers.31.self_attn.k_proj.bias', 'plm.layers.31.self_attn.v_proj.weight', 'plm.layers.31.self_attn.v_proj.bias', 'plm.layers.31.self_attn.q_proj.weight', 'plm.layers.31.self_attn.q_proj.bias', 'plm.layers.31.self_attn.out_proj.weight', 'plm.layers.31.self_attn.out_proj.bias', 'plm.layers.31.self_attn.rot_emb.inv_freq', 'plm.layers.31.self_attn_layer_norm.weight', 'plm.layers.31.self_attn_layer_norm.bias', 'plm.layers.31.fc1.weight', 'plm.layers.31.fc1.bias', 'plm.layers.31.fc2.weight', 'plm.layers.31.fc2.bias', 'plm.layers.31.final_layer_norm.weight', 'plm.layers.31.final_layer_norm.bias', 'plm.layers.32.self_attn.k_proj.weight', 'plm.layers.32.self_attn.k_proj.bias', 'plm.layers.32.self_attn.v_proj.weight', 'plm.layers.32.self_attn.v_proj.bias', 'plm.layers.32.self_attn.q_proj.weight', 'plm.layers.32.self_attn.q_proj.bias', 'plm.layers.32.self_attn.out_proj.weight', 'plm.layers.32.self_attn.out_proj.bias', 'plm.layers.32.self_attn.rot_emb.inv_freq', 'plm.layers.32.self_attn_layer_norm.weight', 'plm.layers.32.self_attn_layer_norm.bias', 'plm.layers.32.fc1.weight', 'plm.layers.32.fc1.bias', 'plm.layers.32.fc2.weight', 'plm.layers.32.fc2.bias', 'plm.layers.32.final_layer_norm.weight', 'plm.layers.32.final_layer_norm.bias', 'plm.contact_head.regression.weight', 'plm.contact_head.regression.bias', 'plm.emb_layer_norm_after.weight', 'plm.emb_layer_norm_after.bias', 'plm.lm_head.weight', 'plm.lm_head.bias', 'plm.lm_head.dense.weight', 'plm.lm_head.dense.bias', 'plm.lm_head.layer_norm.weight', 'plm.lm_head.layer_norm.bias', 'protein_encoder.template_binding_site_enc.weight', 'pl_contact_stack.template_binding_site_enc.weight']\n",
      "  rank_zero_warn(\n",
      "/home/katharina/miniforge3/envs/neuralplexer_dev/lib/python3.10/site-packages/lightning_fabric/utilities/cloud_io.py:51: FutureWarning: You are using `torch.load` with `weights_only=False` (the current default value), which uses the default pickle module implicitly. It is possible to construct malicious pickle data which will execute arbitrary code during unpickling (See https://github.com/pytorch/pytorch/blob/main/SECURITY.md#untrusted-models for more details). In a future release, the default value for `weights_only` will be flipped to `True`. This limits the functions that could be executed during unpickling. Arbitrary objects will no longer be allowed to be loaded via this mode unless they are explicitly allowlisted by the user via `torch.serialization.add_safe_globals`. We recommend you start setting `weights_only=True` for any use case where you don't have full control of the loaded file. Please open an issue on GitHub for any issues related to this experimental feature.\n",
      "  return torch.load(f, map_location=map_location)  # type: ignore[arg-type]\n",
      "Lightning automatically upgraded your loaded checkpoint from v1.7.0 to v1.9.5. To apply the upgrade to your files permanently, run `python -m pytorch_lightning.utilities.upgrade_checkpoint --file data/models/complex_structure_prediction.ckpt`\n",
      "/home/katharina/cadd_seminar/CADDSeminar_2024/Topic2a_NeuralPlexer/NeuralPLexer/neuralplexer/model/mht_encoder.py:268: FutureWarning: You are using `torch.load` with `weights_only=False` (the current default value), which uses the default pickle module implicitly. It is possible to construct malicious pickle data which will execute arbitrary code during unpickling (See https://github.com/pytorch/pytorch/blob/main/SECURITY.md#untrusted-models for more details). In a future release, the default value for `weights_only` will be flipped to `True`. This limits the functions that could be executed during unpickling. Arbitrary objects will no longer be allowed to be loaded via this mode unless they are explicitly allowlisted by the user via `torch.serialization.add_safe_globals`. We recommend you start setting `weights_only=True` for any use case where you don't have full control of the loaded file. Please open an issue on GitHub for any issues related to this experimental feature.\n",
      "  for k, v in torch.load(ligand_model_config.checkpoint_file)[\n"
     ]
    },
    {
     "name": "stdout",
     "output_type": "stream",
     "text": [
      "Could not load pretrained MHT weights, skipping\n"
     ]
    },
    {
     "name": "stderr",
     "output_type": "stream",
     "text": [
      "/home/katharina/miniforge3/envs/neuralplexer_dev/lib/python3.10/site-packages/pytorch_lightning/core/saving.py:251: UserWarning: Found keys that are in the model state dict but not in the checkpoint: ['atnum2vdw_uff', 'plm.embed_tokens.weight', 'plm.layers.0.self_attn.k_proj.weight', 'plm.layers.0.self_attn.k_proj.bias', 'plm.layers.0.self_attn.v_proj.weight', 'plm.layers.0.self_attn.v_proj.bias', 'plm.layers.0.self_attn.q_proj.weight', 'plm.layers.0.self_attn.q_proj.bias', 'plm.layers.0.self_attn.out_proj.weight', 'plm.layers.0.self_attn.out_proj.bias', 'plm.layers.0.self_attn.rot_emb.inv_freq', 'plm.layers.0.self_attn_layer_norm.weight', 'plm.layers.0.self_attn_layer_norm.bias', 'plm.layers.0.fc1.weight', 'plm.layers.0.fc1.bias', 'plm.layers.0.fc2.weight', 'plm.layers.0.fc2.bias', 'plm.layers.0.final_layer_norm.weight', 'plm.layers.0.final_layer_norm.bias', 'plm.layers.1.self_attn.k_proj.weight', 'plm.layers.1.self_attn.k_proj.bias', 'plm.layers.1.self_attn.v_proj.weight', 'plm.layers.1.self_attn.v_proj.bias', 'plm.layers.1.self_attn.q_proj.weight', 'plm.layers.1.self_attn.q_proj.bias', 'plm.layers.1.self_attn.out_proj.weight', 'plm.layers.1.self_attn.out_proj.bias', 'plm.layers.1.self_attn.rot_emb.inv_freq', 'plm.layers.1.self_attn_layer_norm.weight', 'plm.layers.1.self_attn_layer_norm.bias', 'plm.layers.1.fc1.weight', 'plm.layers.1.fc1.bias', 'plm.layers.1.fc2.weight', 'plm.layers.1.fc2.bias', 'plm.layers.1.final_layer_norm.weight', 'plm.layers.1.final_layer_norm.bias', 'plm.layers.2.self_attn.k_proj.weight', 'plm.layers.2.self_attn.k_proj.bias', 'plm.layers.2.self_attn.v_proj.weight', 'plm.layers.2.self_attn.v_proj.bias', 'plm.layers.2.self_attn.q_proj.weight', 'plm.layers.2.self_attn.q_proj.bias', 'plm.layers.2.self_attn.out_proj.weight', 'plm.layers.2.self_attn.out_proj.bias', 'plm.layers.2.self_attn.rot_emb.inv_freq', 'plm.layers.2.self_attn_layer_norm.weight', 'plm.layers.2.self_attn_layer_norm.bias', 'plm.layers.2.fc1.weight', 'plm.layers.2.fc1.bias', 'plm.layers.2.fc2.weight', 'plm.layers.2.fc2.bias', 'plm.layers.2.final_layer_norm.weight', 'plm.layers.2.final_layer_norm.bias', 'plm.layers.3.self_attn.k_proj.weight', 'plm.layers.3.self_attn.k_proj.bias', 'plm.layers.3.self_attn.v_proj.weight', 'plm.layers.3.self_attn.v_proj.bias', 'plm.layers.3.self_attn.q_proj.weight', 'plm.layers.3.self_attn.q_proj.bias', 'plm.layers.3.self_attn.out_proj.weight', 'plm.layers.3.self_attn.out_proj.bias', 'plm.layers.3.self_attn.rot_emb.inv_freq', 'plm.layers.3.self_attn_layer_norm.weight', 'plm.layers.3.self_attn_layer_norm.bias', 'plm.layers.3.fc1.weight', 'plm.layers.3.fc1.bias', 'plm.layers.3.fc2.weight', 'plm.layers.3.fc2.bias', 'plm.layers.3.final_layer_norm.weight', 'plm.layers.3.final_layer_norm.bias', 'plm.layers.4.self_attn.k_proj.weight', 'plm.layers.4.self_attn.k_proj.bias', 'plm.layers.4.self_attn.v_proj.weight', 'plm.layers.4.self_attn.v_proj.bias', 'plm.layers.4.self_attn.q_proj.weight', 'plm.layers.4.self_attn.q_proj.bias', 'plm.layers.4.self_attn.out_proj.weight', 'plm.layers.4.self_attn.out_proj.bias', 'plm.layers.4.self_attn.rot_emb.inv_freq', 'plm.layers.4.self_attn_layer_norm.weight', 'plm.layers.4.self_attn_layer_norm.bias', 'plm.layers.4.fc1.weight', 'plm.layers.4.fc1.bias', 'plm.layers.4.fc2.weight', 'plm.layers.4.fc2.bias', 'plm.layers.4.final_layer_norm.weight', 'plm.layers.4.final_layer_norm.bias', 'plm.layers.5.self_attn.k_proj.weight', 'plm.layers.5.self_attn.k_proj.bias', 'plm.layers.5.self_attn.v_proj.weight', 'plm.layers.5.self_attn.v_proj.bias', 'plm.layers.5.self_attn.q_proj.weight', 'plm.layers.5.self_attn.q_proj.bias', 'plm.layers.5.self_attn.out_proj.weight', 'plm.layers.5.self_attn.out_proj.bias', 'plm.layers.5.self_attn.rot_emb.inv_freq', 'plm.layers.5.self_attn_layer_norm.weight', 'plm.layers.5.self_attn_layer_norm.bias', 'plm.layers.5.fc1.weight', 'plm.layers.5.fc1.bias', 'plm.layers.5.fc2.weight', 'plm.layers.5.fc2.bias', 'plm.layers.5.final_layer_norm.weight', 'plm.layers.5.final_layer_norm.bias', 'plm.layers.6.self_attn.k_proj.weight', 'plm.layers.6.self_attn.k_proj.bias', 'plm.layers.6.self_attn.v_proj.weight', 'plm.layers.6.self_attn.v_proj.bias', 'plm.layers.6.self_attn.q_proj.weight', 'plm.layers.6.self_attn.q_proj.bias', 'plm.layers.6.self_attn.out_proj.weight', 'plm.layers.6.self_attn.out_proj.bias', 'plm.layers.6.self_attn.rot_emb.inv_freq', 'plm.layers.6.self_attn_layer_norm.weight', 'plm.layers.6.self_attn_layer_norm.bias', 'plm.layers.6.fc1.weight', 'plm.layers.6.fc1.bias', 'plm.layers.6.fc2.weight', 'plm.layers.6.fc2.bias', 'plm.layers.6.final_layer_norm.weight', 'plm.layers.6.final_layer_norm.bias', 'plm.layers.7.self_attn.k_proj.weight', 'plm.layers.7.self_attn.k_proj.bias', 'plm.layers.7.self_attn.v_proj.weight', 'plm.layers.7.self_attn.v_proj.bias', 'plm.layers.7.self_attn.q_proj.weight', 'plm.layers.7.self_attn.q_proj.bias', 'plm.layers.7.self_attn.out_proj.weight', 'plm.layers.7.self_attn.out_proj.bias', 'plm.layers.7.self_attn.rot_emb.inv_freq', 'plm.layers.7.self_attn_layer_norm.weight', 'plm.layers.7.self_attn_layer_norm.bias', 'plm.layers.7.fc1.weight', 'plm.layers.7.fc1.bias', 'plm.layers.7.fc2.weight', 'plm.layers.7.fc2.bias', 'plm.layers.7.final_layer_norm.weight', 'plm.layers.7.final_layer_norm.bias', 'plm.layers.8.self_attn.k_proj.weight', 'plm.layers.8.self_attn.k_proj.bias', 'plm.layers.8.self_attn.v_proj.weight', 'plm.layers.8.self_attn.v_proj.bias', 'plm.layers.8.self_attn.q_proj.weight', 'plm.layers.8.self_attn.q_proj.bias', 'plm.layers.8.self_attn.out_proj.weight', 'plm.layers.8.self_attn.out_proj.bias', 'plm.layers.8.self_attn.rot_emb.inv_freq', 'plm.layers.8.self_attn_layer_norm.weight', 'plm.layers.8.self_attn_layer_norm.bias', 'plm.layers.8.fc1.weight', 'plm.layers.8.fc1.bias', 'plm.layers.8.fc2.weight', 'plm.layers.8.fc2.bias', 'plm.layers.8.final_layer_norm.weight', 'plm.layers.8.final_layer_norm.bias', 'plm.layers.9.self_attn.k_proj.weight', 'plm.layers.9.self_attn.k_proj.bias', 'plm.layers.9.self_attn.v_proj.weight', 'plm.layers.9.self_attn.v_proj.bias', 'plm.layers.9.self_attn.q_proj.weight', 'plm.layers.9.self_attn.q_proj.bias', 'plm.layers.9.self_attn.out_proj.weight', 'plm.layers.9.self_attn.out_proj.bias', 'plm.layers.9.self_attn.rot_emb.inv_freq', 'plm.layers.9.self_attn_layer_norm.weight', 'plm.layers.9.self_attn_layer_norm.bias', 'plm.layers.9.fc1.weight', 'plm.layers.9.fc1.bias', 'plm.layers.9.fc2.weight', 'plm.layers.9.fc2.bias', 'plm.layers.9.final_layer_norm.weight', 'plm.layers.9.final_layer_norm.bias', 'plm.layers.10.self_attn.k_proj.weight', 'plm.layers.10.self_attn.k_proj.bias', 'plm.layers.10.self_attn.v_proj.weight', 'plm.layers.10.self_attn.v_proj.bias', 'plm.layers.10.self_attn.q_proj.weight', 'plm.layers.10.self_attn.q_proj.bias', 'plm.layers.10.self_attn.out_proj.weight', 'plm.layers.10.self_attn.out_proj.bias', 'plm.layers.10.self_attn.rot_emb.inv_freq', 'plm.layers.10.self_attn_layer_norm.weight', 'plm.layers.10.self_attn_layer_norm.bias', 'plm.layers.10.fc1.weight', 'plm.layers.10.fc1.bias', 'plm.layers.10.fc2.weight', 'plm.layers.10.fc2.bias', 'plm.layers.10.final_layer_norm.weight', 'plm.layers.10.final_layer_norm.bias', 'plm.layers.11.self_attn.k_proj.weight', 'plm.layers.11.self_attn.k_proj.bias', 'plm.layers.11.self_attn.v_proj.weight', 'plm.layers.11.self_attn.v_proj.bias', 'plm.layers.11.self_attn.q_proj.weight', 'plm.layers.11.self_attn.q_proj.bias', 'plm.layers.11.self_attn.out_proj.weight', 'plm.layers.11.self_attn.out_proj.bias', 'plm.layers.11.self_attn.rot_emb.inv_freq', 'plm.layers.11.self_attn_layer_norm.weight', 'plm.layers.11.self_attn_layer_norm.bias', 'plm.layers.11.fc1.weight', 'plm.layers.11.fc1.bias', 'plm.layers.11.fc2.weight', 'plm.layers.11.fc2.bias', 'plm.layers.11.final_layer_norm.weight', 'plm.layers.11.final_layer_norm.bias', 'plm.layers.12.self_attn.k_proj.weight', 'plm.layers.12.self_attn.k_proj.bias', 'plm.layers.12.self_attn.v_proj.weight', 'plm.layers.12.self_attn.v_proj.bias', 'plm.layers.12.self_attn.q_proj.weight', 'plm.layers.12.self_attn.q_proj.bias', 'plm.layers.12.self_attn.out_proj.weight', 'plm.layers.12.self_attn.out_proj.bias', 'plm.layers.12.self_attn.rot_emb.inv_freq', 'plm.layers.12.self_attn_layer_norm.weight', 'plm.layers.12.self_attn_layer_norm.bias', 'plm.layers.12.fc1.weight', 'plm.layers.12.fc1.bias', 'plm.layers.12.fc2.weight', 'plm.layers.12.fc2.bias', 'plm.layers.12.final_layer_norm.weight', 'plm.layers.12.final_layer_norm.bias', 'plm.layers.13.self_attn.k_proj.weight', 'plm.layers.13.self_attn.k_proj.bias', 'plm.layers.13.self_attn.v_proj.weight', 'plm.layers.13.self_attn.v_proj.bias', 'plm.layers.13.self_attn.q_proj.weight', 'plm.layers.13.self_attn.q_proj.bias', 'plm.layers.13.self_attn.out_proj.weight', 'plm.layers.13.self_attn.out_proj.bias', 'plm.layers.13.self_attn.rot_emb.inv_freq', 'plm.layers.13.self_attn_layer_norm.weight', 'plm.layers.13.self_attn_layer_norm.bias', 'plm.layers.13.fc1.weight', 'plm.layers.13.fc1.bias', 'plm.layers.13.fc2.weight', 'plm.layers.13.fc2.bias', 'plm.layers.13.final_layer_norm.weight', 'plm.layers.13.final_layer_norm.bias', 'plm.layers.14.self_attn.k_proj.weight', 'plm.layers.14.self_attn.k_proj.bias', 'plm.layers.14.self_attn.v_proj.weight', 'plm.layers.14.self_attn.v_proj.bias', 'plm.layers.14.self_attn.q_proj.weight', 'plm.layers.14.self_attn.q_proj.bias', 'plm.layers.14.self_attn.out_proj.weight', 'plm.layers.14.self_attn.out_proj.bias', 'plm.layers.14.self_attn.rot_emb.inv_freq', 'plm.layers.14.self_attn_layer_norm.weight', 'plm.layers.14.self_attn_layer_norm.bias', 'plm.layers.14.fc1.weight', 'plm.layers.14.fc1.bias', 'plm.layers.14.fc2.weight', 'plm.layers.14.fc2.bias', 'plm.layers.14.final_layer_norm.weight', 'plm.layers.14.final_layer_norm.bias', 'plm.layers.15.self_attn.k_proj.weight', 'plm.layers.15.self_attn.k_proj.bias', 'plm.layers.15.self_attn.v_proj.weight', 'plm.layers.15.self_attn.v_proj.bias', 'plm.layers.15.self_attn.q_proj.weight', 'plm.layers.15.self_attn.q_proj.bias', 'plm.layers.15.self_attn.out_proj.weight', 'plm.layers.15.self_attn.out_proj.bias', 'plm.layers.15.self_attn.rot_emb.inv_freq', 'plm.layers.15.self_attn_layer_norm.weight', 'plm.layers.15.self_attn_layer_norm.bias', 'plm.layers.15.fc1.weight', 'plm.layers.15.fc1.bias', 'plm.layers.15.fc2.weight', 'plm.layers.15.fc2.bias', 'plm.layers.15.final_layer_norm.weight', 'plm.layers.15.final_layer_norm.bias', 'plm.layers.16.self_attn.k_proj.weight', 'plm.layers.16.self_attn.k_proj.bias', 'plm.layers.16.self_attn.v_proj.weight', 'plm.layers.16.self_attn.v_proj.bias', 'plm.layers.16.self_attn.q_proj.weight', 'plm.layers.16.self_attn.q_proj.bias', 'plm.layers.16.self_attn.out_proj.weight', 'plm.layers.16.self_attn.out_proj.bias', 'plm.layers.16.self_attn.rot_emb.inv_freq', 'plm.layers.16.self_attn_layer_norm.weight', 'plm.layers.16.self_attn_layer_norm.bias', 'plm.layers.16.fc1.weight', 'plm.layers.16.fc1.bias', 'plm.layers.16.fc2.weight', 'plm.layers.16.fc2.bias', 'plm.layers.16.final_layer_norm.weight', 'plm.layers.16.final_layer_norm.bias', 'plm.layers.17.self_attn.k_proj.weight', 'plm.layers.17.self_attn.k_proj.bias', 'plm.layers.17.self_attn.v_proj.weight', 'plm.layers.17.self_attn.v_proj.bias', 'plm.layers.17.self_attn.q_proj.weight', 'plm.layers.17.self_attn.q_proj.bias', 'plm.layers.17.self_attn.out_proj.weight', 'plm.layers.17.self_attn.out_proj.bias', 'plm.layers.17.self_attn.rot_emb.inv_freq', 'plm.layers.17.self_attn_layer_norm.weight', 'plm.layers.17.self_attn_layer_norm.bias', 'plm.layers.17.fc1.weight', 'plm.layers.17.fc1.bias', 'plm.layers.17.fc2.weight', 'plm.layers.17.fc2.bias', 'plm.layers.17.final_layer_norm.weight', 'plm.layers.17.final_layer_norm.bias', 'plm.layers.18.self_attn.k_proj.weight', 'plm.layers.18.self_attn.k_proj.bias', 'plm.layers.18.self_attn.v_proj.weight', 'plm.layers.18.self_attn.v_proj.bias', 'plm.layers.18.self_attn.q_proj.weight', 'plm.layers.18.self_attn.q_proj.bias', 'plm.layers.18.self_attn.out_proj.weight', 'plm.layers.18.self_attn.out_proj.bias', 'plm.layers.18.self_attn.rot_emb.inv_freq', 'plm.layers.18.self_attn_layer_norm.weight', 'plm.layers.18.self_attn_layer_norm.bias', 'plm.layers.18.fc1.weight', 'plm.layers.18.fc1.bias', 'plm.layers.18.fc2.weight', 'plm.layers.18.fc2.bias', 'plm.layers.18.final_layer_norm.weight', 'plm.layers.18.final_layer_norm.bias', 'plm.layers.19.self_attn.k_proj.weight', 'plm.layers.19.self_attn.k_proj.bias', 'plm.layers.19.self_attn.v_proj.weight', 'plm.layers.19.self_attn.v_proj.bias', 'plm.layers.19.self_attn.q_proj.weight', 'plm.layers.19.self_attn.q_proj.bias', 'plm.layers.19.self_attn.out_proj.weight', 'plm.layers.19.self_attn.out_proj.bias', 'plm.layers.19.self_attn.rot_emb.inv_freq', 'plm.layers.19.self_attn_layer_norm.weight', 'plm.layers.19.self_attn_layer_norm.bias', 'plm.layers.19.fc1.weight', 'plm.layers.19.fc1.bias', 'plm.layers.19.fc2.weight', 'plm.layers.19.fc2.bias', 'plm.layers.19.final_layer_norm.weight', 'plm.layers.19.final_layer_norm.bias', 'plm.layers.20.self_attn.k_proj.weight', 'plm.layers.20.self_attn.k_proj.bias', 'plm.layers.20.self_attn.v_proj.weight', 'plm.layers.20.self_attn.v_proj.bias', 'plm.layers.20.self_attn.q_proj.weight', 'plm.layers.20.self_attn.q_proj.bias', 'plm.layers.20.self_attn.out_proj.weight', 'plm.layers.20.self_attn.out_proj.bias', 'plm.layers.20.self_attn.rot_emb.inv_freq', 'plm.layers.20.self_attn_layer_norm.weight', 'plm.layers.20.self_attn_layer_norm.bias', 'plm.layers.20.fc1.weight', 'plm.layers.20.fc1.bias', 'plm.layers.20.fc2.weight', 'plm.layers.20.fc2.bias', 'plm.layers.20.final_layer_norm.weight', 'plm.layers.20.final_layer_norm.bias', 'plm.layers.21.self_attn.k_proj.weight', 'plm.layers.21.self_attn.k_proj.bias', 'plm.layers.21.self_attn.v_proj.weight', 'plm.layers.21.self_attn.v_proj.bias', 'plm.layers.21.self_attn.q_proj.weight', 'plm.layers.21.self_attn.q_proj.bias', 'plm.layers.21.self_attn.out_proj.weight', 'plm.layers.21.self_attn.out_proj.bias', 'plm.layers.21.self_attn.rot_emb.inv_freq', 'plm.layers.21.self_attn_layer_norm.weight', 'plm.layers.21.self_attn_layer_norm.bias', 'plm.layers.21.fc1.weight', 'plm.layers.21.fc1.bias', 'plm.layers.21.fc2.weight', 'plm.layers.21.fc2.bias', 'plm.layers.21.final_layer_norm.weight', 'plm.layers.21.final_layer_norm.bias', 'plm.layers.22.self_attn.k_proj.weight', 'plm.layers.22.self_attn.k_proj.bias', 'plm.layers.22.self_attn.v_proj.weight', 'plm.layers.22.self_attn.v_proj.bias', 'plm.layers.22.self_attn.q_proj.weight', 'plm.layers.22.self_attn.q_proj.bias', 'plm.layers.22.self_attn.out_proj.weight', 'plm.layers.22.self_attn.out_proj.bias', 'plm.layers.22.self_attn.rot_emb.inv_freq', 'plm.layers.22.self_attn_layer_norm.weight', 'plm.layers.22.self_attn_layer_norm.bias', 'plm.layers.22.fc1.weight', 'plm.layers.22.fc1.bias', 'plm.layers.22.fc2.weight', 'plm.layers.22.fc2.bias', 'plm.layers.22.final_layer_norm.weight', 'plm.layers.22.final_layer_norm.bias', 'plm.layers.23.self_attn.k_proj.weight', 'plm.layers.23.self_attn.k_proj.bias', 'plm.layers.23.self_attn.v_proj.weight', 'plm.layers.23.self_attn.v_proj.bias', 'plm.layers.23.self_attn.q_proj.weight', 'plm.layers.23.self_attn.q_proj.bias', 'plm.layers.23.self_attn.out_proj.weight', 'plm.layers.23.self_attn.out_proj.bias', 'plm.layers.23.self_attn.rot_emb.inv_freq', 'plm.layers.23.self_attn_layer_norm.weight', 'plm.layers.23.self_attn_layer_norm.bias', 'plm.layers.23.fc1.weight', 'plm.layers.23.fc1.bias', 'plm.layers.23.fc2.weight', 'plm.layers.23.fc2.bias', 'plm.layers.23.final_layer_norm.weight', 'plm.layers.23.final_layer_norm.bias', 'plm.layers.24.self_attn.k_proj.weight', 'plm.layers.24.self_attn.k_proj.bias', 'plm.layers.24.self_attn.v_proj.weight', 'plm.layers.24.self_attn.v_proj.bias', 'plm.layers.24.self_attn.q_proj.weight', 'plm.layers.24.self_attn.q_proj.bias', 'plm.layers.24.self_attn.out_proj.weight', 'plm.layers.24.self_attn.out_proj.bias', 'plm.layers.24.self_attn.rot_emb.inv_freq', 'plm.layers.24.self_attn_layer_norm.weight', 'plm.layers.24.self_attn_layer_norm.bias', 'plm.layers.24.fc1.weight', 'plm.layers.24.fc1.bias', 'plm.layers.24.fc2.weight', 'plm.layers.24.fc2.bias', 'plm.layers.24.final_layer_norm.weight', 'plm.layers.24.final_layer_norm.bias', 'plm.layers.25.self_attn.k_proj.weight', 'plm.layers.25.self_attn.k_proj.bias', 'plm.layers.25.self_attn.v_proj.weight', 'plm.layers.25.self_attn.v_proj.bias', 'plm.layers.25.self_attn.q_proj.weight', 'plm.layers.25.self_attn.q_proj.bias', 'plm.layers.25.self_attn.out_proj.weight', 'plm.layers.25.self_attn.out_proj.bias', 'plm.layers.25.self_attn.rot_emb.inv_freq', 'plm.layers.25.self_attn_layer_norm.weight', 'plm.layers.25.self_attn_layer_norm.bias', 'plm.layers.25.fc1.weight', 'plm.layers.25.fc1.bias', 'plm.layers.25.fc2.weight', 'plm.layers.25.fc2.bias', 'plm.layers.25.final_layer_norm.weight', 'plm.layers.25.final_layer_norm.bias', 'plm.layers.26.self_attn.k_proj.weight', 'plm.layers.26.self_attn.k_proj.bias', 'plm.layers.26.self_attn.v_proj.weight', 'plm.layers.26.self_attn.v_proj.bias', 'plm.layers.26.self_attn.q_proj.weight', 'plm.layers.26.self_attn.q_proj.bias', 'plm.layers.26.self_attn.out_proj.weight', 'plm.layers.26.self_attn.out_proj.bias', 'plm.layers.26.self_attn.rot_emb.inv_freq', 'plm.layers.26.self_attn_layer_norm.weight', 'plm.layers.26.self_attn_layer_norm.bias', 'plm.layers.26.fc1.weight', 'plm.layers.26.fc1.bias', 'plm.layers.26.fc2.weight', 'plm.layers.26.fc2.bias', 'plm.layers.26.final_layer_norm.weight', 'plm.layers.26.final_layer_norm.bias', 'plm.layers.27.self_attn.k_proj.weight', 'plm.layers.27.self_attn.k_proj.bias', 'plm.layers.27.self_attn.v_proj.weight', 'plm.layers.27.self_attn.v_proj.bias', 'plm.layers.27.self_attn.q_proj.weight', 'plm.layers.27.self_attn.q_proj.bias', 'plm.layers.27.self_attn.out_proj.weight', 'plm.layers.27.self_attn.out_proj.bias', 'plm.layers.27.self_attn.rot_emb.inv_freq', 'plm.layers.27.self_attn_layer_norm.weight', 'plm.layers.27.self_attn_layer_norm.bias', 'plm.layers.27.fc1.weight', 'plm.layers.27.fc1.bias', 'plm.layers.27.fc2.weight', 'plm.layers.27.fc2.bias', 'plm.layers.27.final_layer_norm.weight', 'plm.layers.27.final_layer_norm.bias', 'plm.layers.28.self_attn.k_proj.weight', 'plm.layers.28.self_attn.k_proj.bias', 'plm.layers.28.self_attn.v_proj.weight', 'plm.layers.28.self_attn.v_proj.bias', 'plm.layers.28.self_attn.q_proj.weight', 'plm.layers.28.self_attn.q_proj.bias', 'plm.layers.28.self_attn.out_proj.weight', 'plm.layers.28.self_attn.out_proj.bias', 'plm.layers.28.self_attn.rot_emb.inv_freq', 'plm.layers.28.self_attn_layer_norm.weight', 'plm.layers.28.self_attn_layer_norm.bias', 'plm.layers.28.fc1.weight', 'plm.layers.28.fc1.bias', 'plm.layers.28.fc2.weight', 'plm.layers.28.fc2.bias', 'plm.layers.28.final_layer_norm.weight', 'plm.layers.28.final_layer_norm.bias', 'plm.layers.29.self_attn.k_proj.weight', 'plm.layers.29.self_attn.k_proj.bias', 'plm.layers.29.self_attn.v_proj.weight', 'plm.layers.29.self_attn.v_proj.bias', 'plm.layers.29.self_attn.q_proj.weight', 'plm.layers.29.self_attn.q_proj.bias', 'plm.layers.29.self_attn.out_proj.weight', 'plm.layers.29.self_attn.out_proj.bias', 'plm.layers.29.self_attn.rot_emb.inv_freq', 'plm.layers.29.self_attn_layer_norm.weight', 'plm.layers.29.self_attn_layer_norm.bias', 'plm.layers.29.fc1.weight', 'plm.layers.29.fc1.bias', 'plm.layers.29.fc2.weight', 'plm.layers.29.fc2.bias', 'plm.layers.29.final_layer_norm.weight', 'plm.layers.29.final_layer_norm.bias', 'plm.layers.30.self_attn.k_proj.weight', 'plm.layers.30.self_attn.k_proj.bias', 'plm.layers.30.self_attn.v_proj.weight', 'plm.layers.30.self_attn.v_proj.bias', 'plm.layers.30.self_attn.q_proj.weight', 'plm.layers.30.self_attn.q_proj.bias', 'plm.layers.30.self_attn.out_proj.weight', 'plm.layers.30.self_attn.out_proj.bias', 'plm.layers.30.self_attn.rot_emb.inv_freq', 'plm.layers.30.self_attn_layer_norm.weight', 'plm.layers.30.self_attn_layer_norm.bias', 'plm.layers.30.fc1.weight', 'plm.layers.30.fc1.bias', 'plm.layers.30.fc2.weight', 'plm.layers.30.fc2.bias', 'plm.layers.30.final_layer_norm.weight', 'plm.layers.30.final_layer_norm.bias', 'plm.layers.31.self_attn.k_proj.weight', 'plm.layers.31.self_attn.k_proj.bias', 'plm.layers.31.self_attn.v_proj.weight', 'plm.layers.31.self_attn.v_proj.bias', 'plm.layers.31.self_attn.q_proj.weight', 'plm.layers.31.self_attn.q_proj.bias', 'plm.layers.31.self_attn.out_proj.weight', 'plm.layers.31.self_attn.out_proj.bias', 'plm.layers.31.self_attn.rot_emb.inv_freq', 'plm.layers.31.self_attn_layer_norm.weight', 'plm.layers.31.self_attn_layer_norm.bias', 'plm.layers.31.fc1.weight', 'plm.layers.31.fc1.bias', 'plm.layers.31.fc2.weight', 'plm.layers.31.fc2.bias', 'plm.layers.31.final_layer_norm.weight', 'plm.layers.31.final_layer_norm.bias', 'plm.layers.32.self_attn.k_proj.weight', 'plm.layers.32.self_attn.k_proj.bias', 'plm.layers.32.self_attn.v_proj.weight', 'plm.layers.32.self_attn.v_proj.bias', 'plm.layers.32.self_attn.q_proj.weight', 'plm.layers.32.self_attn.q_proj.bias', 'plm.layers.32.self_attn.out_proj.weight', 'plm.layers.32.self_attn.out_proj.bias', 'plm.layers.32.self_attn.rot_emb.inv_freq', 'plm.layers.32.self_attn_layer_norm.weight', 'plm.layers.32.self_attn_layer_norm.bias', 'plm.layers.32.fc1.weight', 'plm.layers.32.fc1.bias', 'plm.layers.32.fc2.weight', 'plm.layers.32.fc2.bias', 'plm.layers.32.final_layer_norm.weight', 'plm.layers.32.final_layer_norm.bias', 'plm.contact_head.regression.weight', 'plm.contact_head.regression.bias', 'plm.emb_layer_norm_after.weight', 'plm.emb_layer_norm_after.bias', 'plm.lm_head.weight', 'plm.lm_head.bias', 'plm.lm_head.dense.weight', 'plm.lm_head.dense.bias', 'plm.lm_head.layer_norm.weight', 'plm.lm_head.layer_norm.bias', 'protein_encoder.template_binding_site_enc.weight', 'pl_contact_stack.template_binding_site_enc.weight']\n",
      "  rank_zero_warn(\n",
      "[11:41:50] Warning: molecule is tagged as 2D, but at least one Z coordinate is not zero. Marking the mol as 3D.\n",
      "Block contact sampling: 100%|██████████| 32/32 [00:13<00:00,  2.30it/s]\n",
      "Structure generation using langevin_simulated_annealing: 100%|██████████| 40/40 [00:56<00:00,  1.41s/it]\n"
     ]
    },
    {
     "data": {
      "text/plain": [
       "0"
      ]
     },
     "execution_count": 11,
     "metadata": {},
     "output_type": "execute_result"
    }
   ],
   "source": [
    "os.system(\"\"\"neuralplexer-inference --task=batched_structure_sampling \\\n",
    "                --input-receptor data/6np5/protein.pdb \\\n",
    "                --input-ligand data/6np5/ligand.sdf \\\n",
    "                --out-path data/results_rigid_receptor_6np5  \\\n",
    "                --model-checkpoint data/models/complex_structure_prediction.ckpt \\\n",
    "\t\t        --input-template data/6np5/protein.pdb \\\n",
    "\t\t        --use-template \\\n",
    "                --n-samples 1 \\\n",
    "                --chunk-size 1 \\\n",
    "                --num-steps=40 \\\n",
    "\t\t        --rank-outputs-by-confidence \\\n",
    "                --sampler=langevin_simulated_annealing\"\"\")"
   ]
  },
  {
   "cell_type": "markdown",
   "metadata": {},
   "source": [
    "### Docking with Autodock\n",
    "For the docking benchmark we employ the AutoDock (TODO cite) docking engine, which was already introduced in the Talktorial T015 (TODO link). Here, we will first prepare the ligand and protein for docking, and secondly run the docking itself. **Note**, that the functionality for this is taken from Talktorial T015 (TODO link)."
   ]
  },
  {
   "cell_type": "markdown",
   "metadata": {},
   "source": [
    "#### Protein and ligand preparation\n",
    "AutoDock requires the protein and the ligand to be provided in two PDBQT files. Thus, we will first convert the crystallized protein structure into the PDBQT format. Secondly, we will calculated the 3D cooradinates of the ligand and save it likewise to an PDBQT file. "
   ]
  },
  {
   "cell_type": "code",
   "execution_count": 2,
   "metadata": {},
   "outputs": [],
   "source": [
    "def pdb_to_pdbqt(pdb_path, pdbqt_path, pH=7.4):\n",
    "    \"\"\"\n",
    "    Convert a PDB file to a PDBQT file needed by docking programs of the AutoDock family.\n",
    "\n",
    "    Parameters\n",
    "    ----------\n",
    "    pdb_path: str or pathlib.Path\n",
    "        Path to input PDB file.\n",
    "    pdbqt_path: str or pathlib.path\n",
    "        Path to output PDBQT file.\n",
    "    pH: float\n",
    "        Protonation at given pH.\n",
    "    \"\"\"\n",
    "    molecule = list(pybel.readfile(\"pdb\", str(pdb_path)))[0]\n",
    "    # add hydrogens at given pH\n",
    "    molecule.OBMol.CorrectForPH(pH)\n",
    "    molecule.addh()\n",
    "    # add partial charges to each atom\n",
    "    for atom in molecule.atoms:\n",
    "        atom.OBAtom.GetPartialCharge()\n",
    "    molecule.write(\"pdbqt\", str(pdbqt_path), overwrite=True)\n",
    "    return\n"
   ]
  },
  {
   "cell_type": "code",
   "execution_count": 3,
   "metadata": {},
   "outputs": [
    {
     "name": "stderr",
     "output_type": "stream",
     "text": [
      "==============================\n",
      "*** Open Babel Warning  in PerceiveBondOrders\n",
      "  Failed to kekulize aromatic bonds in OBMol::PerceiveBondOrders (title is data/6np5/protein.pdb)\n",
      "\n"
     ]
    }
   ],
   "source": [
    "# convert protein to PDBQT format\n",
    "pdb_to_pdbqt(\"data/6np5/protein.pdb\", \"data/6np5/protein.pdbqt\")"
   ]
  },
  {
   "cell_type": "code",
   "execution_count": 11,
   "metadata": {},
   "outputs": [],
   "source": [
    "def sdf_to_pdbqt(sdf_path, pdbqt_path, pH=7.4):\n",
    "    \"\"\"\n",
    "    Convert a SDF file to a PDBQT file needed by docking programs of the AutoDock family. (Adapted from T015)\n",
    "\n",
    "    Parameters\n",
    "    ----------\n",
    "    sdf_path: str or pathlib.path\n",
    "        Path to input SDF file.\n",
    "    pdbqt_path: str or pathlib.path\n",
    "        Path to output PDBQT file.\n",
    "    pH: float\n",
    "        Protonation at given pH.\n",
    "    \"\"\"\n",
    "    molecule = next(pybel.readfile(\"sdf\", sdf_path))\n",
    "    # add hydrogens at given pH\n",
    "    molecule.OBMol.CorrectForPH(pH)\n",
    "    molecule.addh()\n",
    "    # generate 3D coordinates\n",
    "    molecule.make3D(forcefield=\"mmff94s\", steps=10000)\n",
    "    # add partial charges to each atom\n",
    "    for atom in molecule.atoms:\n",
    "        atom.OBAtom.GetPartialCharge()\n",
    "    molecule.write(\"pdbqt\", str(pdbqt_path), overwrite=True)\n",
    "    return"
   ]
  },
  {
   "cell_type": "code",
   "execution_count": 12,
   "metadata": {},
   "outputs": [],
   "source": [
    "# convert the ligand into PDBQT format\n",
    "sdf_to_pdbqt(\"data/6np5/ligand.sdf\", \"data/6np5/ligand.pdbqt\")"
   ]
  },
  {
   "cell_type": "markdown",
   "metadata": {},
   "source": [
    "### Docking"
   ]
  },
  {
   "cell_type": "code",
   "execution_count": 20,
   "metadata": {},
   "outputs": [],
   "source": [
    "def run_smina(\n",
    "    ligand_path, protein_path, autobox_ligand_path, out_path, num_poses=10, exhaustiveness=8\n",
    "):\n",
    "    \"\"\"\n",
    "    Perform docking with Smina.\n",
    "\n",
    "    Parameters\n",
    "    ----------\n",
    "    ligand_path: str or pathlib.Path\n",
    "        Path to ligand PDBQT file that should be docked.\n",
    "    protein_path: str or pathlib.Path\n",
    "        Path to protein PDBQT file that should be docked to.\n",
    "    out_path: str or pathlib.Path\n",
    "        Path to which docking poses should be saved, SDF or PDB format.\n",
    "    num_poses: int\n",
    "        Maximum number of poses to generate.\n",
    "    exhaustiveness: int\n",
    "        Accuracy of docking calculations.\n",
    "\n",
    "    Returns\n",
    "    -------\n",
    "    output_text: str\n",
    "        The output of the Smina calculation.\n",
    "    \"\"\"\n",
    "    output_text = subprocess.check_output(\n",
    "        [\n",
    "            \"smina\",\n",
    "            \"--ligand\",\n",
    "            str(ligand_path),\n",
    "            \"--receptor\",\n",
    "            str(protein_path),\n",
    "            \"--out\",\n",
    "            str(out_path),\n",
    "            \"--autobox_ligand\",\n",
    "            str(autobox_ligand_path),\n",
    "            \"--num_modes\",\n",
    "            str(num_poses),\n",
    "            \"--exhaustiveness\",\n",
    "            str(exhaustiveness),\n",
    "        ],\n",
    "        universal_newlines=True,  # needed to capture output text\n",
    "    )\n",
    "    return output_text"
   ]
  },
  {
   "cell_type": "code",
   "execution_count": 45,
   "metadata": {},
   "outputs": [
    {
     "name": "stdout",
     "output_type": "stream",
     "text": [
      "   _______  _______ _________ _        _______ \n",
      "  (  ____ \\(       )\\__   __/( (    /|(  ___  )\n",
      "  | (    \\/| () () |   ) (   |  \\  ( || (   ) |\n",
      "  | (_____ | || || |   | |   |   \\ | || (___) |\n",
      "  (_____  )| |(_)| |   | |   | (\\ \\) ||  ___  |\n",
      "        ) || |   | |   | |   | | \\   || (   ) |\n",
      "  /\\____) || )   ( |___) (___| )  \\  || )   ( |\n",
      "  \\_______)|/     \\|\\_______/|/    )_)|/     \\|\n",
      "\n",
      "\n",
      "smina is based off AutoDock Vina. Please cite appropriately.\n",
      "\n",
      "Weights      Terms\n",
      "-0.035579    gauss(o=0,_w=0.5,_c=8)\n",
      "-0.005156    gauss(o=3,_w=2,_c=8)\n",
      "0.840245     repulsion(o=0,_c=8)\n",
      "-0.035069    hydrophobic(g=0.5,_b=1.5,_c=8)\n",
      "-0.587439    non_dir_h_bond(g=-0.7,_b=0,_c=8)\n",
      "1.923        num_tors_div\n",
      "\n",
      "Using random seed: -505296952\n",
      "\n",
      "0%   10   20   30   40   50   60   70   80   90   100%\n",
      "|----|----|----|----|----|----|----|----|----|----|\n",
      "***************************************************\n",
      "\n",
      "mode |   affinity | dist from best mode\n",
      "     | (kcal/mol) | rmsd l.b.| rmsd u.b.\n",
      "-----+------------+----------+----------\n",
      "1       -9.5       0.000      0.000    \n",
      "Refine time 22.543\n",
      "Loop time 22.889\n",
      "\n"
     ]
    }
   ],
   "source": [
    "output_text = run_smina(\n",
    "    \"data/6np5/ligand.mol2\",\n",
    "    \"data/6np5/protein.pdbqt\",\n",
    "    \"data/6np5/ligand.mol2\",\n",
    "    \"data/results_rigid_receptor_6np5/docking_poses.sdf\",\n",
    "    num_poses=1\n",
    ")\n",
    "print(output_text)"
   ]
  },
  {
   "cell_type": "markdown",
   "metadata": {},
   "source": [
    "### Visualizing NP and Docking results "
   ]
  },
  {
   "cell_type": "code",
   "execution_count": 42,
   "metadata": {},
   "outputs": [],
   "source": [
    "import nglview as nv\n",
    "from rdkit.Chem import rdMolAlign"
   ]
  },
  {
   "cell_type": "code",
   "execution_count": 46,
   "metadata": {},
   "outputs": [
    {
     "data": {
      "application/vnd.jupyter.widget-view+json": {
       "model_id": "6729cb0d95a14e48ac1dfda08a577019",
       "version_major": 2,
       "version_minor": 0
      },
      "text/plain": [
       "NGLWidget()"
      ]
     },
     "metadata": {},
     "output_type": "display_data"
    }
   ],
   "source": [
    "view = nv.show_structure_file(\n",
    "    \"data/results_rigid_receptor_6np5/docking_poses.sdf\",\n",
    "    representations=[{\"params\": {}, \"type\": \"licorice\"}],\n",
    ")\n",
    "view"
   ]
  },
  {
   "cell_type": "markdown",
   "metadata": {},
   "source": [
    "### Calculating the RMSD"
   ]
  },
  {
   "cell_type": "code",
   "execution_count": 38,
   "metadata": {},
   "outputs": [
    {
     "data": {
      "image/png": "[encoded data removed]",
      "text/plain": [
       "<rdkit.Chem.rdchem.Mol at 0x7f845944ce80>"
      ]
     },
     "execution_count": 38,
     "metadata": {},
     "output_type": "execute_result"
    }
   ],
   "source": [
    "# load cocrystallized liagnd\n",
    "with Chem.SDMolSupplier('data/6np5/ligand.sdf') as suppl:\n",
    "  ligand_original = next(suppl)\n",
    "ligand_original"
   ]
  },
  {
   "cell_type": "code",
   "execution_count": 47,
   "metadata": {},
   "outputs": [
    {
     "data": {
      "image/png": "[encoded data removed]",
      "text/html": [
       "<table><tr><td colspan=2 style=\"text-align:center\"><image src=\"data:image/png;base64,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\"></td></tr>\n",
       "<tr><th style=\"text-align:right\">minimizedAffinity</th><td style=\"text-align:left\">-9.48571</td></tr></table>"
      ],
      "text/plain": [
       "<rdkit.Chem.rdchem.Mol at 0x7f84a11a48e0>"
      ]
     },
     "execution_count": 47,
     "metadata": {},
     "output_type": "execute_result"
    }
   ],
   "source": [
    "# load docking pose\n",
    "with Chem.SDMolSupplier('data/results_rigid_receptor_6np5/docking_poses.sdf') as suppl:\n",
    "  ligand_docking = next(suppl)\n",
    "ligand_docking"
   ]
  },
  {
   "cell_type": "code",
   "execution_count": 48,
   "metadata": {},
   "outputs": [
    {
     "data": {
      "image/png": "[encoded data removed]",
      "text/plain": [
       "<rdkit.Chem.rdchem.Mol at 0x7f84a11b2820>"
      ]
     },
     "execution_count": 48,
     "metadata": {},
     "output_type": "execute_result"
    }
   ],
   "source": [
    "# load np result\n",
    "with Chem.SDMolSupplier('data/results_rigid_receptor_6np5/lig_all.sdf') as suppl:\n",
    "  ligand_np = next(suppl)\n",
    "ligand_np"
   ]
  },
  {
   "cell_type": "code",
   "execution_count": 53,
   "metadata": {},
   "outputs": [
    {
     "name": "stdout",
     "output_type": "stream",
     "text": [
      "RMSD between NP ligand pose and cocrystallized pose:\t2.054057710602321\n",
      "RMSD between docking pose and cocrystallized pose:\t8.657857484004534\n"
     ]
    }
   ],
   "source": [
    "print(f\"RMSD between NP ligand pose and cocrystallized pose:\\t{rdMolAlign.CalcRMS(ligand_np, ligand_original)}\")\n",
    "print(f\"RMSD between docking pose and cocrystallized pose:\\t{rdMolAlign.CalcRMS(ligand_docking, ligand_original)}\")"
   ]
  },
  {
   "cell_type": "markdown",
   "metadata": {},
   "source": [
    "## Discussion\n",
    "\n",
    "Wrap up the talktorial's content here and discuss pros/cons and open questions/challenges."
   ]
  },
  {
   "cell_type": "markdown",
   "metadata": {},
   "source": [
    "## Quiz\n",
    "\n",
    "Ask three questions that the user should be able to answer after doing this talktorial. Choose important take-aways from this talktorial for your questions.\n",
    "\n",
    "1. Question\n",
    "2. Question\n",
    "3. Question"
   ]
  },
  {
   "cell_type": "markdown",
   "metadata": {},
   "source": [
    "<div class=\"alert alert-block alert-info\">\n",
    "\n",
    "<b>Useful checks at the end</b>: \n",
    "    \n",
    "<ul>\n",
    "<li>Clear output and rerun your complete notebook. Does it finish without errors?</li>\n",
    "<li>Check if your talktorial's runtime is as excepted. If not, try to find out which step(s) take unexpectedly long.</li>\n",
    "<li>Flag code cells with <code># TODO: CI</code> that have deterministic output and should be tested within our Continuous Integration (CI) framework.</li>\n",
    "</ul>\n",
    "\n",
    "</div>"
   ]
  },
  {
   "cell_type": "code",
   "execution_count": null,
   "metadata": {},
   "outputs": [],
   "source": []
  }
 ],
 "metadata": {
  "kernelspec": {
   "display_name": "teachopencadd",
   "language": "python",
   "name": "python3"
  },
  "language_info": {
   "codemirror_mode": {
    "name": "ipython",
    "version": 3
   },
   "file_extension": ".py",
   "mimetype": "text/x-python",
   "name": "python",
   "nbconvert_exporter": "python",
   "pygments_lexer": "ipython3",
   "version": "3.8.15"
  }
 },
 "nbformat": 4,
 "nbformat_minor": 4
}
