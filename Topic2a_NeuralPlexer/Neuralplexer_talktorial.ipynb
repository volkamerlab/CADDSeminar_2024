{
 "cells": [
  {
   "cell_type": "markdown",
   "metadata": {},
   "source": [
    "# T000 · NeuralPLexer an easy-to-follow usage guide\n",
    "\n",
    "Authors:\n",
    "\n",
    "- Katharina Buchthal 2024 Volkamerlab, Saarland University, Germany\n",
    "- Maximilian Bähr 2024 Volkamerlab, Saarland University, Germany\n"
   ]
  },
  {
   "cell_type": "markdown",
   "metadata": {},
   "source": [
    "*The examples used in this talktorial template are taken from [__Talktorial T001__](https://github.com/volkamerlab/teachopencadd/blob/master/teachopencadd/talktorials/T001_query_chembl/talktorial.ipynb) and [__Talktorial T002__](https://github.com/volkamerlab/teachopencadd/blob/master/teachopencadd/talktorials/T002_compound_adme/talktorial.ipynb).*"
   ]
  },
  {
   "cell_type": "markdown",
   "metadata": {},
   "source": [
    "<div class=\"alert alert-block alert-info\">\n",
    "\n",
    "<b>Cross-referencing talktorials</b>: If you want to cross-reference to existing talktorials in your notebook, please use the following formatting: <b>Talktorial T000</b>.\n",
    "\n",
    "</div>"
   ]
  },
  {
   "cell_type": "markdown",
   "metadata": {},
   "source": [
    "## Aim of this talktorial\n",
    "\n",
    "Understanding the basics of Neuralplexer and beeing able to use it."
   ]
  },
  {
   "cell_type": "markdown",
   "metadata": {},
   "source": [
    "### Contents in *Theory*\n",
    "\n",
    "_Add Table of Contents (TOC) for Theory section._\n",
    "\n",
    "* ChEMBL database\n",
    "* Compound activity measures"
   ]
  },
  {
   "cell_type": "markdown",
   "metadata": {},
   "source": [
    "### Contents in *Practical*\n",
    "\n",
    "_Add Table of Contents (TOC) for Practical section._\n",
    "\n",
    "* Connect to ChEMBL database\n",
    "* Load and draw molecules"
   ]
  },
  {
   "cell_type": "markdown",
   "metadata": {},
   "source": [
    "<div class=\"alert alert-block alert-info\">\n",
    "\n",
    "<b>Sync TOC with section titles</b>: These points should refer to the headlines of your <i>Practical</i> section.\n",
    "\n",
    "</div>"
   ]
  },
  {
   "cell_type": "markdown",
   "metadata": {},
   "source": [
    "### References\n",
    "\n",
    "* Paper \n",
    "* Tutorial links\n",
    "* Other useful resources\n",
    "\n",
    "*We suggest the following citation style:*\n",
    "* Keyword describing resource: <i>Journal</i> (year), <b>volume</b>, pages (link to resource) \n",
    "\n",
    "*Example:*\n",
    "* ChEMBL web services: [<i>Nucleic Acids Res.</i> (2015), <b>43</b>, 612-620](https://academic.oup.com/nar/article/43/W1/W612/2467881) "
   ]
  },
  {
   "cell_type": "markdown",
   "metadata": {},
   "source": [
    "## Theory"
   ]
  },
  {
   "cell_type": "markdown",
   "metadata": {},
   "source": [
    "### Diffusion Models"
   ]
  },
  {
   "cell_type": "markdown",
   "metadata": {},
   "source": [
    "Diffusion models are cool"
   ]
  },
  {
   "cell_type": "markdown",
   "metadata": {},
   "source": [
    "![ChEMBL web service schema](./images/example_plot.png)\n",
    "\n",
    "*Figure 1:* \n",
    "Describe figure and add reference.\n",
    "Figure and description taken from: [<i>Nucleic Acids Res.</i> (2015), <b>43</b>, 612-620](https://academic.oup.com/nar/article/43/W1/W612/2467881)."
   ]
  },
  {
   "cell_type": "markdown",
   "metadata": {},
   "source": [
    "<div class=\"alert alert-block alert-info\">\n",
    "    \n",
    "<b>Figures</b>: Place images in the <code>images/</code> folder and include them using Markdown <code>![Figure title](images/some_figure.jpg)</code>. Add a figure caption in the format shown in the example.\n",
    "\n",
    "</div>"
   ]
  },
  {
   "cell_type": "markdown",
   "metadata": {},
   "source": [
    "### Compound activity measures"
   ]
  },
  {
   "cell_type": "markdown",
   "metadata": {},
   "source": [
    "Lorem ipsum dolor sit amet, consetetur sadipscing elitr, sed diam nonumy eirmod tempor invidunt ut labore et dolore magna aliquyam erat, sed diam voluptua. At vero eos et accusam et justo duo dolores et ea rebum. Stet clita kasd gubergren, no sea takimata sanctus est Lorem ipsum dolor sit amet. Lorem ipsum dolor sit amet, consetetur sadipscing elitr, sed diam nonumy eirmod tempor invidunt ut labore et dolore magna aliquyam erat, sed diam voluptua. At vero eos et accusam et justo duo dolores et ea rebum. Stet clita kasd gubergren, no sea takimata sanctus est Lorem ipsum dolor sit amet."
   ]
  },
  {
   "cell_type": "markdown",
   "metadata": {},
   "source": [
    "$pIC_{50} = -log_{10}(IC_{50}*10^{-9})= 9-log_{10}(IC_{50}) $"
   ]
  },
  {
   "cell_type": "markdown",
   "metadata": {},
   "source": [
    "<div class=\"alert alert-block alert-info\">\n",
    "    \n",
    "<b>Formulas</b>: Please use LaTeX to format formulas.\n",
    "</div>"
   ]
  },
  {
   "cell_type": "markdown",
   "metadata": {},
   "source": [
    "If you place links, please link descriptive words.\n",
    "\n",
    "> __Yes__: [ChEMBL](https://www.ebi.ac.uk/chembl/) is a manually curated database of bioactive molecules\n",
    "\n",
    "> __No__: ChEMBL ([here](https://www.ebi.ac.uk/chembl/)) is a manually curated database of bioactive molecules"
   ]
  },
  {
   "cell_type": "markdown",
   "metadata": {},
   "source": [
    "<div class=\"alert alert-block alert-info\">\n",
    "    \n",
    "<b>Links</b>: If you place links, please link descriptive words.\n",
    "\n",
    "</div>"
   ]
  },
  {
   "cell_type": "markdown",
   "metadata": {},
   "source": [
    "## Practical"
   ]
  },
  {
   "cell_type": "markdown",
   "metadata": {},
   "source": [
    "In the practical part we will use NeuralPLexer to predict a sample structure and the complex (??)"
   ]
  },
  {
   "cell_type": "markdown",
   "metadata": {},
   "source": [
    "<div class=\"alert alert-block alert-info\">\n",
    "\n",
    "<b>Sync section titles with TOC</b>: Please make sure that all section titles in the <i>Practical</i> section are synced with the bullet point list provided in the <i>Aim of this talktorial</i> > <i>Contents in Practical</i> section.\n",
    "\n",
    "</div>"
   ]
  },
  {
   "cell_type": "markdown",
   "metadata": {},
   "source": [
    "<div class=\"alert alert-block alert-info\">\n",
    "    \n",
    "<b>Beware of section levels</b>: Please check if you are using the correct subsection levels. The section <i>Practical</i> is written in Markdown as <code>## Practical</code>, so every subsection within <i>Practical</i> is <code>###</code> or lower.\n",
    "\n",
    "</div>"
   ]
  },
  {
   "cell_type": "markdown",
   "metadata": {},
   "source": [
    "### Installation\n",
    "For GPU version see also: link to docker image\n",
    "For online cpu version follow the steps below:"
   ]
  },
  {
   "cell_type": "markdown",
   "metadata": {},
   "source": [
    "sice neuralplexer is mostly a command line tool, we can use it in a jupyter notebook."
   ]
  },
  {
   "cell_type": "code",
   "execution_count": 1,
   "metadata": {},
   "outputs": [
    {
     "name": "stderr",
     "output_type": "stream",
     "text": [
      "fatal: destination path 'NeuralPLexer' already exists and is not an empty directory.\n"
     ]
    },
    {
     "name": "stdout",
     "output_type": "stream",
     "text": [
      "Executing: cd NeuralPLexer\n",
      "Command completed successfully\n",
      "\n",
      "Executing: conda config --add channels nvidia\n"
     ]
    },
    {
     "name": "stderr",
     "output_type": "stream",
     "text": [
      "Warning: 'nvidia' already in 'channels' list, moving to the top\n"
     ]
    },
    {
     "name": "stdout",
     "output_type": "stream",
     "text": [
      "Command completed successfully\n",
      "\n",
      "Executing: conda config --add channels pytorch\n"
     ]
    },
    {
     "name": "stderr",
     "output_type": "stream",
     "text": [
      "Warning: 'pytorch' already in 'channels' list, moving to the top\n"
     ]
    },
    {
     "name": "stdout",
     "output_type": "stream",
     "text": [
      "Command completed successfully\n",
      "\n",
      "Executing: conda create -n neuralplexer_dev -y\n",
      "Channels:\n",
      " - pytorch\n",
      " - nvidia\n",
      " - defaults\n",
      " - conda-forge\n",
      "Platform: osx-64\n",
      "Collecting package metadata (repodata.json): ...working... done\n",
      "Solving environment: ...working... done\n",
      "\n",
      "## Package Plan ##\n",
      "\n",
      "  environment location: /Users/maxb/miniconda/envs/neuralplexer_dev\n",
      "\n",
      "\n",
      "\n",
      "Preparing transaction: ...working... done\n",
      "Verifying transaction: ...working... done\n",
      "Executing transaction: ...working... done\n",
      "#\n",
      "# To activate this environment, use\n",
      "#\n",
      "#     $ conda activate neuralplexer_dev\n",
      "#\n",
      "# To deactivate an active environment, use\n",
      "#\n",
      "#     $ conda deactivate\n",
      "\n",
      "Command completed successfully\n",
      "\n",
      "Executing: conda run -n neuralplexer_dev conda install pytorch torchvision -c pytorch -y\n",
      "Channels:\n",
      " - pytorch\n",
      " - nvidia\n",
      " - defaults\n",
      " - conda-forge\n",
      "Platform: osx-64\n",
      "Collecting package metadata (repodata.json): ...working... done\n",
      "Solving environment: ...working... done\n",
      "\n",
      "## Package Plan ##\n",
      "\n",
      "  environment location: /Users/maxb/miniconda/envs/neuralplexer_dev\n",
      "\n",
      "  added / updated specs:\n",
      "    - pytorch\n",
      "    - torchvision\n",
      "\n",
      "\n",
      "The following NEW packages will be INSTALLED:\n",
      "\n",
      "  blas               pkgs/main/osx-64::blas-1.0-mkl \n",
      "  brotli-python      pkgs/main/osx-64::brotli-python-1.0.9-py312hcec6c5f_8 \n",
      "  bzip2              pkgs/main/osx-64::bzip2-1.0.8-h6c40b1e_6 \n",
      "  ca-certificates    pkgs/main/osx-64::ca-certificates-2024.9.24-hecd8cb5_0 \n",
      "  certifi            pkgs/main/osx-64::certifi-2024.8.30-py312hecd8cb5_0 \n",
      "  charset-normalizer pkgs/main/noarch::charset-normalizer-3.3.2-pyhd3eb1b0_0 \n",
      "  filelock           pkgs/main/osx-64::filelock-3.13.1-py312hecd8cb5_0 \n",
      "  freetype           conda-forge/osx-64::freetype-2.12.1-h60636b9_2 \n",
      "  idna               pkgs/main/osx-64::idna-3.7-py312hecd8cb5_0 \n",
      "  intel-openmp       pkgs/main/osx-64::intel-openmp-2023.1.0-ha357a0b_43548 \n",
      "  jinja2             pkgs/main/osx-64::jinja2-3.1.4-py312hecd8cb5_1 \n",
      "  lcms2              conda-forge/osx-64::lcms2-2.16-ha2f27b4_0 \n",
      "  lerc               conda-forge/osx-64::lerc-4.0.0-hb486fe8_0 \n",
      "  libcxx             conda-forge/osx-64::libcxx-19.1.4-hf95d169_0 \n",
      "  libdeflate         conda-forge/osx-64::libdeflate-1.22-h00291cd_0 \n",
      "  libexpat           conda-forge/osx-64::libexpat-2.6.4-h240833e_0 \n",
      "  libffi             pkgs/main/osx-64::libffi-3.4.4-hecd8cb5_1 \n",
      "  libjpeg-turbo      pkgs/main/osx-64::libjpeg-turbo-3.0.3-h46256e1_0 \n",
      "  libpng             conda-forge/osx-64::libpng-1.6.44-h4b8f8c9_0 \n",
      "  libsqlite          conda-forge/osx-64::libsqlite-3.47.0-h2f8c449_1 \n",
      "  libtiff            conda-forge/osx-64::libtiff-4.7.0-h583c2ba_1 \n",
      "  libwebp-base       conda-forge/osx-64::libwebp-base-1.4.0-h10d778d_0 \n",
      "  libxcb             conda-forge/osx-64::libxcb-1.17.0-hf1f96e2_0 \n",
      "  libzlib            conda-forge/osx-64::libzlib-1.3.1-hd23fc13_2 \n",
      "  markupsafe         pkgs/main/osx-64::markupsafe-2.1.3-py312h6c40b1e_0 \n",
      "  mkl                pkgs/main/osx-64::mkl-2023.1.0-h8e150cf_43560 \n",
      "  mkl-service        pkgs/main/osx-64::mkl-service-2.4.0-py312h6c40b1e_1 \n",
      "  mkl_fft            pkgs/main/osx-64::mkl_fft-1.3.8-py312h6c40b1e_0 \n",
      "  mkl_random         pkgs/main/osx-64::mkl_random-1.2.4-py312ha357a0b_0 \n",
      "  mpmath             pkgs/main/osx-64::mpmath-1.3.0-py312hecd8cb5_0 \n",
      "  ncurses            conda-forge/osx-64::ncurses-6.5-hf036a51_1 \n",
      "  networkx           pkgs/main/osx-64::networkx-3.3-py312hecd8cb5_0 \n",
      "  numpy              pkgs/main/osx-64::numpy-1.26.4-py312hac873b0_0 \n",
      "  numpy-base         pkgs/main/osx-64::numpy-base-1.26.4-py312h6f81483_0 \n",
      "  openjpeg           pkgs/main/osx-64::openjpeg-2.5.2-hbf2204d_0 \n",
      "  openssl            conda-forge/osx-64::openssl-3.4.0-hd471939_0 \n",
      "  pillow             conda-forge/osx-64::pillow-11.0.0-py312h66fe14f_0 \n",
      "  pip                pkgs/main/osx-64::pip-24.2-py312hecd8cb5_0 \n",
      "  pthread-stubs      pkgs/main/osx-64::pthread-stubs-0.3-hdd91f34_1 \n",
      "  pysocks            pkgs/main/osx-64::pysocks-1.7.1-py312hecd8cb5_0 \n",
      "  python             conda-forge/osx-64::python-3.12.7-h8f8b54e_0_cpython \n",
      "  python_abi         conda-forge/osx-64::python_abi-3.12-5_cp312 \n",
      "  pytorch            pytorch/osx-64::pytorch-2.2.2-py3.12_0 \n",
      "  pyyaml             pkgs/main/osx-64::pyyaml-6.0.2-py312h46256e1_0 \n",
      "  readline           pkgs/main/osx-64::readline-8.2-hca72f7f_0 \n",
      "  requests           pkgs/main/osx-64::requests-2.32.3-py312hecd8cb5_1 \n",
      "  setuptools         pkgs/main/osx-64::setuptools-75.1.0-py312hecd8cb5_0 \n",
      "  sympy              pkgs/main/osx-64::sympy-1.13.2-py312hecd8cb5_0 \n",
      "  tbb                pkgs/main/osx-64::tbb-2021.8.0-ha357a0b_0 \n",
      "  tk                 conda-forge/osx-64::tk-8.6.13-h1abcd95_1 \n",
      "  torchvision        pytorch/osx-64::torchvision-0.17.2-py312_cpu \n",
      "  typing_extensions  pkgs/main/osx-64::typing_extensions-4.11.0-py312hecd8cb5_0 \n",
      "  tzdata             pkgs/main/noarch::tzdata-2024b-h04d1e81_0 \n",
      "  urllib3            pkgs/main/osx-64::urllib3-2.2.3-py312hecd8cb5_0 \n",
      "  wheel              pkgs/main/osx-64::wheel-0.44.0-py312hecd8cb5_0 \n",
      "  xorg-libxau        conda-forge/osx-64::xorg-libxau-1.0.11-h00291cd_1 \n",
      "  xorg-libxdmcp      conda-forge/osx-64::xorg-libxdmcp-1.1.5-h00291cd_0 \n",
      "  xz                 pkgs/main/osx-64::xz-5.4.6-h6c40b1e_1 \n",
      "  yaml               pkgs/main/osx-64::yaml-0.2.5-haf1e3a3_0 \n",
      "  zstd               conda-forge/osx-64::zstd-1.5.6-h915ae27_0 \n",
      "\n",
      "\n",
      "\n",
      "Downloading and Extracting Packages: ...working... done\n",
      "Preparing transaction: ...working... done\n",
      "Verifying transaction: ...working... done\n",
      "Executing transaction: ...working... done\n",
      "\n",
      "Command completed successfully\n",
      "\n",
      "Executing: conda run -n neuralplexer_dev conda env update -f./NeuralPLexer/environment_dev.yaml\n",
      "Channels:\n",
      " - nvidia\n",
      " - pytorch\n",
      " - pytorch3d\n",
      " - pyg\n",
      " - bioconda\n",
      " - conda-forge\n",
      " - defaults\n",
      "Platform: osx-64\n",
      "Collecting package metadata (repodata.json): ...working... done\n",
      "Solving environment: ...working... failed\n",
      "Channels:\n",
      " - nvidia\n",
      " - pytorch\n",
      " - pytorch3d\n",
      " - pyg\n",
      " - bioconda\n",
      " - conda-forge\n",
      " - defaults\n",
      "Platform: osx-64\n",
      "Collecting package metadata (repodata.json): ...working... done\n",
      "Solving environment: ...working... failed\n",
      "\n",
      "Error executing command: conda run -n neuralplexer_dev conda env update -f./NeuralPLexer/environment_dev.yaml\n",
      "Error message: Command 'conda run -n neuralplexer_dev conda env update -f./NeuralPLexer/environment_dev.yaml' returned non-zero exit status 1.\n"
     ]
    },
    {
     "name": "stderr",
     "output_type": "stream",
     "text": [
      "\n",
      "LibMambaUnsatisfiableError: Encountered problems while solving:\n",
      "  - nothing provides cuda 11.6.* needed by pytorch-cuda-11.6-h867d48c_0\n",
      "\n",
      "Could not solve for environment specs\n",
      "The following packages are incompatible\n",
      "└─ pytorch-cuda is not installable because there are no viable options\n",
      "   ├─ pytorch-cuda 11.6 would require\n",
      "   │  └─ cuda 11.6.* , which does not exist (perhaps a missing channel);\n",
      "   ├─ pytorch-cuda 11.7 would require\n",
      "   │  └─ cuda 11.7.* , which does not exist (perhaps a missing channel);\n",
      "   └─ pytorch-cuda 11.8 would require\n",
      "      └─ cuda 11.8.* , which does not exist (perhaps a missing channel).\n",
      "\n",
      "\n",
      "ERROR conda.cli.main_run:execute(125): `conda run conda env update -f./NeuralPLexer/environment_dev.yaml` failed. (See above for error)\n"
     ]
    },
    {
     "data": {
      "text/plain": [
       "False"
      ]
     },
     "execution_count": 1,
     "metadata": {},
     "output_type": "execute_result"
    }
   ],
   "source": [
    "import subprocess\n",
    "import os\n",
    "os.system('git clone https://github.com/zrqiao/NeuralPLexer.git')\n",
    "# os.system('echo y | cd NeuralPLexer && conda config --add channels nvidia && conda create -n neuralplexer_dev && conda activate neuralplexer_dev && conda install pytorch torchvision -c pytorch &&conda env update -f environment_dev.yaml && pip install -e .')\n",
    "# os.system('conda activate neuralplexer_dev && python -m ipykernel install --user --name=neuralplexer_dev_kernel')\n",
    "\n",
    "def setup_neuralplexer():\n",
    "    commands = [\n",
    "        'cd NeuralPLexer',\n",
    "        'conda config --add channels nvidia',\n",
    "        'conda config --add channels pytorch',\n",
    "        'conda create -n neuralplexer_dev -y',  # -y flag automatically answers yes\n",
    "        'conda run -n neuralplexer_dev conda install pytorch torchvision -c pytorch -y',\n",
    "        'conda run -n neuralplexer_dev conda env update -f./NeuralPLexer/environment_dev.yaml',\n",
    "        'conda run -n neuralplexer_dev pip install -e .',\n",
    "        'conda activate neuralplexer_dev',\n",
    "        'python -m ipykernel install --user --name=neuralplexer_dev_kernel'\n",
    "    ]\n",
    "    \n",
    "    for cmd in commands:\n",
    "        try:\n",
    "            print(f\"Executing: {cmd}\")\n",
    "            result = subprocess.run(cmd, shell=True, check=True, text=True)\n",
    "            print(f\"Command completed successfully\\n\")\n",
    "        except subprocess.CalledProcessError as e:\n",
    "            print(f\"Error executing command: {cmd}\")\n",
    "            print(f\"Error message: {str(e)}\")\n",
    "            return False\n",
    "    \n",
    "    print(\"Setup completed successfully!\")\n",
    "    print(\"To activate the environment, run: conda activate neuralplexer_dev\")\n",
    "    return True\n",
    "\n",
    "setup_neuralplexer()"
   ]
  },
  {
   "cell_type": "markdown",
   "metadata": {},
   "source": [
    "Now we have to switch the notebook kernel to the one we just created.\n",
    "\n",
    "in the top right corner of the notebook, click on the drop down menu and select the kernel you just created (neuralplexer_dev_kernel).\n",
    "\n"
   ]
  },
  {
   "cell_type": "markdown",
   "metadata": {},
   "source": [
    "Please Note that Neuralplexer is a command line tool. it will be executed from the command line. \n",
    "Therefore if you want to follow the steps from this notebook you need to open a terminal and execute the commands from there."
   ]
  },
  {
   "cell_type": "markdown",
   "metadata": {},
   "source": [
    "### Running NeuralPLexer mode1"
   ]
  },
  {
   "cell_type": "markdown",
   "metadata": {},
   "source": []
  },
  {
   "cell_type": "markdown",
   "metadata": {},
   "source": [
    "_In this section we will use NeuralPLexer to infer the protein structure of a given sequence._"
   ]
  },
  {
   "cell_type": "code",
   "execution_count": null,
   "metadata": {},
   "outputs": [],
   "source": [
    "#NO CUDA!\n",
    "#NOT FINAL\n",
    "os.system(\n",
    "    \"\"\"neuralplexer-inference \n",
    "            --task batched_structure_sampling \n",
    "            --sampler VPSDE \n",
    "            --input-receptor /media/max/2de90687-8e6f-4428-b0db-8ef542f5ffa7/neuralplexermodels_downstream_datasets_predictions/downstream_test_datasets/pdbbind_tasks/binding_site_recovery/6V5LA/protein.pdb \n",
    "            --input-ligand /media/max/2de90687-8e6f-4428-b0db-8ef542f5ffa7/neuralplexermodels_downstream_datasets_predictions/downstream_test_datasets/pdbbind_tasks/binding_site_recovery/6V5LA/ligand.sdf \n",
    "            --model-checkpoint /media/max/2de90687-8e6f-4428-b0db-8ef542f5ffa7/neuralplexermodels_downstream_datasets_predictions/models/complex_structure_prediction.ckpt \n",
    "            --out-path ./out \n",
    "            --separate-pdb \n",
    "            --n-samples 8 \n",
    "            --chunk-size 1 \n",
    "            --num-steps=30/media/max/2de90687-8e6f-4428-b0db-8ef542f5ffa7/docker\"\"\"\n",
    ")\n"
   ]
  },
  {
   "cell_type": "markdown",
   "metadata": {},
   "source": [
    "## Discussion\n",
    "\n",
    "Wrap up the talktorial's content here and discuss pros/cons and open questions/challenges."
   ]
  },
  {
   "cell_type": "markdown",
   "metadata": {},
   "source": [
    "## Quiz\n",
    "\n",
    "Ask three questions that the user should be able to answer after doing this talktorial. Choose important take-aways from this talktorial for your questions.\n",
    "\n",
    "1. Question\n",
    "2. Question\n",
    "3. Question"
   ]
  },
  {
   "cell_type": "markdown",
   "metadata": {},
   "source": [
    "<div class=\"alert alert-block alert-info\">\n",
    "\n",
    "<b>Useful checks at the end</b>: \n",
    "    \n",
    "<ul>\n",
    "<li>Clear output and rerun your complete notebook. Does it finish without errors?</li>\n",
    "<li>Check if your talktorial's runtime is as excepted. If not, try to find out which step(s) take unexpectedly long.</li>\n",
    "<li>Flag code cells with <code># TODO: CI</code> that have deterministic output and should be tested within our Continuous Integration (CI) framework.</li>\n",
    "</ul>\n",
    "\n",
    "</div>"
   ]
  },
  {
   "cell_type": "code",
   "execution_count": null,
   "metadata": {},
   "outputs": [],
   "source": []
  }
 ],
 "metadata": {
  "kernelspec": {
   "display_name": "py310_caddseminar2024",
   "language": "python",
   "name": "python3"
  },
  "language_info": {
   "codemirror_mode": {
    "name": "ipython",
    "version": 3
   },
   "file_extension": ".py",
   "mimetype": "text/x-python",
   "name": "python",
   "nbconvert_exporter": "python",
   "pygments_lexer": "ipython3",
   "version": "3.10.15"
  }
 },
 "nbformat": 4,
 "nbformat_minor": 4
}
