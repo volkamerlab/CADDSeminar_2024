{
 "cells": [
  {
   "cell_type": "markdown",
   "metadata": {
    "id": "Rc3gPsMdLgmK"
   },
   "source": [
    "# Relative Binding Free Energy Calculations\n",
    "\n",
    "Authors:\n",
    "- Aditi Lalla, CADD Seminar 2024-25, Universität des Saarlandes\n",
    "- Raquel López-Ríos de Castro, 2024-25, Charité Berlin"
   ]
  },
  {
   "cell_type": "markdown",
   "metadata": {
    "id": "ehs-GJfkwUap"
   },
   "source": [
    "__Note__\n",
    "\n",
    "This talktorial was designed to be run on Linux; for other Operating Systems please use the Google Colab link given in the Practical section. However, running the final calculations is only advisable on an HPC cluster."
   ]
  },
  {
   "cell_type": "markdown",
   "metadata": {
    "id": "hKQy_eKgMmz9",
    "scrolled": true
   },
   "source": [
    "## Aim of this talktorial\n",
    "\n",
    "This talktorial aims to explain the concept of relative binding free energy (RBFE), why we use it in CADD, and to demonstrate how we use it with the help of [OpenFE](\"https://docs.openfree.energy/en/stable/index.html\"). OpenFE is a freely available open-source toolkit that performs free energy calculations."
   ]
  },
  {
   "cell_type": "markdown",
   "metadata": {
    "id": "1KVizU3UVCxF"
   },
   "source": [
    "## Contents in *Theory*\n",
    "\n",
    "- What is *Free Energy*?\n",
    "    - Use in CADD\n",
    "    - Absolute vs Relative binding free energy\n",
    "- Thermodynamic Cycle\n",
    "- Alchemical Transformation\n",
    "- Ligand Similarity"
   ]
  },
  {
   "cell_type": "markdown",
   "metadata": {
    "id": "kdamNfk7VCxF"
   },
   "source": [
    "## Contents in *Practical*\n",
    "\n",
    "- Setup and Installation on Google Colab\n",
    "- Input and Output\n",
    "- Protein Structure\n",
    "- Ligand Compounds\n",
    "  - View Structures\n",
    "  - Map ligands\n",
    "  - Create Ligand Mapping Network\n",
    "- Prepare for Calculation\n",
    "  - Define the Chemical Systems\n",
    "  - Define RBFE Simulation Protocol\n",
    "- Perform the RBFE Calculation\n",
    "  - Create Transformation\n",
    "  - Run\n",
    "- Analyse Results"
   ]
  },
  {
   "cell_type": "markdown",
   "metadata": {
    "id": "6-eGqFELMm0A"
   },
   "source": [
    "## References\n",
    "\n",
    "* Koby SB, Gutkin E, Patel S, Kurnikova M. An Automated On-The-Fly Optimization of Resource Allocation for High-Throughput Protein-Ligand Binding Free Energy Simulations. [*ChemRxiv*, 2023. DOI: 10.26434/chemrxiv-2023-rtpsz](https://chemrxiv.org/engage/chemrxiv/article-details/64c9a059ce23211b20f603fd)\n",
    "* Chodera JD and Shirts MR. Replica exchange and expanded ensemble simulations as Gibbs multistate: Simple improvements for enhanced mixing. [*J. Chem. Phys.*, 135:194110, 2011. DOI:10.1063/1.3660669](https://pubs.aip.org/aip/jcp/article/135/19/194110/189775/Replica-exchange-and-expanded-ensemble-simulations)\n",
    "* Friedrichs MS, Eastman P, Vaidyanathan V, Houston M, LeGrand S, Beberg AL, Ensign DL, Bruns CM, and Pande VS. Accelerating molecular dynamic simulations on graphics processing unit. [*J. Comput. Chem.*, 30:864, 2009. DOI: 10.1002/jcc.21209](https://onlinelibrary.wiley.com/doi/10.1002/jcc.21209)\n",
    "* Eastman P and Pande VS. OpenMM: A hardware-independent framework for molecular simulations. [*Comput. Sci. Eng.* 12:34, 2010. DOI: 10.1109/MCSE.2010.27](https://dl.acm.org/doi/abs/10.1109/MCSE.2010.27)\n",
    "* Eastman P and Pande VS. Efficient nonbonded interactions for molecular dynamics on a graphics processing unit. [J. Comput. Chem. 31:1268, 2010. DOI: 10.1002/jcc.21413](https://onlinelibrary.wiley.com/doi/full/10.1002/jcc.21413)\n",
    "* Eastman P and Pande VS. Constant constraint matrix approximation: A robust, parallelizable constraint method for molecular simulations. [J. Chem. Theor. Comput. 6:434, 2010. DOI: 10.1021/ct900463w](https://pubs.acs.org/doi/full/10.1021/ct900463w)\n",
    "* [TeachOpenCADD MD Simulations Talktorial](https://projects.volkamerlab.org/teachopencadd/talktorials/T019_md_simulation.html)\n",
    "* [OpenFreeEnergy Documentation](https://docs.openfree.energy/en/stable/index.html)"
   ]
  },
  {
   "cell_type": "markdown",
   "metadata": {
    "id": "kfWF_iPXMm0A"
   },
   "source": [
    "## Theory"
   ]
  },
  {
   "cell_type": "markdown",
   "metadata": {
    "id": "yFZ6Mhc-Mm0B"
   },
   "source": [
    "### What is *Free Energy*?"
   ]
  },
  {
   "cell_type": "markdown",
   "metadata": {
    "id": "-1I_03vsMm0B"
   },
   "source": [
    "Free energy is a thermodynamic quantity that represents the work a system can perform while transitioning from one state to another under constant temperature and pressure. In computational drug discovery (CADD), binding free energy quantifies the favorability of a ligand binding to its target protein, making it a central concept for predicting binding affinities."
   ]
  },
  {
   "cell_type": "markdown",
   "metadata": {
    "id": "pSco3IFUlQ3p"
   },
   "source": [
    "#### Use in CADD"
   ]
  },
  {
   "cell_type": "markdown",
   "metadata": {
    "id": "QGsFtYrLlhLo"
   },
   "source": [
    "Binding free energy calculations have become an essential tool in CADD for evaluating and prioritizing compounds. Relative Binding Free Energy (RBFE) calculations, in particular, offer a robust alternative to time-intensive molecular dynamics (MD) simulations or much less accurate machine-learning (ML) based filtering algorithms. By leveraging alchemical transformations, RBFE allows us to screen large libraries of compounds in a computationally efficient manner. These calculations yield predictions that are as accurate as MD simulations in capturing compound behavior in situ while significantly reducing computational costs and time.\n",
    "\n",
    "This efficiency makes RBFE particularly valuable in lead optimization, where subtle modifications to a ligand structure can be rapidly assessed for their impact on binding affinity. This capacity to process large datasets in less time is transformative for high-throughput virtual screening workflows."
   ]
  },
  {
   "cell_type": "markdown",
   "metadata": {
    "id": "tR5l8uewlX2B"
   },
   "source": [
    "#### Absolute vs. Relative Binding Free Energy"
   ]
  },
  {
   "cell_type": "markdown",
   "metadata": {
    "id": "eMteu_A6lns8"
   },
   "source": [
    "Binding free energy calculations in CADD can be broadly categorized into absolute and relative approaches."
   ]
  },
  {
   "cell_type": "markdown",
   "metadata": {
    "id": "2VHYlcprHWbt"
   },
   "source": [
    "- Relative Binding Free Energy (RBFE):\n",
    "\n",
    "  - RBFE focuses on the change in binding free energy when one ligand is modified to another, such as adding or substituting functional groups. Instead of calculating the absolute energy for each ligand, RBFE measures the difference between two similar ligands.  An RBFE cycle is depicted in part (A) of the image below.\n",
    "  - This approach significantly reduces computational costs and time while maintaining accuracy, as the structural and chemical similarity between ligands minimizes the complexity of transformations.\n",
    "  - RBFE is particularly useful in lead optimization, where small chemical changes to a ligand are evaluated for their impact on binding affinity."
   ]
  },
  {
   "cell_type": "markdown",
   "metadata": {
    "id": "Gem2Xumz5roI"
   },
   "source": [
    "<figure style=\"text-align: center;\">\n",
    "    <img src=\"https://www.researchgate.net/publication/372875380/figure/fig1/AS:11431281178806721@1691071275867/Alchemical-Thermodynamic-Cycles-for-RBFE-left-and-ABFE-right-The-arrows-determine.png\" width=\"600\"/>\n",
    "    <figcaption><strong>Figure 1:</strong> Alchemical Thermodynamic Cycles for RBFE (left, A) and ABFE (right, B). The arrows determine the direction of the free energy calculations.</figcaption>\n",
    "    <figcaption><strong>Source:</strong> An Automated On-The-Fly Optimization of Resource Allocation for High-Throughput Protein-Ligand Binding Free Energy Simulations, 2023, Koby et. al.</figcaption>\n",
    "</figure>\n"
   ]
  },
  {
   "cell_type": "markdown",
   "metadata": {
    "id": "AhKf_YMSHJoG"
   },
   "source": [
    "- Absolute Binding Free Energy (ABFE):\n",
    "\n",
    "  - ABFE calculations estimate the free energy of a ligand binding to a target protein from scratch, considering all possible interactions between the ligand, protein, solvent, and surrounding environment.\n",
    "  - These calculations require simulating the full binding process and are more computationally intensive because they involve sampling the ligand and protein in various configurations. An ABFE cycle is depicted in part (B) of the image above.\n",
    "  - While highly accurate, ABFE is generally reserved for smaller datasets or cases where high precision is critical, such as when validating experimental results."
   ]
  },
  {
   "cell_type": "markdown",
   "metadata": {
    "id": "0nEY2p9HHjzV"
   },
   "source": [
    "While ABFE provides a complete picture of ligand binding, it is often impractical for large-scale virtual screening due to its computational demands. RBFE, on the other hand, offers a practical alternative by leveraging ligand similarity and thermodynamic cycles to rapidly assess binding free energy differences.\n",
    "\n",
    "In this talktorial, we focus on RBFE as a computationally efficient tool for guiding drug discovery efforts."
   ]
  },
  {
   "cell_type": "markdown",
   "metadata": {
    "id": "KV-qQEZuMm0C"
   },
   "source": [
    "### Thermodynamic Cycle"
   ]
  },
  {
   "cell_type": "markdown",
   "metadata": {
    "id": "5sy9oo3IMm0C"
   },
   "source": [
    "RBFE calculations rely on thermodynamic cycles to estimate the difference in binding affinities between two ligands. The attached diagram illustrates a thermodynamic cycle, which decomposes the binding free energy into two alchemical transformations: one in solution and the other in the binding site."
   ]
  },
  {
   "cell_type": "markdown",
   "metadata": {
    "id": "zYfMDiiFzBXp"
   },
   "source": [
    "<figure style=\"text-align: center;\">\n",
    "    <img src=\"https://raw.githubusercontent.com/OpenFreeEnergy/openfe/main/docs/guide/protocols/img/rbfe_thermocycle.png\" width=\"600\"/>\n",
    "    <figcaption><strong>Figure 2:</strong> Thermodynamic Cycle for RBFE calculations. The arrows determine the direction of the free energy calculations.</figcaption>\n",
    "    <figcaption><strong>Source:</strong> Open Free Energy Github Resources.</figcaption>\n",
    "</figure>"
   ]
  },
  {
   "cell_type": "markdown",
   "metadata": {
    "id": "KftSGTdZzAoC"
   },
   "source": [
    "- **In the binding site:** The free energy change represents the transformation of ligand A to ligand B while bound to the protein target.\n",
    "\n",
    "- **In solution:** The free energy change reflects the same transformation, but in isolation (without the protein).\n",
    "\n",
    "By combining these two transformations, we eliminate the need to directly calculate the absolute binding free energies, which are computationally demanding. Instead, the relative binding free energy ($\\Delta \\Delta G_{\\text{bind}}$) is derived using the equation:"
   ]
  },
  {
   "cell_type": "markdown",
   "metadata": {
    "id": "8YZA_5TbMm0C"
   },
   "source": [
    "#### $\\Delta \\Delta G_{\\text{bind}} = \\Delta G_{\\text{site}} - \\Delta G_{\\text{solv}}$"
   ]
  },
  {
   "cell_type": "markdown",
   "metadata": {
    "id": "0Axw-9Dqw-ij"
   },
   "source": [
    "This approach provides an accurate and efficient way to compare the binding affinities of structurally similar compounds."
   ]
  },
  {
   "cell_type": "markdown",
   "metadata": {
    "id": "rJLA0mYMnE6g"
   },
   "source": [
    "### Alchemical Transformations"
   ]
  },
  {
   "cell_type": "markdown",
   "metadata": {
    "id": "kD6YnqKknE6h"
   },
   "source": [
    "Alchemical transformations form the backbone of RBFE calculations. These involve the hypothetical, gradual conversion of one molecule into another by altering atomic or molecular properties, such as removing or adding functional groups.\n"
   ]
  },
  {
   "cell_type": "markdown",
   "metadata": {
    "id": "cN558TzK0K4J"
   },
   "source": [
    "<figure style=\"text-align: center;\">\n",
    "    <img src=\"https://docs.openfree.energy/en/v1.0.0/_images/tutorials_showcase_notebook_6_0.png\" width=\"600\"/>\n",
    "    <figcaption><strong>Figure 3:</strong> Alchemical Transformation of Benzene</figcaption>\n",
    "    <figcaption><strong>Source:</strong> Open Free Energy Documentation</figcaption>\n",
    "</figure>"
   ]
  },
  {
   "cell_type": "markdown",
   "metadata": {
    "id": "InpJzQdw0J_q"
   },
   "source": [
    "The diagram you see visualizes an alchemical transformation of benzene into substituted derivatives, showing the intermediate states through which the transformation progresses. Key aspects of this process include:\n",
    "\n",
    "- **Intermediate states:** These are constructed to ensure a smooth transition between the initial and final states, enabling accurate free energy estimates.\n",
    "\n",
    "- **Soft-core potentials:** These are used to prevent numerical instabilities during transformations, especially when atoms are being annihilated or created.\n",
    "\n",
    "By employing alchemical transformations, we can simulate changes in molecular structure and compute their impact on binding affinity, even for chemically diverse compounds."
   ]
  },
  {
   "cell_type": "markdown",
   "metadata": {
    "id": "Js-8jP7PnKJV"
   },
   "source": [
    "### Ligand Similarity"
   ]
  },
  {
   "cell_type": "markdown",
   "metadata": {
    "id": "eORtZEJonKJV"
   },
   "source": [
    "In CADD, ligand similarity plays a pivotal role in prioritizing compounds for RBFE calculations. Ligands that share structural or chemical similarities with a known active compound are more likely to exhibit similar binding behavior, making them ideal candidates for RBFE workflows.\n",
    "\n",
    "Ligand similarity is typically quantified using algorithms like the **Tanimoto similarity index**, which compares the chemical fingerprints of two molecules. Clustering algorithms can further group ligands based on similarity, facilitating the selection of representative compounds for RBFE analysis."
   ]
  },
  {
   "cell_type": "markdown",
   "metadata": {
    "id": "0O-wbVWRN6Yf"
   },
   "source": [
    "<figure style=\"text-align: center;\">\n",
    "    <img src=\"https://miro.medium.com/max/1400/0*LtCn9l019IeLViyP\" width=\"600\"/>\n",
    "    <figcaption><strong>Figure 4:</strong> Structural Similarity and Tanimoto Score</figcaption>\n",
    "    <figcaption><strong>Source:</strong> CMBI</figcaption>\n",
    "</figure>"
   ]
  },
  {
   "cell_type": "markdown",
   "metadata": {
    "id": "bpdXRkj5ORTG"
   },
   "source": [
    "By focusing on structurally related ligands, we can maximize the efficiency of RBFE calculations and enhance the predictive power of our models. Later in this talktorial, we will explore practical applications of ligand similarity by generating a heatmap and applying clustering techniques to analyze a ligand dataset."
   ]
  },
  {
   "cell_type": "markdown",
   "metadata": {
    "id": "dxFacxMuwQeK"
   },
   "source": [
    "As an example, here are two molecules from our ligand set that are very similar in structure:"
   ]
  },
  {
   "cell_type": "markdown",
   "metadata": {
    "id": "QJnqOUzIkP6B"
   },
   "source": [
    "![similar compounds.png](data:image/png;base64,iVBORw0KGgoAAAANSUhEUgAAAYgAAAB8CAYAAABzNyedAAAAAXNSR0IArs4c6QAAAARnQU1BAACxjwv8YQUAAAAJcEhZcwAADsMAAA7DAcdvqGQAAC7nSURBVHhe7Z0JnE7V/8cPfijJvmSNsW8hsmUnL/q1IFslNCGylChbtkIlbShZ4pd9zZLqT4vsZRmhSCq7lGVoMJbh/M/ne895PKYZ8yz3PGae+b7ndV/3PPfe57lz7z3nfLdzzzeNVAiGYRiGiUdavWYYhmGYG2ABwTAMwyQICwiGYRgmQVhAMAzDMAnCAoJhGIZJEBYQDMMwTIKwgGAYhmEShAUEwzAMkyAsIBiGYZgEYQHBMAzDJAgLCIZhGCZBWEAwDMMwCcICgmEYhkkQFhAMwzBMgrCAYBiGYRKEBQTDMAyTICwgGIZhmARhAcEwDMMkCAsIhglTduzYoUs3lhnGV1hAMEyYMmHCBF26scwwvsICgmHClJiYGPHBBx/QcvbsWb2VYXwnrATE33//rUs3lhkmNXLHHXeI1q1b05I5c2a9lWF8J6wExODBg3XpxjLDpEbSpk0r8uTJQ0u6dOn0VobxnbASEFeuXBGrV6+m5dy5c3orw6ROOnbsKGbOnCl2794tRo8erbcyjO+EXQwiTZo0tDBMauf7778XHTp0EFOmTBG5c+fWWxnGd8JKQKRPn17Ur1+fFva5MqmdgwcP0vruu++mNcP4S1gJiF69eolt27aJn3/+mcrMrWfMmDG6dGOZsc/+/ftpXbRoUVozjL+ElYAoU6aMqFq1qqhcubK455579FbmVrJv3z5durHM2OfAgQO0LlKkCK2ZlMmqVavE4cOHqTxnzhwRGxtL5VAQVgLi8uXLtM6QIQOtmVsPOqnhw4fTcu3aNb2VCQXGxcQCImXz66+/iujoaCpHRUXRYJxQwQKCsQo6JyMgMOySCQ0nTpygkXzZs2cXWbNm1VuZlMrEiRPFsGHDxMaNG/WW0MACgrHKvffeq0tCVKpUSZw6dUp/Sl2E+iVOjj+EF927dxcjRowQtWrV0ltCQ1gKCIxmYpIHqNgApjHmA+rcuTN9Tm288sorunRj2RYcfwgf8KJjpkyZqFyoUKGQDuMPKwFhfHNsQSQ/ChYsKI4ePSqWLl0q1q9fr7cGxhdffOFRBpYsWULr5E5cXJz49ttvacEcSbZhARE+tGnTRhQvXlzs2bNHfPPNN+L555/Xe+zDLiYmJEALevHFF6nct29fIaWkciCgkVy6dInKX375Ja1TApjuIlRTXrCASH7Mnz+f1hissWjRIir7A6wIKEcYyRSqueZYQDAho1+/fiJfvnxi8+bNYvHixXprYGDqCATtoFWlBP7zn/+IevXq0XLnnXeKsWPHimeffdYj6NyGBUTy4+uvv6Y1BAQsSX/BC48PPvgg1Zlp06bprXZhAcGEDLzdPnToUCr379/f87x8Ace+//77IjIykj4PGjSIgnZ49yUl0LNnT10Son379vS/T548WdSpU8fTmbsFOhDMvwQ4SJ18wHtAGM336quv6i3+06NHD1pjVNPVq1epHAh79+7VpRvL/0KZ+taIi4uTqrJSWTVweeXKFSrbYsOGDfBbyJo1a+otTHIDdaJs2bL0nMaNG6e3Jo7StqQyzWWxYsXoO1i6du0qz507R/v79u1L65TGtm3bPNeUJUsWuXDhQr0ncI4ePSqVVSVz584tlcUilaUiH374YRkdHa2PYG4lnTt3pjX6we7du1PZX9AeSpUqRfVm6dKleqv/dOnSRZduLMfHqgWxdetWmk0SfPrpp2LNmjVUtgUHqZM/8MGPGjWKytCkbpbIBpPNQcNu27at+P3330Xp0qXFggULxKRJkyjXAYCrJiWC4b8Y2dWqVSvxzz//UCASwUd/X4JSbZhcFy1atBCFCxcmywTvQERERJAr47PPPhPVq1cXO3fu1N9wn+ir0WL3xd3iqrwqVv6zUm9l4pMzZ05aYxSSKfsLvtutWzcqIxFUoPz5559ixowZtNwUR07YQTVwqSqsVJVTvvXWW1JVZL3HDqtWrSLJ2rhxY73FHn9d+UsOOjpI9j/SX26/sF32PNRT72F8oUGDBvSsBg8erLdcZ8+ePbJ169a0Hws04vfee8+6BXorgEaIa0ufPj1da7Vq1eSBAwf03sRRQkUqQSnLly/vuU9KMaL79tVXX9G9GjNmjKxYsSLtu+222+g8brM2Zq3sdrCbnHlqppx/ej63Ax/45JNPpFIQ5G+//aa3+MeZM2ekUpCkEhbUVnwB9Qz1AvVj/Pjxsn379lIpXbTczIKwLiBgSsF87tOnDwkIXyp/IOzevVs2atRI5s2bV2bNmpUegk3QKI5ePiqV1iRPXjkpexzqofekcC5ckEqaSzl8uJQbN+qN7vPDDz9QBb/99tvloUOHaNvff/8te/fuTe4RdGpoBP3796fOMNzZvHmzLFKkCF13rly55Jdffqn33MjevXvpnmTLls0jGPLly0fbjhw5oo+S8qWXXqJ9Dz74ILnkzLFPPfWUxz0XLHHX4mTkgUgZezVWb5EsIHzg6aefpmfRr18/vcV/nn32WfqNXr166S0JA/fiO++8I4sXL+6pA/fcc4/PLibrAmLq1KlUnjdvnvzwww+p8aOSojNwg8OHD9MNT5cuHV08OhxzIx566CH5xx9/6CPd4eK1i/JM3Bn51P6n9BaHsBEQAwZA2kp59aqUkZFSnjypd7iPsRI6duwo33jjDfKZ4zPqCDo1ZQbrI1MHJ06ckE2bNqV7AOGJTh8xm6vqWSxfvpwsY2w39fv++++XCxYsSNCyWrFihcyRIwcdV6hQIYpNQODic+nSpeWuXbv0kf4Bheirf5Qm+kdr2fFAR9npQCd55dr187OASJqoqCh6DhDy58+f11v946effqK6gDZz9uxZvfU6sCygbJlnjiV//vxUD9D3ot80eJfjY1VAoML/+uuvVN6/f7988803yQzGPwu3wccff0ymTyDExMRQp5I5c2b6PZjo6FQQqMN5cubMSdshMHBTLl68qL8ZGNfU34LTC2TETxGy+6HusvPBzjI67nrwL2wERKdOuqCYNk3KNWtQo6WcO1dvdI9ffvmFBLt3p9eiRQvanlqBMIBb1ig8ZcqUoYZt7g86hB49epDFnBSwzDBgA9+D0EVA37ik0G7mzJmjj0ya03Gn5djjY2Wxn4pJsU39L2rJ+mNWuTB6oRx4dKBcF7NObjq3iQWEj9SoUYOeg1GgA6Fu3br0G1C8AZQJfxWJpLAqIBICAqNJkyaef75q1apkXvsKRkPB9wpXkvkNWAr79u2j/XAtoTFgxEC7du08NwomVmJme1J8/c/X8t4993oaBsr7Lu6Tzx9+Xr585GW54dwG+c5f7+ijUzjKdJXGBTFkiJTwk6rKrG6ilPXqSfnzz86+IIE/1HRWmTJlIm1qDYQRQ6xevZqUnIIFC9I9KlmyJClEp0+f1kf4BjoFWCKmHWBUE/zPKGOBNX8BbsVEgLbbf3t/mWl7Jk/9L7qrqBxzfAy5VsGe2D1y+ZnlFJdDmUmamTNn0v2vVKmS3uI/GN1n6sbrr79OlqJ5rhgZB4UZlkYwhFxAGCDpzAWhQ4c5lJCp5A2+4+1LgxRet26d3usAa8FoXwUKFJDDhw+X5cqV83wHwuTgwYP66Juz69wu2WxfM0/DKLizoJx2chqZ2WELBC38mggev/uulJ9+6sQjlMWnbqBUpppUDwsmnP6Cf2zcuJE0GvM8MNQTAgJlCA3mOiZ2gHWglrYBQyJN3KJEiRLytdde89z3ypUr3xAwxdB0aJzQRLG/Wr9qMs22NLLxr43JivZ2KTGBgXtslFwMzw+Eb7/9ljwkadOmpd/BAqVr4sSJ5GFxg1smIACCZdBuICBwcQi2wQKI3xg2bdoka9eu7bkJGAeMCpwY27dv95jWWOrXry8HDhzo8XHDLwdBYt7RiA+CfWiU93ZxrIbM2zPTaKWYq+7c9BQD4g+5ckmlfkrZpo1UqqdUtdERFEWKyPMrVugDkwaWI2IORpOFdgyNGK6/kSNH0jZoU3CxMA5wt+G+DBo0iAKLr776qt4TGBggglFS+E2MakKQ1Chc0Dg/+ugjZTQOkXfddRdtwwKh8mK/F+WvsY6rONVw4oQzWOP99zFkTG90FzxX3OMnnnhCb0ma2NhY6iPN6DQs6D9haX733Xf6KPe4pQLC8OOPP8patWp5Lhgd+s8//0y+aO/hjhjd4etwRwgZ3EjEOvBdxCgiIyPl448/7vk9NLr169frb0iyYCBIjGaFeMnQnUPliSuqsqRGEEBTglRmzOgIhRw58GaaVL0MCYouSltJaiDASSVkoARkVL+Be4p7i88YqmeAi8NYk7Nnz9ZbGQhM3BPEDrBG7CFY0MHAWsfvYWnbtq185JFHqGwUKCxoG3DlujXiKcXx5JNSHj8uVeWW8pln9EZ3QYwInTv6maQGZMCFjnZjYqtYYIH07NmT+jb8zs2CzYGSLAQEgOY4ZcoUzw3ARRtXEQJqcBUFYjbBZ4sGYcwwSNqhQ4fSSA58hkb7pKoMY8eOTTSu4RZwkZmhiAhOIZ5iCwhRYyFBS0cAK2AQd1BCW90YZ1HW3K+vvUbDiXGv0OnDCvAeCIDRGbAQzDG4/xD2iQ1zxoAFHIehnsEOKAgXjEvIDGnEu0RuMWPGDM8IF9x7406CUFq7dq0+KpWCfkZ1vB7MwI0g3XwJYazEhKxD9Inm3QXTF2KpUqUKCW8Ie4BYK7a/8sor9NlNko2AMKBD79atG5m8qMBw9Rw7dkzvDZwtW7bI++67z3OTmzVrRoLDaLbGzVWnTh0anmuDt99+2/NiC8YvmwdsA1QsBLEABC/eOwgaJeCUhJXXsmeX5ZQwTWggwBdffEHuv7vvvttzr9H5wEq8GWgMRmOGsE7twMLCvUAbaN68OZXdmI7DG1jpcDPB2oYlgXPMmjVL77UD3L+fIq6l+Pzzz92pl24DN2fHjvqD4ik9pB3vC6j+SGlezmcXwLthuO8YqWYURjx7eEqKFi1K+7Cgn8KAAty/+CAOi2PgLXFbuUp2AgLA3MIFQ6PfunUrdXb+jt5ICGjV7777Lgkf/D7WEBxmqOz06dP1kXaAgICbAPEP+IJtCwhonDt27KDzudYQo6PlKmXNeQ8EgEWG4Zj47L1ghBoCab6CDgPfy64E0KlTp/TW1Ak6AtwLBB2NvxltwRbVq1enc3i7XG2AgOw0DJ9WYJitP/UjpCirSr78spR9+jgDNaDgZMjgWNDqXilTWB8YPGY0H4bnQyE2Lm4sGMQBSxyu2puBN7NxvNsCPlkKCIwywsUWLlyYNHqU3TR7YZFAGr/wwgv02bi1knoIwRJqC+LFF1+UixYtorfZ3dbU4g8E8A6a4bnBBA4k4GxcHXgTODUDLRv3AcNSjZvOZv3MkycPnQPvEdkEAgIxDygVLVu2TL4Cwhu8l4NRfHDhREQ4QkI9E9W49AGBA40fL4ri3psF7li8AQ9r3Nc2NHnyZPqu2xOVJksBAd8/LhYuC6PZ2HD7mJtvgnNJDbMNFrh8zBBbmJCJjaJyAysupnjg/kEQmDd2scAsDsbMheBBA0HgDvPEpFYwPQLupxnqijpqCwwSgJsQboxAhLo/hNKCQLzPvKiLFwsDfjNfCTP1EJwFI/lU501ljO7r319eDeAFNCipsAxggeP5Gjct4g2+vAQZHzxD0w7hFXGLZJkPAnP/g/Tp01vN8aA6IlpfCdEssJixU1kR4oEHHhBNmjSxer5y5cqJEiVKCNVIhNIqaHZPt8H9Ux0YzSdfu3Zt2tawYUOhOhoqB0KlSpXE448/Ts992LBhemvqw+SIQA4NYDPxz/79+6EoUkIa0yZskTdvXlGyZEkqFytWTOTPn5/KNlDCgWaUBkrBFH/88QeV/WbECCE++QQp3YSYNQs3TIgBA5AFShxYv17UV3Vedfj64MTBPVYCUTz22GM08+4A9RtIw1u5cmVRv359OiZXrlwB5Ti5/fbbRadOnaiMXBGuQWIimYGAJv41uC3MS26Bzh3jC9BYcQ7b2hPACAScy00pnxiYhAvngvlpG7zuj3MFOs+9N5iWBdosnktqtSLM0FMz6R4+28LEfjDDQSjACEK0a7fmY0sMWCdwY8GdhfsX6AtpHnbskLJkScd6yJJFxowaJe/R75HARQerPSHMzLsVKlSgY7HAQoa1YL4DqwFWBOKh3kPA/QEvO6LN4OU5t9yRydqCgIZtW7tXQoHmzU+XLp117QmEyloBNq2v+Lh5LmjL7777rpg3b57H8kE+iNQEtHoQFxdHa9sWBAhF9jnUE2j2sDqzZ8+ut9oD+TaQI6N58+Z6SxDccw+S3AjRrh20SdHu449FpVq1yBuAHNFYwypAnwKQQQ6fYZkhvaxScsVdd91F2RRRnxcsWCAaN25Mx8JqaNCggTh37lzSORoSARZZ06ZNRWxsrGspSVO1iwmEshMFoTzfrTgXnpkbKEtEKO1KfxLijTfe0KXUgXExnT9/ntY2BYQ5Fzoy2xw6dIgUsoIFC1Ke7hTHnXcKMXeuWD9+vPj66FHqzKOjo8ULL7xAyXzefPNNStCEjrpUqVL0GfurVKkiPvnkE7p+1GVcf3xMOtHx6reV8k5lfzG/gWRCRlAFQ7IUEN5aNguIwHG7074ZNiwjZJuDloXl4sWLemv4c+rUKRETEyOyZMlCmb9AKAREKCwIcy6b12OAXx/W0YcffkhZCRGLc4s6Tz8tNm7cSFr7li1bSGNH3nEIiW3btomVK1dS1kNkf4PlgFhIhw4dbtoWH330URLSsDyQJTAQIJgQe6xQoQIJpmBJ9i4m251cKDtRULbsm6JOnUnq2vLoLfYIpTsrffqnReXK34gcOSL1luC57bbbRPny5WkJ1fNJDnh32AcPHqRyKAREKDrtULqzYKnAvYSOG+5jdN5ugrSxEA6PPPIIpY0dN24cWUV3KisDVgKeHQLGqL++ADd3ly5dqBxoOlFc56xZs8RLL71EAW9Y4XDnBUqqj0GEshMFW7a0EuvWdVUdnjM6xSbe99E2Z87kE9u3NxSXLhXTW4IHo6HKli1LCxpPagC+bIx0A2js0Dzhr8aoNFuEstM+cqS9KF78J9VpDtRb7IERQmgD+fLlI2XDBoijLF26VLz33nv0vNCfoINGnCFHjhz6KN/BqED8rytWrPA8F3+B9WlGVcGlFYwlwTGIEHaiQJ9Onc9Z2ySU12bjugYOvN6JDBo0SJfCE7glEMiEFj937lzqXLZv305DfnPmzGntGaIzgUsLwyTz5LFv1f722+1qKae02xJ6iz1CZRnBMnn++ec9AjaYIeW5c+emwDriB5MnT9Zb/WfRokVi+PDhYvny5XpLYHAMggWEK9i4Lm+NNhTabahBXGX69OmiatWqtKBDwDPDiBsEPaGdLl68WFSsWFFs3rxZfys4Ll26JBYuXEjvraxbt+6GTtRtF0xC6NOp8zlrm4TSMkJQ2cSLgg32m0Dz1KlTA469QchAQMD9FQzJ3oKAJIXpZsvF4H2uUGCjI02MUF6bua5UFCoIGLg+0HgLFSokIiMjyXrIli2b6N27t9KufxNLliwRQ4YMIQuiWrVq5MuuW7eueP/99/Uv+A8EAYZcYvQMXtjcsGEDCaeoqCjaX6BAAVrbxnhNQiHvQxlbOX78uLhw4QL5/RGDCIYaNWqQwnDy5Ekxf/58vdV3YH1iOC3Ai4hZs2alciAkewHRunVr8eCDD9Jnt4CFMmHCBJL4oY5BjBwpBF4QDsUIv1BeWygFX0oEGiZGpqBzRoeF4Ck6AAx/nDRpEgkNCADvzgya6Nq1a0lwQPOHVdG+fXsaK+8r69evp3NiZAuGXJpzwmUH7bRz5850zh9++EGsWrVKf8sOUIZVP0pKhMUXqD2EUkCYc7llrTz33HMkaE6fPq23+I73m9nNmjUL6M1sD3hbLjmBWVvNhG1ly5Z1fYIy5GRAykX8Pua5QQpMlDHzqG3UZcmvv3bKLrxwnCTmLfRg89L6AmboxvWtWqU3pHLwFrsBZTPpJBZkc+vQoYNfudgxS6eZdRgZFXfu3Kn3/BvMKYY3d83zx6KUBMo9gAkqkQzIbFdKGE2uiDJm6EUqUmW1619yD+SewovIqIqYIiw6Wu+wCBKP4boSe8PZTT799Cf1jLvInj1H6i3BgfnMMDuBwfZM04mRbAQEbgjyAJgJp8wEephpFZPNBVtpMWc6cljjN7HgdX8k6cA01ZiLHQ0FGZtszrCKhGCRkbjW0AgIIwjNhGW2+PJLTLXhlJGhkXGEAjKGYYEwQDIX1DNMvR7oFBPIsGima8B0CmgX3mA/cpwYQYIF58TMwVhM28KCqfRR3zF5JPJBYOK4tHrKmYYNG8rjyKbmIvv2UZZaifnyZs6U0vKs4oSywOh6vPNt22LUKGcGDswQ7hbxlYxbwS0XEKicCxYskBEREZ7K26hRI0qy3rRpU882zGEUyIykJm1pGj1bItKWIkkKGoH5beQfMPsxg+yX6PFcBP3B3r1OkipMKz96tCMg/vrLSpIqynsBDRL5LtBZ9OnTx6rgmzoVcwdJiWmTQiH4UgJo0OjAsfz3v/+l1J1BZfXTYNZOJGoydRfT1iN7H0C7Mdvvv/9+yi/dqlWrm2Yj8wZzF5l81Mi86GZuCAgIzJYNJSkUAgJtAEnAIPRszpps6NrVERAffKA3uAD6LcwjheWxxx7TW0PLLRUQyKZkEl1ggTYPYeENXELGBMbDhlvIl8msTpw4QRoSTGt8F5m5MJFcp06dPA0GggGaExoL8k14T6aFlKMHgkwKgnarfp6mjlfGiyeL4eDBjiWB1M7wbPnhaUgS5BGAC8JchxF8JUuWlKss+H8wQzoExJo1TupeIyBsCL6UhG3tD/nWTWIZZOLDFPmYdA/tA3nVi/qYjSw+mCIbwgXfQwcLiydQ6x25/pUskuXLS/nZZ1K++67zGfUEAiKIWeGTBHnScQ3IdR4KHnjAERDqEbhGqrUgMHMhpKOpwJgTHVpNYhoWtC9UVNPZQ8tBA4H1ER+TC9lkjYNQQTpFZHKD7xfb8DtoSPFNfWgdyNNgvosGiPP6q4HgMtBpqstSv+MsmEJ+2TJnPzpVTLCaL5+zT7VDidxF2B4osK7q1q1L/zcWCAQIWwgMk7EKCwSfyUkRDLh1vXtLZZEht4WUUVFSzpvnTHa5eDGlrZY3cZOHPVB+DN5lN8Gsx8aNCJcsYnemjmOBNYwkVf5mY0Q7QL03LickLfLnN5DC/LnnkGflev1XRg8JCMga5LRRzVe1Y1dy7iTIN998Q/872kQoUI+BrjOAVA6JMmLECF26sRxK1CWFDmgn6JiNBg/3ByoizGZfQPpMo92Yh+8dgEWDyad6XbMfFXv48OGUqxWfoU1DMCU1hTSyakHjMr+DztbXQNeqVadIY1JfowUWQmI5UZTcQ74REhA4FgIDDccf7RvxBW8XGmI2EJCI6eC+wnVXr149OWDAAE9cJ1DBB6AVDhkilUXm/M/p00t1j6GxOfv79ZPyvvucfbiuvn2dHPCMHTCVNPKCo02hPaFTh6CAchCsSwvWu4lbwIq/WdIuCJWlS7+SDRs6eXTw/LE0aOAIAdR1uFQB1t26OftxLNqA+rprwOJBMB7/96OPPqq32gPtVclluhbt7Qsb1COyx8SJE2kNFw4kIAJreGjQ4BFMgxvIX2A1wHowKRIRXMZvoaHgPAhM3ad6KAiG+HGNbdu26V/xDfhk4fYyv4GOOLHgHfIFN1CtoWDB2sqkl8q0dcxpX6xzWP7QqtQplPVyRjZv3pZiJzcDo7vgQoP7AP8bOn189na/IeeESaeK43CfnnjiCc/1wBXlq+C7fPkaBaLz5r3e+Fu2dGIr8cEIFbjTVJ9Fx8GSWrZsv97LuA0EPQQDhERS9cZfYG2awR2oQ7CwvflL9fZQSExAuHz5GCWoHJ/8zSxIdKr4KSgYqCN16kAx0zsDxIzewuhH/C9wL6Gvif8/uw0C71CG0DbCDfVo7GH8Zui8EShFvAEuDvhLgyVa9ULo8Iw1AjcVBMfcuXOTjGv4w+XLl6mCIYaB38uWLRt9NtrZ/v37qdM1Gjw0rsmT9/rtX0WDgVuqaVMnQQwq9qBBgzwBSINxoZk8xegYILgSi5fANYD7ZNwFCD7CesAoLnzG/w1rCQ09MSBEKlasogTuRfUdJ3aCmENSGMGXI8dJteQiARpIOkXm5pgUvUUwTMgCsEZRh3AOLM2bNyfr4sknn/S4fbGgTk2btsEvV+m6ddddsUrnU0qZf+4wgNgK+hrvZP+IwXjnTH/66af/1ZbcAPoi4iuwgKBrWc6BFHKsCojatWtTBB7uDSTQt/GA4HvHyAxTEcyCjhBjh90a0w23FBKJm9+HX79Zs2YeDR6+X2T/guAKBtOhxxd8uA4IOqOpYYErAW41X4CFA8vKfBfXAovD+KzjCz6Ad0S8XXqPPDKB3AX+uMBw+2fMWO1xVeB+YXSNr25FJmkgwHFvMe7fJmhPRtEwC+opBAb+h4Rigr4AR0LTphAUB5TFm4vqZVLuMVhNaA/mnSksUHaMew0uLyiL8CQY5Q7KotvvBMEpoX6WXKwYwRRucbeQWRAQELZAZRo3bhxpEKgM/sQ1/GXZsmWeRmI6cXSiGDXhJps2bZKVK1f2VH4TR8GCl/oCSfYOIWOGv+J34PKDMPIeToxzzp8/P9G4RqDAnRgZGen5TQwzRtJ6ALfdypUrqcz4D1LK4p5CS7YJYoA4D0Y3GcUI7cENoEiMHfuxp0098MADCVq1f/75J9VFuI9wHBbUZ8Q2vTt/lKH8wMIZPHiwZ6AG4jSm3gULdEEICLz7g66OBYSfjBkzhtborCdMmEBlW8A6QQWAkLAJNBecB0IC2j3KwbiwbgY6dFgPEHoIEmL0Fjr4YK0iNDK4lUxnjZEweJHLNDoTzMZ5sR0C3i0QF4Elg9FVPfW4X/jN8ZIkExhwReJ52R7pAmGA88D6xBBxlN3OK7169WrPQBPEGc0IMFjAqLOIOWIfFsTQYPXGJDAKAhYELBFTx+HaxrsE5rv4rUCVSPWvUIwFXQ3e6Zg2TSprRcpmzRwBEeTo+GSFVQERSuDawYOHq8QmqIw4DzQRjJBAGS/12QQJ13GeqVOnUkNJahSWr2AooIlFYEFjg1sQZYytx2guG0DAwRqpVq0aWXsQFCwgAscMPIAyYRPUD5zHvKgHBcIGqHdmyDYsCvMeFBYIiDZt2sg1vgTBFGib6BPwXShCmErEDJZBrNLXt6xhPOP2Iv6mvkqL0hFp1B4EBGjUSMq33nIC78rI8csVm1wJGwEBcxQPHVqHTU6dOkXngU8dMQiUv/jiC73XDhiui/MgxoE13utwCxOEhzV07NgxihnhHPDd2gQCgi0Id6jzSx1ZaHshuf5vu68nY6AJ6oZZY64nW8BtjLqIzhzKmPfUIP6CoeBQePA/w+2EmRSKFStGn+GeupkHAIM/Roz4QObOfV0w5MwpVVu8PrTbG2XMKavFOa5Vq+DebUoOJMvZXAPBzACbwfJ0ot4zzYb6nAY3z4frQLITZC1D5i1lmtN229eUNm1aOh/ImDEjJcVhAuO3y7+Jw9cOi8JZC+stdjD5FZBWE9jMs6AsB9G9e3cRGxtLdfTw4cOUxlNZE/oI31GWg9i0aRPNiqsUE6GUEXHfffeJFi1aUKpQ5KtGG/BuZ2YW3OLFi4thw3qI/PnPinvvFWLSJGRpE2LMmISnLB81SoiFC4XADNuLFglRtaoQO3f+pfemPMJOQKAy2cRbKIT6nEqg09pG541OGnhfn01wz0yWOEzH3KlTJyoz/nHx2kVx/MpxkT5NepE/vd05tDOpzvQ2JRyUdk+fbU+jbQQSOmlMYY1MbWZabX9RlgNNpz5z5kxxxx13iHnz5ok9e/aozn8Y1UXkk65ZsyZNw16mTBlRp04dSqwEQYUp1idPPi62bUNKUHUfMukfTYTHHhNixw4hqlUTIlu2L0SNGkWDyuVxKwkbARGXMU7UHFJTlOtgL3cvSKMaR71ChUTNggXFXapTLZotm8hkuTM1Wr1NAWEIlYBg3OHg5YNCqr/CGQqLdGns5u2eHRUlYtX6VVUPT1eqJPpazJMNjDCAIIKFC4GBlJzBgM4eeb7Lly8vfvnlF8r/DUUFyZuQoAkCAtth3fbv35/OC6FSrVop/Qu+gaRya9YIUavWGrKCkMujQ4cO4vz58/qIlEHYCIhLOS6JTc03iYNtD+otdih06ZL4Tpm788+cEQtOnxZ/qHVVy51pfAvCpsXCAiJlceCy7kQzWE6Kc/asEKquK1VcZFYddfYffxRFguysk8IICGRpg2sIObOh/QdL6dKlyeX05JNPUvKlzz77jJIloX2hbSHNK5L9w6VVIIhMe+pWiffee9NjtTiCppo4duyYPiL5Ez4uJul0bDC1raI7UNWD3li2SChcTIYcOR4V9eq9IbJmram3MMmZ/ZcdN0zRjJZzeP7xh7OG4924eSy7mIyAyKR9Om66tDJnzixmzZolpkyZQq4ko9lDeLRs2dITZ3EDWC1IK1uhQgWRJUsWMQqBCk2vXr10KXkSNgLiitTB1TSWNV8jFKDFe5ctYgTEtWvXaG1TQBw61EyZxv1FXNw9eguTnCl3WznRK3cv8cCdD4hjVyxqpt5CwZQtJ5Y2MYg0adLQ2kZQHClX8btGGNkKvJcqVYqslmXLlpE1dEZZY1guXLigj0iehJ0FYV1A6HgAWQ3eZYvEFxA2XUwhuiTGBWKuxoiF0QtFlnRZxOmrp8Xo46P1HgsYoYBk+HA3ITF/jhzONkuYTtvE4GwGxb3jHbaAmwluMoycmj59Oi3+5Be/FbCLyV+M1YAe1LtsEdNAQmFBhOiSGBeYdmqaaJejnRiZf6Tomqur3moJIyAyZ3bWlq0HuFMxtBXWw1kIJEVKFxCGbNmyiT59+tACl1Nyhl1M/pKQgAgjFxMLiJTD0StHRUSGCCqntd2US5USokkToVRgjIl2XE0WQSDXBKaPHDlC22x23sadFQoB8eijj+rSjeXkSNgIiJp31BSzi8wWL+R5gXyxWy9s1XtcBiM3WrcWon59IWrXFqJxYyFuv13vtIMREFevXqV1KFxMlmUe4wJVM1UV//fP/1H53DXLroq2bYWoU0eI2FghoqKEmDlT77CD6bC94wM2O++4uLGievUlIiLC/uCMhx56SJduLCdHwkZADPtzmIhTf79c/EXsit0ldsbu1HtcpnJlIZ54QgiMeihRQojp0x1/rEVCaUFAOcyenS2IlEDr7K3FVfU3+NhgEhR1M9fVeywwcKDzlhhebnztNTjU9Q47GKFw9913e1xNgbxF7SsbNpQWP/zQXJ0vr97CgLAQEIg//HP1H9EhRwfRO09vkfs/FsdnR0cLsWqVECNHXm8sljECAlMGVK9e3TNFhVvo0bPiq6+EePVVIU6fdi6TSd6kUX/P5HxGjMo/SrTK1kq0yd5G77EATEvjXipeXIg//9Q77GAEBKZguXTpkrjrrrs8w13d5sQJZYEpAwyKEabIYK4TNhYEGktIOHjQ8ccC1CbjtLfEmjVrPAKiYcOG4vvvvxfNmzenz8Fy6pQQAwYIYWa5WL9eiDffhLntyECG8QD3ptEkjh/H22tO2RJGQNh4ByI+2ptlO+6eIgkLAYHAdOa0mcWc03PE3Oi5NOTPGqioe/Y4ZajZeF3SArt37xYPP/ywqF+/vucFuRo1atCEY2ZUR6Bg6PXo0UJERDgCYc4cR+4BCIvx450yw3jo0UOIPn2E6N9fiAYNrNV7gxEQeKENQsKmgNCnoqbNxEN1PmHBNfW3+fxmueX8FhlzNUb+dSXxHMtBs2KFlIMHSzlggJTHjumN7oAELMjyhqxdeDyYcx/Z+AYOHOjJ/4vEQZj7/5qfE85jCuX//e+iJwcwFiQ5GTbMmZp46FCkPJXqfFK2bKm/xDAh5Ny5c5Qhz2Q9XLJkCW2PjY2ltQ2QuwFtoW9fvYHxEDYCIqWDhoFUiiabGwQE0igi+5sBeRMaNWpE+7EgqcquXbv03puDnMEVK1aU9eotocZQpYqUQ4ZIGRFxXVggbSLSKJ48KaXl9MYMcwPI2YA8Eya5DxZkg0P+BggMm8ybJ+VDD0k5e7bewHhgAXGLQWpEpBGFVWAaBhKvJ9bxw2qA9YDESDg2ffr0ZHEklhYUGeiQ/9n8dsmS5eWIEVfk/fdfFwylS0tpKWsqwyQKMgtCcUH+c5OLGksVpb188MEHskePHp5t7du3JyUqWJCtFw4Ak58KStJ33znl11931sx1WEDcQtA4TDJ1LEjB6WsqRaRYhWAwDSt//vz/SjkZGRnpycmLDHgvv/yybNeuj8yQwREM6ityyhS4nvQXGCYEnDlzhpQi73S3GTNmJEGxceNGfZTDrFmzKKMcjsHxvlrM8VGnVOeUskwZp+6jDRw/LpUQkrJzZ+Sal7J7d30w44EFRIhAbtyzZ538gzNmzPCkEcVSsmRJuXjxYtrnL9u2bZPVq1f3/BashT179tA+CATELaB9IUm7ESZNmmyRr70GtxYdxjCug3iXqe9IL3v+/HkZFRVFblPE1Ux9jYiIINfqiRMn6NiEgGu1QoUKdDxSkCI3u6/gnM89d0l9zxEMWOBWRcpQNDlkvVVNiKwHFhD/hgVEiBiibFkTT+jSpYt8++23Zc6cOalxoAEFA0x1WA/4PTQi+G2HDRsmf//9dzlgwABPXAPuqPhxDYaxAere6NGjqfztt9+StWuEQtq0aSmf++eff0511xcuXLigNP3Ont+AwgOhkxCXlDmAPNNw1eLYunV3UJ7oRo0cl9J//+vkjYYF/dxzznf695fSxVTvYQMLiBABAdG3b19KxA5XEoRCYnGDQDmubOYOHTp43EpGMGBp2bKl3Lt3rz6SYewCAfHss8/K9evXy3Hjxslp06bJQoUKkYKye/dufZT/QBHKlCkT1elKlSrJffv26T1O/X/llVduiOch6N2372QamadOr7Y5S+bMjsUwfrzzXQzO0PKM8YIFRIiIb0HYZO3atTJv3rwyX7585L7yNa7BMG4BAYEY2MqVK+WYMWPknDlzfLYWkmL79u2yePHiJACgBM2fP5+2w91qBAPiFVDI8D80bvyNRzCUKOEMaz11ir7CJEHYvEmd3MGslCZLVf78dpPLI+G6MuGFEkiUV7duXYtz9DBMIqhOXDRp0kRUrVqVPqdN6053oywHERUVJdq2bStiYmJorawVyjP90ksviQEDBlDuBeSbVpaL2Lmzt2jRQtLsAHv3Ou/6WU5lETakgZTQZSaMQJrD2bNnU1pF5N5lmFCCFJ6YphuZ1E6cOEHzKRUsWFDvdY9x48aRUMB0NHjbGsl4TmMyMUXu3LnFM888I7p160aT/jH+wxZEmGLmb7I5NTjDJAY0eAgHgI7ahnAAmHpm48aNNJkfdF0IhypVqohJkybRdB2vv/46C4cgYAERppgsdDanBmeY5AAEQosWLcTBgwdFr169xNatW0XXrl2tzf6ammABEaYYC4IFBJMaOI4ZZhWIvzHuwQIiTGEBwaQmzOyvoUgZmppgARGmsIBgUhPeKUoZ92ABEaZwkJpJLSA/ypkzZygwnstyIqPUBguIMIWD1Exqga0He7CACFPYxcSkFjj+YA8WEGEKCwgmtcAWhD1YQIQpLCCY1ALefwD8Qpz7sIAIQ3bu3ClWrlxJLwyZaQcYJlxhC8IeLCDCkAkTJogSJUp4phxgmHCGYxD2YAERhly8eFFMnDiRlpMnT+qtDBOeGBcTCwj3YQERhmTMmFG0bNmSlmzZsumtDBNexMXFiejoaDF37lwxfvx4jrdZgAVEGJImTRqRN29eWkwOCoYJNw4fPiw++ugjyn1Srlw5sXz5cr2HcQsWEGHIyJEjdenGMsOEGwhQr1mzRuzYsUNvYdyEBUQYgux1Bu8yw4QbyAFx7do1WjPuwwKCYZgUS0REhGjQoAGlIWXch1OOMgyTIrlw4YI4evQoDenGaD2kNS1QoIDey7gBCwiGYRgmQdjFxDAMwyQICwiGYRgmQVhAMAzDMAnCAoJhGIZJACH+H2TDguv2ZHV+AAAAAElFTkSuQmCC)"
   ]
  },
  {
   "cell_type": "markdown",
   "metadata": {
    "id": "wTlf0lzd4oYC"
   },
   "source": [
    "And here are two molecules from our ligand set that are significantly dissimilar in structure:"
   ]
  },
  {
   "cell_type": "markdown",
   "metadata": {
    "id": "cdb21gbQ4XBJ"
   },
   "source": [
    "![dissimilar compounds.png](data:image/png;base64,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)"
   ]
  },
  {
   "cell_type": "markdown",
   "metadata": {
    "id": "hVl2Ys4l4qYh"
   },
   "source": [
    "The similar molecules both have two aromatic rings, and only differ in the size of the hydrocarbon attached at the end of the second ring.\n",
    "\n",
    "On the other hand, the two dissimilar molecules not only differ in the size of the hydrocarbon functional group, but also differ in thr number of aromatic rings.\n",
    "\n",
    "The tanimoto similarity scores for the similar molecules will be much higher, as a result, compared to the scores for the dissimilar molecules.\n",
    "\n",
    "It should be noted that **all** compounds in our ligand set are quite similar and all have a relatively high tanimoto similarity score (>=0.65). In practice, larger sets are used with a much wider range of structures."
   ]
  },
  {
   "cell_type": "markdown",
   "metadata": {
    "id": "hCmiSicMMm0D"
   },
   "source": [
    "## Practical"
   ]
  },
  {
   "cell_type": "markdown",
   "metadata": {
    "id": "bJwDu0EPMm0D"
   },
   "source": [
    "The practical notebook may be run on Jupyter Lab or on [Google Colab](https://colab.research.google.com/drive/1lhoo1Ehws1WB1dgymHFw1Cr7ybmDVvk_). For Linux users, installing [OpenFE](https://github.com/OpenFreeEnergy/openfe/releases/download/v1.2.0/OpenFEforge-1.2.0-Linux-x86_64.sh) and running this notebook on Jupyter Lab is ideal. Please note that before installing the OpenFE shell script, the system already has conda, python, and mamba available. Also note that the OpenFE installation will take place in the base conda environment.\n",
    "\n",
    "Windows and MacOS users will need to run this section on the Google Colab link provided."
   ]
  },
  {
   "cell_type": "markdown",
   "metadata": {
    "id": "J3WrIgqIt-QG"
   },
   "source": [
    "### Install libraries and create output directory"
   ]
  },
  {
   "cell_type": "code",
   "execution_count": 1,
   "metadata": {
    "id": "6bR3ktZkmAbc"
   },
   "outputs": [
    {
     "name": "stdout",
     "output_type": "stream",
     "text": [
      "mkdir: cannot create directory ‘outputs’: File exists\n"
     ]
    }
   ],
   "source": [
    "!mkdir outputs"
   ]
  },
  {
   "cell_type": "markdown",
   "metadata": {
    "id": "93zv9ZIrnSeO"
   },
   "source": [
    "#### Setup and Installation on Google Colab"
   ]
  },
  {
   "cell_type": "code",
   "execution_count": null,
   "metadata": {
    "colab": {
     "base_uri": "https://localhost:8080/"
    },
    "id": "y4p1tlgwI1fm",
    "outputId": "56ef9a3c-9d74-400d-9dd5-68c09b713835"
   },
   "outputs": [],
   "source": [
    "## ONLY RUN ON GOOGLE COLAB\n",
    "\n",
    "!pip install RDKit"
   ]
  },
  {
   "cell_type": "code",
   "execution_count": null,
   "metadata": {
    "colab": {
     "base_uri": "https://localhost:8080/"
    },
    "id": "4X8vba0ZlwaN",
    "outputId": "52969c9d-3823-43cb-e80f-f91e31b5f800"
   },
   "outputs": [],
   "source": [
    "## ONLY RUN ON GOOGLE COLAB\n",
    "\n",
    "!pip install biopython"
   ]
  },
  {
   "cell_type": "code",
   "execution_count": null,
   "metadata": {
    "colab": {
     "base_uri": "https://localhost:8080/"
    },
    "id": "oAqaH9aWl6B1",
    "outputId": "79dd6aa5-1684-43b8-92a7-4453a551addd"
   },
   "outputs": [],
   "source": [
    "## ONLY RUN ON GOOGLE COLAB\n",
    "\n",
    "!pip install py3Dmol"
   ]
  },
  {
   "cell_type": "code",
   "execution_count": null,
   "metadata": {
    "colab": {
     "base_uri": "https://localhost:8080/"
    },
    "id": "-jX9udRGehD3",
    "nbsphinx": "hidden",
    "outputId": "78e1e7e5-15da-4210-8eb1-35cb063627f2",
    "tags": []
   },
   "outputs": [],
   "source": [
    "## ONLY RUN ON GOOGLE COLAB\n",
    "\n",
    "import os\n",
    "if \"COLAB_RELEASE_TAG\" in os.environ:\n",
    "    !pip install -q condacolab\n",
    "    import condacolab\n",
    "    condacolab.install_from_url(\"https://github.com/OpenFreeEnergy/openfe/releases/download/v1.2.0/OpenFEforge-1.2.0-Linux-x86_64.sh\")"
   ]
  },
  {
   "cell_type": "code",
   "execution_count": null,
   "metadata": {
    "colab": {
     "base_uri": "https://localhost:8080/"
    },
    "id": "dlCARZ2_fAI4",
    "nbsphinx": "hidden",
    "outputId": "cecf6756-5878-4925-c0ef-c0a40aa64483",
    "tags": []
   },
   "outputs": [],
   "source": [
    "## ONLY RUN ON GOOGLE COLAB\n",
    "\n",
    "import os\n",
    "if \"COLAB_RELEASE_TAG\" in os.environ:\n",
    "    import condacolab\n",
    "    import locale\n",
    "    locale.getpreferredencoding = lambda: \"UTF-8\"\n",
    "    !mkdir inputs && cd inputs && openfe fetch rbfe-tutorial\n",
    "    for _ in range(3):\n",
    "      # Sometimes we have to re-run the check\n",
    "      try:\n",
    "        condacolab.check()\n",
    "      except:\n",
    "        pass\n",
    "      else:\n",
    "        break"
   ]
  },
  {
   "cell_type": "markdown",
   "metadata": {
    "id": "WdCfsEVgnkEH"
   },
   "source": [
    "### Input and Output"
   ]
  },
  {
   "cell_type": "markdown",
   "metadata": {
    "id": "tGFOGfxXnmqG"
   },
   "source": [
    "**Input**\n",
    "\n",
    "Our input will be:\n",
    "\n",
    "\n",
    "1.   **Target Protein** - This is the protein that will be the target for our drug, which will be the ligand that has the best bond with the protein. In our example, the protein is a Tyrosine Kinase, commonly found in viral diseases.\n",
    "2.   **Ligands Set** - This is a set of small molecules called ligands that all bind with and interact with our target protein. We will perform RBFE calculations on this set of ligands to find the best \"fit\" for our protein, thereby a potential drug candidate.\n",
    "\n",
    "**Output**\n",
    "\n",
    "Our output will be **RBFE Calculations** that will be performed on the set of ligands, while simulating their bonds with the protein in a solvent, mimicking real world conditions of pressure, temperature, and concentration. The analysis of this calculation will enable us to choose the best compound from our set to act as a drug to bind to our target protein.\n"
   ]
  },
  {
   "cell_type": "markdown",
   "metadata": {
    "id": "EdGL5nIinckj"
   },
   "source": [
    "### Protein Structure"
   ]
  },
  {
   "cell_type": "code",
   "execution_count": null,
   "metadata": {
    "colab": {
     "base_uri": "https://localhost:8080/",
     "height": 617
    },
    "id": "gNb5Fw8ZUceB",
    "outputId": "e173051b-2754-422f-cf98-da7279e50fc9"
   },
   "outputs": [],
   "source": [
    "import py3Dmol\n",
    "\n",
    "with open(\"inputs/tyk2_protein.pdb\", \"r\") as file:\n",
    "    pdb_data = file.read()\n",
    "\n",
    "view = py3Dmol.view(width=800, height=600)\n",
    "view.addModel(pdb_data, \"pdb\")\n",
    "view.setStyle({\"cartoon\": {\"color\": \"spectrum\"}})\n",
    "view.zoomTo()\n",
    "view.spin(axis=\"y\")\n",
    "view.show()\n"
   ]
  },
  {
   "cell_type": "markdown",
   "metadata": {
    "id": "wNzOWVYWnw4f"
   },
   "source": [
    "### Ligand Molecules"
   ]
  },
  {
   "cell_type": "markdown",
   "metadata": {
    "id": "zWyZjoipnzZ0"
   },
   "source": [
    "#### Visualise Structures"
   ]
  },
  {
   "cell_type": "code",
   "execution_count": null,
   "metadata": {
    "colab": {
     "base_uri": "https://localhost:8080/",
     "height": 817
    },
    "id": "711d73bc-519f-4b81-9daf-c7594c7bbf8f",
    "outputId": "509ea8a3-a67d-4582-f739-b9f3350588cb"
   },
   "outputs": [],
   "source": [
    "from rdkit import Chem\n",
    "from rdkit.Chem import AllChem\n",
    "from rdkit.Chem import Draw\n",
    "\n",
    "# Extract the contents of the sdf file and visualise it\n",
    "ligands_rdmol = [mol for mol in\n",
    "                 Chem.SDMolSupplier(\"inputs/tyk2_ligands.sdf\", removeHs=False)]\n",
    "\n",
    "for ligand in ligands_rdmol:\n",
    "    AllChem.Compute2DCoords(ligand)\n",
    "\n",
    "Chem.Draw.MolsToGridImage(ligands_rdmol)"
   ]
  },
  {
   "cell_type": "markdown",
   "metadata": {
    "id": "t4iiOV1Sn1wV"
   },
   "source": [
    "#### Ligand Similarity"
   ]
  },
  {
   "cell_type": "code",
   "execution_count": null,
   "metadata": {
    "colab": {
     "base_uri": "https://localhost:8080/",
     "height": 896
    },
    "id": "Irg-_-ABdQh0",
    "outputId": "d4b50c83-fb87-4c72-893d-34ca96371f0d"
   },
   "outputs": [],
   "source": [
    "from rdkit import Chem\n",
    "from rdkit import DataStructs\n",
    "from rdkit.Chem import AllChem\n",
    "import numpy as np\n",
    "import pandas as pd\n",
    "from rdkit.Chem import rdmolfiles\n",
    "import seaborn as sns\n",
    "import matplotlib.pyplot as plt\n",
    "\n",
    "suppl = rdmolfiles.SDMolSupplier(\"inputs/tyk2_ligands.sdf\")\n",
    "molecules = [mol for mol in suppl if mol is not None]\n",
    "\n",
    "print(f\"Loaded {len(molecules)} molecules.\")\n",
    "\n",
    "fingerprints = [AllChem.GetMorganFingerprintAsBitVect(mol, radius=2, nBits=2048) for mol in molecules]\n",
    "\n",
    "num_mols = len(fingerprints)\n",
    "tanimoto_matrix = np.zeros((num_mols, num_mols))\n",
    "\n",
    "for i in range(num_mols):\n",
    "    for j in range(num_mols):\n",
    "        tanimoto_matrix[i, j] = DataStructs.FingerprintSimilarity(fingerprints[i], fingerprints[j])\n",
    "\n",
    "tanimoto_df = pd.DataFrame(tanimoto_matrix, columns=[f\"Mol_{i+1}\" for i in range(num_mols)],\n",
    "                           index=[f\"Mol_{i+1}\" for i in range(num_mols)])\n",
    "\n",
    "plt.figure(figsize=(10, 8))\n",
    "sns.heatmap(tanimoto_df, annot=False, cmap=\"viridis\")\n",
    "plt.title(\"Tanimoto Similarity Heatmap\")\n",
    "plt.savefig(\"outputs/tanimoto_similarity.png\")\n",
    "plt.show()"
   ]
  },
  {
   "cell_type": "code",
   "execution_count": null,
   "metadata": {
    "colab": {
     "base_uri": "https://localhost:8080/"
    },
    "id": "LkP_kACfh4BT",
    "outputId": "b21530c8-6121-4097-905a-eb59a37199b8"
   },
   "outputs": [],
   "source": [
    "from scipy.cluster.hierarchy import linkage, fcluster\n",
    "from scipy.spatial.distance import squareform\n",
    "\n",
    "# Convert similarity matrix to a distance matrix\n",
    "distance_matrix = 1 - tanimoto_matrix\n",
    "\n",
    "# Perform hierarchical clustering\n",
    "linkage_matrix = linkage(squareform(distance_matrix), method='average')\n",
    "\n",
    "# Choose a threshold to determine clusters (e.g., max distance for grouping)\n",
    "threshold = 0.3  # Adjust based on your needs\n",
    "clusters = fcluster(linkage_matrix, t=threshold, criterion='distance')\n",
    "\n",
    "# Assign clusters to molecules\n",
    "tanimoto_df['Cluster'] = clusters\n",
    "print(tanimoto_df['Cluster'])"
   ]
  },
  {
   "cell_type": "markdown",
   "metadata": {
    "id": "HVrqNnDKn49I"
   },
   "source": [
    "#### Load Molecules"
   ]
  },
  {
   "cell_type": "markdown",
   "metadata": {
    "id": "5yl1gdBTn_KJ"
   },
   "source": [
    "##### Using RDKit"
   ]
  },
  {
   "cell_type": "code",
   "execution_count": null,
   "metadata": {
    "id": "edW3lr8CLV2o"
   },
   "outputs": [],
   "source": [
    "import locale\n",
    "locale.getpreferredencoding = lambda _: 'UTF-8'  # hack for google colab, not needed for local execution\n",
    "from openfe import SmallMoleculeComponent\n",
    "\n",
    "# Load ligands using RDKit\n",
    "ligands_sdf = Chem.SDMolSupplier('inputs/tyk2_ligands.sdf', removeHs=False)\n",
    "\n",
    "# Now pass these to form a list of Molecules\n",
    "ligand_mols = [SmallMoleculeComponent(sdf) for sdf in ligands_sdf]"
   ]
  },
  {
   "cell_type": "markdown",
   "metadata": {
    "id": "fgypVFOLoBYg"
   },
   "source": [
    "##### Using OpenFF Toolkit"
   ]
  },
  {
   "cell_type": "code",
   "execution_count": null,
   "metadata": {
    "colab": {
     "base_uri": "https://localhost:8080/",
     "height": 397
    },
    "id": "b5e5b538-4847-42f5-b29e-6e1f25bbbeed",
    "outputId": "3716d0c8-b81d-4feb-e0e2-e88b2a3d8911"
   },
   "outputs": [],
   "source": [
    "from openff.toolkit import Molecule\n",
    "from openfe import SmallMoleculeComponent\n",
    "\n",
    "# Load ligands using OpenFF toolkit\n",
    "ligands_sdf = Molecule.from_file('inputs/tyk2_ligands.sdf')\n",
    "\n",
    "# Now pass these to form a list of Molecules\n",
    "ligand_mols = [SmallMoleculeComponent.from_openff(sdf) for sdf in ligands_sdf]"
   ]
  },
  {
   "cell_type": "markdown",
   "metadata": {
    "id": "SZIS0veQoLXp"
   },
   "source": [
    "Using the OpenFF toolkit allows us to access properties such as the name and type of each molecule"
   ]
  },
  {
   "cell_type": "code",
   "execution_count": null,
   "metadata": {
    "id": "faacbebb"
   },
   "outputs": [],
   "source": [
    "print(\"name: \", ligand_mols[5].name)"
   ]
  },
  {
   "cell_type": "code",
   "execution_count": null,
   "metadata": {
    "id": "29b7c68a"
   },
   "outputs": [],
   "source": [
    "type(ligand_mols[5].to_openff())"
   ]
  },
  {
   "cell_type": "markdown",
   "metadata": {
    "id": "eqryQx1YoY_n"
   },
   "source": [
    "#### Ligand Atom Mapping"
   ]
  },
  {
   "cell_type": "code",
   "execution_count": null,
   "metadata": {
    "id": "01384f2a-99ce-400d-a988-82fd393c4ee5"
   },
   "outputs": [],
   "source": [
    "from openfe.setup import LomapAtomMapper\n",
    "mapper = LomapAtomMapper()\n",
    "lomap_mapping = next(mapper.suggest_mappings(ligand_mols[5], ligand_mols[7]))"
   ]
  },
  {
   "cell_type": "code",
   "execution_count": null,
   "metadata": {
    "id": "00fb84d6-9fa7-4114-96e5-c656ad6f3a3f"
   },
   "outputs": [],
   "source": [
    "# We can display the atom mapping in 2D by calling it\n",
    "lomap_mapping"
   ]
  },
  {
   "cell_type": "markdown",
   "metadata": {
    "id": "vjuC1uSEor3W"
   },
   "source": [
    "##### Visualise the mapping using OpenFE"
   ]
  },
  {
   "cell_type": "code",
   "execution_count": null,
   "metadata": {
    "id": "bbcfd2e2-a50e-4398-85d1-f80b01597720"
   },
   "outputs": [],
   "source": [
    "# Visualize the mapping in 3D\n",
    "from openfe.utils import visualization_3D\n",
    "\n",
    "visualization_3D.view_mapping_3d(lomap_mapping, show_atomIDs=True)"
   ]
  },
  {
   "cell_type": "markdown",
   "metadata": {
    "id": "aVgct0pPGu3p"
   },
   "source": [
    "##### Visualise the mapping using Kartograf"
   ]
  },
  {
   "cell_type": "code",
   "execution_count": null,
   "metadata": {
    "id": "iNxMZja2zt3M"
   },
   "outputs": [],
   "source": [
    "from kartograf import KartografAtomMapper\n",
    "# Build Kartograf Atom Mapper\n",
    "mapper = KartografAtomMapper(atom_map_hydrogens=True)\n",
    "\n",
    "# Get Mapping\n",
    "kartograf_mapping = next(mapper.suggest_mappings(ligand_mols[5], ligand_mols[7]))"
   ]
  },
  {
   "cell_type": "code",
   "execution_count": null,
   "metadata": {
    "id": "5gea4q9Uzxps"
   },
   "outputs": [],
   "source": [
    "# We can display the atom mapping in 2D by calling it\n",
    "kartograf_mapping"
   ]
  },
  {
   "cell_type": "markdown",
   "metadata": {
    "id": "GhuhDT28ozzN"
   },
   "source": [
    "#### Create Ligand Mapping Network"
   ]
  },
  {
   "cell_type": "code",
   "execution_count": null,
   "metadata": {
    "id": "X9i_-EHEz2s0"
   },
   "outputs": [],
   "source": [
    "# Create network from the two molecules\n",
    "import openfe\n",
    "from openfe.setup.ligand_network_planning import generate_radial_network\n",
    "from openfe.setup.ligand_network_planning import generate_minimal_spanning_network\n",
    "from openfe.setup.ligand_network_planning import generate_lomap_network\n",
    "from openfe.setup import LomapAtomMapper\n",
    "\n",
    "# Create an MST network\n",
    "mst_network = generate_minimal_spanning_network(\n",
    "    ligands=ligand_mols,\n",
    "    scorer=openfe.lomap_scorers.default_lomap_score,\n",
    "    mappers=[LomapAtomMapper(),])\n",
    "\n",
    "# Create a LOMAP network\n",
    "lomap_network = generate_lomap_network(\n",
    "    molecules=ligand_mols,\n",
    "    scorer=openfe.lomap_scorers.default_lomap_score,\n",
    "    mappers=[LomapAtomMapper(),])\n",
    "\n",
    "# Create a radial, choosing the first ligand as central ligand\n",
    "radial_network = generate_radial_network(\n",
    "    ligands=ligand_mols[1:],\n",
    "    central_ligand=ligand_mols[0],\n",
    "    mappers=[LomapAtomMapper(),])"
   ]
  },
  {
   "cell_type": "markdown",
   "metadata": {
    "id": "1K4QOhWTLu7Q"
   },
   "source": [
    "Support for third party widgets will remain active for the duration of the session. To disable support:"
   ]
  },
  {
   "cell_type": "code",
   "execution_count": null,
   "metadata": {
    "id": "f4e3ac10-236b-4ff4-a69e-600706288164"
   },
   "outputs": [],
   "source": [
    "# Visualize the MST network\n",
    "from openfe.utils.atommapping_network_plotting import plot_atommapping_network\n",
    "\n",
    "plot_atommapping_network(mst_network)"
   ]
  },
  {
   "cell_type": "code",
   "execution_count": null,
   "metadata": {
    "id": "9dPc50OvHRWB"
   },
   "outputs": [],
   "source": [
    "# Visualize the LOMAP network\n",
    "from openfe.utils.atommapping_network_plotting import plot_atommapping_network\n",
    "\n",
    "plot_atommapping_network(lomap_network)"
   ]
  },
  {
   "cell_type": "code",
   "execution_count": null,
   "metadata": {
    "id": "cJ2JYAopHTsw"
   },
   "outputs": [],
   "source": [
    "# Visualize the radial network\n",
    "from openfe.utils.atommapping_network_plotting import plot_atommapping_network\n",
    "\n",
    "plot_atommapping_network(radial_network)"
   ]
  },
  {
   "cell_type": "markdown",
   "metadata": {
    "id": "wwQZlXAtpDtf"
   },
   "source": [
    "##### Alchemical Transformation Example"
   ]
  },
  {
   "cell_type": "code",
   "execution_count": null,
   "metadata": {
    "id": "ad80c243-82d7-4599-a4a6-5d651c662f24"
   },
   "outputs": [],
   "source": [
    "mst_edges = [edge for edge in mst_network.edges]\n",
    "\n",
    "# Pick an edge\n",
    "edge = mst_edges[1]\n",
    "\n",
    "# Print the smiles of the molecules and the mapping\n",
    "print(\"molecule A smiles: \", edge.componentA.smiles)\n",
    "print(\"molecule B smiles: \", edge.componentB.smiles)\n",
    "print(\"molecule A name: \", edge.componentA.name)\n",
    "print(\"molecule B name: \", edge.componentB.name)\n",
    "print(\"map between molecule A and B: \", edge.componentA_to_componentB)"
   ]
  },
  {
   "cell_type": "code",
   "execution_count": null,
   "metadata": {
    "id": "k7xFZQVtKAAF"
   },
   "outputs": [],
   "source": [
    "edge"
   ]
  },
  {
   "cell_type": "code",
   "execution_count": null,
   "metadata": {
    "id": "pxKgQ1dMKBUi"
   },
   "outputs": [],
   "source": [
    "from IPython.display import Image\n",
    "\n",
    "# mappings can also be saved to file if required\n",
    "edge.draw_to_file('outputs/tyk2_edge.png')\n",
    "\n",
    "# load it back for visualisation\n",
    "Image(\"outputs/tyk2_edge.png\")"
   ]
  },
  {
   "cell_type": "markdown",
   "metadata": {
    "id": "buO_ygAPpKP8"
   },
   "source": [
    "##### Store MST Network"
   ]
  },
  {
   "cell_type": "code",
   "execution_count": null,
   "metadata": {
    "id": "KgwgSZXzZVzl"
   },
   "outputs": [],
   "source": [
    "# Convert to graphml\n",
    "with open(\"outputs/network_store.graphml\", \"w\") as writer:\n",
    "    writer.write(mst_network.to_graphml())"
   ]
  },
  {
   "cell_type": "markdown",
   "metadata": {
    "id": "YSLQH5swpZh8"
   },
   "source": [
    "### Prepare for Calculation"
   ]
  },
  {
   "cell_type": "markdown",
   "metadata": {
    "id": "ekDL6QuDpcht"
   },
   "source": [
    "#### Define the Chemical Systems"
   ]
  },
  {
   "cell_type": "code",
   "execution_count": 2,
   "metadata": {
    "id": "Hza7-eAyZYLD"
   },
   "outputs": [],
   "source": [
    "# First let's define the Protein and Solvent Components which we will be using\n",
    "from openfe import SolventComponent, ProteinComponent\n",
    "from openff.units import unit\n",
    "\n",
    "protein = ProteinComponent.from_pdb_file('inputs/tyk2_protein.pdb')\n",
    "\n",
    "# Note: the distance from the solute to add water is not defined here but in the\n",
    "# the relevant RBFE solver method\n",
    "solvent = SolventComponent(positive_ion='Na', negative_ion='Cl',\n",
    "                           neutralize=True, ion_concentration=0.15*unit.molar)"
   ]
  },
  {
   "cell_type": "code",
   "execution_count": null,
   "metadata": {
    "id": "mj_DrICIbJVl"
   },
   "outputs": [],
   "source": [
    "# Extract the relevant edge for the ligand transform in the radial graph\n",
    "lig_transform = [edge for edge in mst_network.edges][1]\n",
    "\n",
    "lig_transform"
   ]
  },
  {
   "cell_type": "code",
   "execution_count": null,
   "metadata": {
    "id": "bkdJ61qAismN"
   },
   "outputs": [],
   "source": [
    "# Let's create the four ChemicalSystems\n",
    "from openfe import ChemicalSystem\n",
    "\n",
    "lig_1_complex = ChemicalSystem({'ligand': lig_transform.componentA,\n",
    "                                  'solvent': solvent,\n",
    "                                  'protein': protein,},\n",
    "                               name=lig_transform.componentA.name)\n",
    "lig_1_solvent = ChemicalSystem({'ligand': lig_transform.componentA,\n",
    "                                  'solvent': solvent,},\n",
    "                               name=lig_transform.componentA.name)\n",
    "\n",
    "lig_2_complex = ChemicalSystem({'ligand': lig_transform.componentB,\n",
    "                                 'solvent': solvent,\n",
    "                                 'protein': protein,},\n",
    "                               name=lig_transform.componentB.name)\n",
    "lig_2_solvent = ChemicalSystem({'ligand': lig_transform.componentB,\n",
    "                                 'solvent': solvent,},\n",
    "                               name=lig_transform.componentB.name)"
   ]
  },
  {
   "cell_type": "markdown",
   "metadata": {
    "id": "dm4kUhZepiwV"
   },
   "source": [
    "#### Define the RBFE Simulation Protocol"
   ]
  },
  {
   "cell_type": "code",
   "execution_count": null,
   "metadata": {
    "id": "mHtDZ-oAk1g0"
   },
   "outputs": [],
   "source": [
    "from openfe.protocols.openmm_rfe import RelativeHybridTopologyProtocol\n",
    "from openff.units import unit\n",
    "\n",
    "# Create the default settings\n",
    "rbfe_settings = RelativeHybridTopologyProtocol.default_settings()\n",
    "\n",
    "rbfe_settings.simulation_settings.equilibration_length = 10 * unit.picosecond # Reduce equilibration length to 10 picoseconds\n",
    "rbfe_settings.simulation_settings.production_length = 50 * unit.picosecond # Reduce prodution length to 50 picoseconds\n",
    "\n",
    "rbfe_settings.simulation_settings"
   ]
  },
  {
   "cell_type": "code",
   "execution_count": null,
   "metadata": {
    "id": "lwuos4yQk2zb"
   },
   "outputs": [],
   "source": [
    "# Create RBFE Protocol class\n",
    "rbfe_protocol = RelativeHybridTopologyProtocol(\n",
    "    settings=rbfe_settings\n",
    ")"
   ]
  },
  {
   "cell_type": "markdown",
   "metadata": {
    "id": "YFwUYy_FpuQd"
   },
   "source": [
    "### RBFE Calculations"
   ]
  },
  {
   "cell_type": "markdown",
   "metadata": {
    "id": "Ccch3aZ0pxlM"
   },
   "source": [
    "#### Create the Transformation"
   ]
  },
  {
   "cell_type": "code",
   "execution_count": null,
   "metadata": {
    "id": "UgyCsTB-k5cs"
   },
   "outputs": [],
   "source": [
    "transformation_complex = openfe.Transformation(\n",
    "            stateA=lig_1_complex,\n",
    "            stateB=lig_2_complex,\n",
    "            mapping=lig_transform,\n",
    "            protocol=rbfe_protocol,  # use protocol created above\n",
    "            name=f\"{lig_1_complex.name}_{lig_2_complex.name}_complex\"\n",
    "        )\n",
    "transformation_solvent = openfe.Transformation(\n",
    "            stateA=lig_1_solvent,\n",
    "            stateB=lig_2_solvent,\n",
    "            mapping=lig_transform,\n",
    "            protocol=rbfe_protocol,  # use protocol created above\n",
    "            name=f\"{lig_1_solvent.name}_{lig_2_solvent.name}_solvent\"\n",
    "        )"
   ]
  },
  {
   "cell_type": "markdown",
   "metadata": {
    "id": "dTKLdmg6luVU"
   },
   "source": [
    "With the Transformation defined, we can move onto creating the ProtocolDAG.\n",
    "\n",
    "The Transformation.create() method creates a directed-acyclic-graph (DAG) of computational tasks necessary for creating an estimate of the free energy difference between the two chemical systems."
   ]
  },
  {
   "cell_type": "code",
   "execution_count": null,
   "metadata": {
    "id": "AkhL4H4rlbG1"
   },
   "outputs": [],
   "source": [
    "complex_dag = transformation_complex.create()\n",
    "\n",
    "solvent_dag = transformation_solvent.create()"
   ]
  },
  {
   "cell_type": "markdown",
   "metadata": {
    "id": "k0c2N4scp4LM"
   },
   "source": [
    "#### Run"
   ]
  },
  {
   "cell_type": "code",
   "execution_count": null,
   "metadata": {
    "id": "a0yAGPLcld98"
   },
   "outputs": [],
   "source": [
    "## ONLY RUN ON HPC CLUSTER\n",
    "\n",
    "complex_unit = list(complex_dag.protocol_units)[0]\n",
    "\n",
    "print(complex_unit)\n",
    "\n",
    "complex_unit.run(dry=True, verbose=True)"
   ]
  },
  {
   "cell_type": "code",
   "execution_count": null,
   "metadata": {
    "id": "YOjLWEynTHIR"
   },
   "outputs": [],
   "source": [
    "## ONLY RUN ON HPC CLUSTER\n",
    "\n",
    "solvent_unit = list(solvent_dag.protocol_units)[0]\n",
    "\n",
    "solvent_unit.run(dry=True, verbose=True)"
   ]
  },
  {
   "cell_type": "markdown",
   "metadata": {
    "id": "1fDON3WXp-eM"
   },
   "source": [
    "### Analyse Results"
   ]
  },
  {
   "cell_type": "markdown",
   "metadata": {
    "id": "_szF8RHRqCAD"
   },
   "source": [
    "#### Save Results"
   ]
  },
  {
   "cell_type": "code",
   "execution_count": null,
   "metadata": {
    "id": "lD3_cavoqVj0"
   },
   "outputs": [],
   "source": [
    "## ONLY RUN ON HPC CLUSTER\n",
    "\n",
    "import pathlib\n",
    "# first we create the directory\n",
    "transformation_dir = pathlib.Path(\"tyk2_json\")\n",
    "transformation_dir.mkdir(exist_ok=True)\n",
    "\n",
    "# then we write out the transformations\n",
    "transformation_complex.dump(transformation_dir / f\"{transformation_complex.name}.json\")\n",
    "transformation_solvent.dump(transformation_dir / f\"{transformation_solvent.name}.json\")"
   ]
  },
  {
   "cell_type": "markdown",
   "metadata": {
    "id": "ZRIAdB53qJuU"
   },
   "source": [
    "Analyse Results using CLI"
   ]
  },
  {
   "cell_type": "markdown",
   "metadata": {
    "id": "DSaCW8CcqQ8V"
   },
   "source": [
    "Should be done on an HPC Cluster"
   ]
  },
  {
   "cell_type": "markdown",
   "metadata": {
    "id": "KMLZv4Q5qNwB"
   },
   "source": [
    "Analyse Results using Python API"
   ]
  },
  {
   "cell_type": "code",
   "execution_count": null,
   "metadata": {
    "id": "jzfGsD7VgWHP"
   },
   "outputs": [],
   "source": [
    "## ONLY RUN ON HPC CLUSTER\n",
    "\n",
    "from openfe import execute_DAG\n",
    "\n",
    "# Finally we can run the simulations\n",
    "complex_path = pathlib.Path('./complex')\n",
    "complex_path.mkdir()\n",
    "\n",
    "# First the complex transformation\n",
    "complex_dag_results = execute_DAG(complex_dag, scratch_basedir=complex_path, shared_basedir=complex_path)\n",
    "\n",
    "# Next the solvent state transformation\n",
    "solvent_path = pathlib.Path('./solvent')\n",
    "solvent_path.mkdir()\n",
    "\n",
    "solvent_dag_results = execute_DAG(solvent_dag, scratch_basedir=solvent_path, shared_basedir=solvent_path)\n",
    "\n",
    "# Get the complex and solvent results\n",
    "complex_results = rbfe_protocol.gather([complex_dag_results])\n",
    "solvent_results = rbfe_protocol.gather([solvent_dag_results])\n",
    "\n",
    "print(f\"Complex dG: {complex_results.get_estimate()}, err {complex_results.get_uncertainty()}\")\n",
    "print(f\"Solvent dG: {solvent_results.get_estimate()}, err {solvent_results.get_uncertainty()}\")"
   ]
  },
  {
   "cell_type": "markdown",
   "metadata": {
    "id": "lYrovXtwqUJT"
   },
   "source": [
    "Should be done on an HPC Cluster"
   ]
  },
  {
   "cell_type": "markdown",
   "metadata": {
    "id": "KRioKO3Rqy_L"
   },
   "source": [
    "#### Analysis of Example"
   ]
  },
  {
   "cell_type": "markdown",
   "metadata": {
    "id": "6Zbwp3kNrDNr"
   },
   "source": [
    "##### Download precalculated results for analysis"
   ]
  },
  {
   "cell_type": "code",
   "execution_count": 3,
   "metadata": {
    "colab": {
     "base_uri": "https://localhost:8080/"
    },
    "id": "dyjNXZSSq_uD",
    "outputId": "61a18849-9588-4828-e6d6-2e95f7cdbaf8"
   },
   "outputs": [
    {
     "name": "stdout",
     "output_type": "stream",
     "text": [
      "Fetching /home/aditi-lalla/openfeforge/lib/python3.10/site-packages/openfecli/tests/data/rbfe_results.tar.gz\n"
     ]
    }
   ],
   "source": [
    "#locale.getpreferredencoding = lambda: \"UTF-8\"  # hack for google colab, not needed for local execution\n",
    "!openfe fetch rbfe-tutorial-results\n",
    "# Extract results\n",
    "!tar -xf rbfe_results.tar.gz"
   ]
  },
  {
   "cell_type": "markdown",
   "metadata": {
    "id": "r6d_EEEKrMsL"
   },
   "source": [
    "##### View and Save"
   ]
  },
  {
   "cell_type": "code",
   "execution_count": 4,
   "metadata": {
    "colab": {
     "base_uri": "https://localhost:8080/",
     "height": 397
    },
    "id": "MhPHtLy4rOor",
    "outputId": "61aad0e1-9f81-4e66-c26a-a2bf1eb3f533"
   },
   "outputs": [
    {
     "data": {
      "text/html": [
       "<style type=\"text/css\">\n",
       "#T_3f152 thead th {\n",
       "  background-color: #4CAF50;\n",
       "  color: white;\n",
       "  text-align: center;\n",
       "}\n",
       "#T_3f152 tbody td {\n",
       "  color: black;\n",
       "  text-align: center;\n",
       "}\n",
       "#T_3f152 table {\n",
       "  border-collapse: collapse;\n",
       "  width: 80%;\n",
       "  margin: auto;\n",
       "}\n",
       "#T_3f152 tr:nth-child(odd) {\n",
       "  background-color: #f9f9f9;\n",
       "}\n",
       "#T_3f152 tr:nth-child(even) {\n",
       "  background-color: #ffffff;\n",
       "}\n",
       "#T_3f152 tbody td {\n",
       "  padding: 8px;\n",
       "  border: 1px solid #ddd;\n",
       "}\n",
       "#T_3f152 th {\n",
       "  padding: 8px;\n",
       "  border: 1px solid #ddd;\n",
       "}\n",
       "#T_3f152 thead th {\n",
       "  font-weight: bold;\n",
       "}\n",
       "#T_3f152 tbody td {\n",
       "  font-size: 14px;\n",
       "}\n",
       "</style>\n",
       "<table id=\"T_3f152\">\n",
       "  <thead>\n",
       "    <tr>\n",
       "      <th class=\"blank level0\" >&nbsp;</th>\n",
       "      <th id=\"T_3f152_level0_col0\" class=\"col_heading level0 col0\" >ligand</th>\n",
       "      <th id=\"T_3f152_level0_col1\" class=\"col_heading level0 col1\" >DG(MLE) (kcal/mol)</th>\n",
       "      <th id=\"T_3f152_level0_col2\" class=\"col_heading level0 col2\" >uncertainty (kcal/mol)</th>\n",
       "    </tr>\n",
       "  </thead>\n",
       "  <tbody>\n",
       "    <tr>\n",
       "      <th id=\"T_3f152_level0_row0\" class=\"row_heading level0 row0\" >9</th>\n",
       "      <td id=\"T_3f152_row0_col0\" class=\"data row0 col0\" >lig_jmc_28</td>\n",
       "      <td id=\"T_3f152_row0_col1\" class=\"data row0 col1\" >-1.25</td>\n",
       "      <td id=\"T_3f152_row0_col2\" class=\"data row0 col2\" >0.08</td>\n",
       "    </tr>\n",
       "    <tr>\n",
       "      <th id=\"T_3f152_level0_row1\" class=\"row_heading level0 row1\" >8</th>\n",
       "      <td id=\"T_3f152_row1_col0\" class=\"data row1 col0\" >lig_jmc_27</td>\n",
       "      <td id=\"T_3f152_row1_col1\" class=\"data row1 col1\" >-1.10</td>\n",
       "      <td id=\"T_3f152_row1_col2\" class=\"data row1 col2\" >0.10</td>\n",
       "    </tr>\n",
       "    <tr>\n",
       "      <th id=\"T_3f152_level0_row2\" class=\"row_heading level0 row2\" >2</th>\n",
       "      <td id=\"T_3f152_row2_col0\" class=\"data row2 col0\" >lig_ejm_46</td>\n",
       "      <td id=\"T_3f152_row2_col1\" class=\"data row2 col1\" >-0.98</td>\n",
       "      <td id=\"T_3f152_row2_col2\" class=\"data row2 col2\" >0.05</td>\n",
       "    </tr>\n",
       "    <tr>\n",
       "      <th id=\"T_3f152_level0_row3\" class=\"row_heading level0 row3\" >7</th>\n",
       "      <td id=\"T_3f152_row3_col0\" class=\"data row3 col0\" >lig_jmc_23</td>\n",
       "      <td id=\"T_3f152_row3_col1\" class=\"data row3 col1\" >-0.68</td>\n",
       "      <td id=\"T_3f152_row3_col2\" class=\"data row3 col2\" >0.09</td>\n",
       "    </tr>\n",
       "    <tr>\n",
       "      <th id=\"T_3f152_level0_row4\" class=\"row_heading level0 row4\" >3</th>\n",
       "      <td id=\"T_3f152_row4_col0\" class=\"data row4 col0\" >lig_ejm_47</td>\n",
       "      <td id=\"T_3f152_row4_col1\" class=\"data row4 col1\" >-0.10</td>\n",
       "      <td id=\"T_3f152_row4_col2\" class=\"data row4 col2\" >0.10</td>\n",
       "    </tr>\n",
       "    <tr>\n",
       "      <th id=\"T_3f152_level0_row5\" class=\"row_heading level0 row5\" >0</th>\n",
       "      <td id=\"T_3f152_row5_col0\" class=\"data row5 col0\" >lig_ejm_31</td>\n",
       "      <td id=\"T_3f152_row5_col1\" class=\"data row5 col1\" >-0.09</td>\n",
       "      <td id=\"T_3f152_row5_col2\" class=\"data row5 col2\" >0.05</td>\n",
       "    </tr>\n",
       "    <tr>\n",
       "      <th id=\"T_3f152_level0_row6\" class=\"row_heading level0 row6\" >4</th>\n",
       "      <td id=\"T_3f152_row6_col0\" class=\"data row6 col0\" >lig_ejm_48</td>\n",
       "      <td id=\"T_3f152_row6_col1\" class=\"data row6 col1\" >0.53</td>\n",
       "      <td id=\"T_3f152_row6_col2\" class=\"data row6 col2\" >0.09</td>\n",
       "    </tr>\n",
       "    <tr>\n",
       "      <th id=\"T_3f152_level0_row7\" class=\"row_heading level0 row7\" >1</th>\n",
       "      <td id=\"T_3f152_row7_col0\" class=\"data row7 col0\" >lig_ejm_42</td>\n",
       "      <td id=\"T_3f152_row7_col1\" class=\"data row7 col1\" >0.70</td>\n",
       "      <td id=\"T_3f152_row7_col2\" class=\"data row7 col2\" >0.10</td>\n",
       "    </tr>\n",
       "    <tr>\n",
       "      <th id=\"T_3f152_level0_row8\" class=\"row_heading level0 row8\" >5</th>\n",
       "      <td id=\"T_3f152_row8_col0\" class=\"data row8 col0\" >lig_ejm_50</td>\n",
       "      <td id=\"T_3f152_row8_col1\" class=\"data row8 col1\" >0.91</td>\n",
       "      <td id=\"T_3f152_row8_col2\" class=\"data row8 col2\" >0.06</td>\n",
       "    </tr>\n",
       "    <tr>\n",
       "      <th id=\"T_3f152_level0_row9\" class=\"row_heading level0 row9\" >6</th>\n",
       "      <td id=\"T_3f152_row9_col0\" class=\"data row9 col0\" >lig_ejm_43</td>\n",
       "      <td id=\"T_3f152_row9_col1\" class=\"data row9 col1\" >2.00</td>\n",
       "      <td id=\"T_3f152_row9_col2\" class=\"data row9 col2\" >0.20</td>\n",
       "    </tr>\n",
       "  </tbody>\n",
       "</table>\n"
      ],
      "text/plain": [
       "<pandas.io.formats.style.Styler at 0x7e87ca7f51b0>"
      ]
     },
     "execution_count": 4,
     "metadata": {},
     "output_type": "execute_result"
    }
   ],
   "source": [
    "!openfe gather results/ --report dg -o final_results.tsv\n",
    "import pandas as pd\n",
    "\n",
    "# Load TSV file\n",
    "df = pd.read_csv('final_results.tsv', sep='\\t')\n",
    "\n",
    "# Round numerical columns to 2 decimal places for internal data\n",
    "df['DG(MLE) (kcal/mol)'] = df['DG(MLE) (kcal/mol)'].round(2)\n",
    "df['uncertainty (kcal/mol)'] = df['uncertainty (kcal/mol)'].round(2)\n",
    "\n",
    "# Sort the ligands from best to worst\n",
    "df_sorted = df.sort_values(by='DG(MLE) (kcal/mol)', ascending=True)\n",
    "\n",
    "# Style the dataframe and format numbers\n",
    "styled_table = df_sorted.style.format({\n",
    "    'DG(MLE) (kcal/mol)': '{:.2f}',  # Ensure 2 decimal places for this column\n",
    "    'uncertainty (kcal/mol)': '{:.2f}',  # Ensure 2 decimal places for this column\n",
    "}).set_table_styles(\n",
    "    [{'selector': 'thead th', 'props': [('background-color', '#4CAF50'), ('color', 'white'), ('text-align', 'center')]},  # Header styling\n",
    "     {'selector': 'tbody td', 'props': [('color', 'black'), ('text-align', 'center')]},  # Font set to black for readability\n",
    "     {'selector': 'table', 'props': [('border-collapse', 'collapse'), ('width', '80%'), ('margin', 'auto')]},  # Table width and margins\n",
    "     {'selector': 'tr:nth-child(odd)', 'props': [('background-color', '#f9f9f9')]},  # Odd row styling for alternating color\n",
    "     {'selector': 'tr:nth-child(even)', 'props': [('background-color', '#ffffff')]},  # Even row styling\n",
    "     {'selector': 'tbody td', 'props': [('padding', '8px'), ('border', '1px solid #ddd')]},  # Cell padding and border\n",
    "     {'selector': 'th', 'props': [('padding', '8px'), ('border', '1px solid #ddd')]},  # Header cell padding and border\n",
    "     {'selector': 'thead th', 'props': [('font-weight', 'bold')]},  # Header text boldness\n",
    "     {'selector': 'tbody td', 'props': [('font-size', '14px')]},  # Font size for readability\n",
    "    ]\n",
    ")\n",
    "\n",
    "# Show the styled table (works best in Jupyter or notebook environments)\n",
    "styled_table"
   ]
  },
  {
   "cell_type": "markdown",
   "metadata": {
    "id": "DO-qwTIGAngF"
   },
   "source": [
    "In the table above, we have the results for $\\Delta G$ or Gibbs Free Energy change (denoted by DG in the table). MLE refers to Maximum Likelihood Estimation which is a statistical method to estimate which parameters of a model make the observed data most likely. Therefore the DG(MLE) column gives us the $\\Delta G$ of binding to the protein for each ligand in our set.\n",
    "\n",
    "The uncertainty column gives us the standard error of the $\\Delta G$ measurement.\n",
    "\n",
    "The results here indicate **lig_jmc_28** as the most promising candidate for binding to our target protein - since it has the lowest $\\Delta G$ of all compounds, signifying that it is most likely to bind to our target protein spontaneously/without the need for an external force.\n",
    "\n",
    "Conversely, **lig_ejm_43** is the least promising candidate from our set since it has the highest  $\\Delta G$, which means that it is unlikely to bind to our protein spontaneously and that external force or reactions will be necessary for that bond.\n",
    "\n",
    "For ease, the table is sorted with the most favourable ligands at the top."
   ]
  },
  {
   "cell_type": "markdown",
   "metadata": {
    "id": "u5XaBPaQMm0O"
   },
   "source": [
    "## Discussion\n",
    "\n",
    "### Summary\n",
    "\n",
    "In this talktorial, we explored the concept of Relative Binding Free Energy (RBFE) and its application in drug discovery. We began by understanding the thermodynamic principles behind free energy calculations, differentiating between absolute and relative binding free energies. We also delved into the practical application of RBFE, using the alchemical transformation approach to compute the relative affinities of different ligands to a protein target.\n",
    "\n",
    "Through the practical section, we demonstrated the process of setting up an RBFE calculation in a Google Colab environment, preparing ligand and protein structures, defining the chemical systems, and running simulations. Finally, we analyzed the results, highlighting how RBFE calculations can be used to rank ligands based on their predicted binding affinity to the target.\n",
    "\n",
    "### Pros and Cons\n",
    "\n",
    "**Pros:**\n",
    "\n",
    "* Efficiency: RBFE calculations allow for the rapid comparison of ligand binding affinities without the need for extensive docking studies for each individual ligand. This can significantly accelerate the drug discovery process, particularly in virtual screening scenarios.\n",
    "* Accuracy: When performed carefully, RBFE provides reliable estimates of relative binding affinities, making it a powerful tool for ligand optimization and prioritization in early-stage drug discovery.\n",
    "\n",
    "**Cons:**\n",
    "\n",
    "* Computational Resources: While RBFE calculations are more efficient than full molecular dynamics simulations, they still require considerable computational power, especially when simulating large or complex systems.\n",
    "* Force Field Dependence: The accuracy of RBFE calculations is highly dependent on the force field used for the simulations. The choice of force field and its parameterization can significantly affect the predicted binding energies.\n",
    "\n",
    "### Challenges\n",
    "\n",
    "Despite the advantages, there are several ongoing challenges and open questions in the RBFE approach:\n",
    "\n",
    "* Current models often assume rigid ligands, which may not always reflect their behavior in real biological systems. How can we better account for the flexibility of ligands during the alchemical transformation process, especially for molecules with highly flexible or large structures?\n",
    "* How can we more effectively include protein flexibility and conformational changes in RBFE calculations? This is particularly important for systems where the protein undergoes significant structural changes upon ligand binding, which may influence binding affinity.\n",
    "* There remains a need for more extensive validation of force fields across a diverse range of protein-ligand systems. Are the current force fields capable of providing reliable relative binding free energies for all types of ligands and proteins?"
   ]
  },
  {
   "cell_type": "markdown",
   "metadata": {
    "id": "qoD4qHjYMm0O"
   },
   "source": [
    "## Quiz\n",
    "\n",
    "You should be able to answer the following questions after doing this talktorial:\n",
    "\n",
    "1. What is the key difference between relative and absolute binding free energy? What is the main principle of the thermodynamic cycle for RBFE calculations, and does that make RBFE calculations more preferable to ABFE calculations?\n",
    "2. What are the steps involved in preparing the ligand-protein complex for RBFE calculations?\n",
    "3. What is the role of alchemical transformations in estimating the binding affinity of various ligands?"
   ]
  }
 ],
 "metadata": {
  "colab": {
   "provenance": []
  },
  "kernelspec": {
   "display_name": "Python 3 (ipykernel)",
   "language": "python",
   "name": "python3"
  },
  "language_info": {
   "codemirror_mode": {
    "name": "ipython",
    "version": 3
   },
   "file_extension": ".py",
   "mimetype": "text/x-python",
   "name": "python",
   "nbconvert_exporter": "python",
   "pygments_lexer": "ipython3",
   "version": "3.10.15"
  }
 },
 "nbformat": 4,
 "nbformat_minor": 4
}
