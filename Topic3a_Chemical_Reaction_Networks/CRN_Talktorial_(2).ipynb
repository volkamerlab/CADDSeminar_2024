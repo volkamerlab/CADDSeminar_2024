{
  "cells": [
    {
      "cell_type": "markdown",
      "id": "f26f7622",
      "metadata": {
        "id": "f26f7622"
      },
      "source": [
        "\n",
        "### **Talktorial: DYNAMIC MODELING IN SYSTEMS BIOLOGY**\n"
      ]
    },
    {
      "cell_type": "markdown",
      "id": "82d82f5b",
      "metadata": {
        "id": "82d82f5b"
      },
      "source": [
        "\n",
        "## **Authors**\n",
        "- Saransh\n",
        "- Rimash\n"
      ]
    },
    {
      "cell_type": "markdown",
      "id": "11d7f9db",
      "metadata": {
        "id": "11d7f9db"
      },
      "source": [
        "\n",
        "## **Aim of the Talktorial**\n",
        "This talktorial introduces how to model dynamical systems in Chemical Reaction Networks (CRNs) using Ordinary Differential Equations (ODEs). We describe how ODEs can represent chemical reactions, such as enzymatic processes or drug-receptor interactions. Python will be utilized to simulate and visualize these models.\n"
      ]
    },
    {
      "cell_type": "markdown",
      "id": "f9923910",
      "metadata": {
        "id": "f9923910"
      },
      "source": [
        "\n",
        "## **1. Introduction**\n",
        "\n",
        "### **Goal:**\n",
        "To establish the relevance of CRNs in **computational biology** and their applications.\n",
        "\n",
        "### **Topics Covered:**\n",
        "- **Definition of CRNs and Examples:**\n",
        "  - CRNs are structured systems of chemical reactions that describe changes in molecular concentrations over time. These systems are commonly applied to study biological processes such as enzymatic reactions and metabolic pathways.\n",
        "  \n",
        "**Example Reaction:**\n",
        "    $$\n",
        "    E + S \\rightleftharpoons C \\rightarrow E + P\n",
        "    $$\n",
        "    - Enzyme (E) binds to substrate (S) forming a complex (C), which subsequently converts into product (P) while releasing the enzyme.\n",
        "\n",
        "- **Importance in Studying Drug-Receptor Interactions:**\n",
        "  - CRNs are fundamental in understanding the kinetics of how drugs interact with biological receptors, offering insights into binding affinities and inhibitory effects.\n",
        "\n",
        "- **Overview of Methodologies:**\n",
        "  - The use of Ordinary Differential Equations (ODEs) to model CRNs, simulate reaction kinetics, and analyze steady-state and transient dynamics.\n"
      ]
    },
    {
      "cell_type": "markdown",
      "id": "a27a4baa",
      "metadata": {
        "id": "a27a4baa"
      },
      "source": [
        "## **2. Basics of Dynamical Systems in CRNs**\n",
        "\n",
        "### **Key Concepts**\n",
        "\n",
        "1. **Chemical Species**:\n",
        "   - Chemical species in a CRN include **reactants**, **intermediates**, and **products**. These species interact through reactions, which are characterized by specific rate constants.\n",
        "\n",
        "2. **Reactions and Rate Constants**:\n",
        "   - Each chemical reaction in a CRN is associated with a **rate constant** \\( k \\), which quantifies how fast the reaction occurs. For example, the rate at which reactants convert to products is governed by the rate constant.\n",
        "\n",
        "3. **Reaction Networks**:\n",
        "   - A **reaction network** consists of a set of interconnected reactions. These reactions form a dynamic system where the concentration of each species changes over time.\n",
        "\n",
        "---\n",
        "\n",
        "### **Dynamical Systems**\n",
        "\n",
        "#### **Modeling Concentrations Over Time Using ODEs**\n",
        "\n",
        "To model how the concentration of a chemical species changes over time, we use **Ordinary Differential Equations (ODEs)**. For instance, consider the dynamics of an enzyme (\\([E]\\)), substrate (\\([S]\\)), and the enzyme-substrate complex (\\([C]\\)) in a simple CRN:\n",
        "\n",
        "$$\n",
        "\\frac{d[E]}{dt} = -k_1[E][S] + k_2[C] + k_3[C],\n",
        "$$\n",
        "\n",
        "- The term \\( -k_1[E][S] \\) represents the consumption of enzyme and substrate to form the enzyme-substrate complex.\n",
        "- The terms \\( k_2[C] \\) and \\( k_3[C] \\) account for the breakdown of the enzyme-substrate complex, where it either returns to the enzyme and substrate or produces the product.\n",
        "\n",
        "#### **Mass-Action Kinetics**\n",
        "\n",
        "In mass-action kinetics, the rate of a reaction depends on the concentrations of the reactants. For the enzyme-substrate complex, the rate of change of the complex’s concentration is given by:\n",
        "\n",
        "$$\n",
        "\\frac{d[C]}{dt} = k_1[E][S] - k_2[C] - k_3[C],\n",
        "$$\n",
        "\n",
        "- The term \\( k_1[E][S] \\) represents the formation of the enzyme-substrate complex.\n",
        "- The terms \\( -k_2[C] \\) and \\( -k_3[C] \\) represent the consumption of the complex, either dissociating back into the enzyme and substrate or breaking down to form the product.\n",
        "\n",
        "These equations reflect the law of mass action, where the rate of a reaction is proportional to the concentrations of the reactants.\n",
        "\n",
        "---\n",
        "\n",
        "#### **Michaelis-Menten Mechanism**\n",
        "\n",
        "In enzyme kinetics, the **Michaelis-Menten mechanism** describes how enzymes interact with substrates. The mechanism involves two main steps:\n",
        "\n",
        "1. **Binding**: The enzyme \\(E\\) binds with the substrate \\(S\\) to form the enzyme-substrate complex \\(C\\):\n",
        "\n",
        "   $$\n",
        "   E + S \\rightleftharpoons C\n",
        "   $$\n",
        "\n",
        "2. **Reaction**: The enzyme-substrate complex \\(C\\) undergoes a reaction to release the enzyme \\(E\\) and produce the product \\(P\\):\n",
        "\n",
        "   $$\n",
        "   C \\rightarrow E + P\n",
        "   $$\n",
        "\n",
        "This mechanism is used to describe many enzyme-catalyzed reactions and leads to a set of rate equations for the concentrations of \\(E\\), \\(S\\), and \\(C\\).\n",
        "\n",
        "---\n",
        "\n",
        "### **Summary**\n",
        "\n",
        "- The dynamics of chemical species in a CRN can be described using ODEs, with the rates of change dependent on the concentrations of reactants and intermediates.\n",
        "- **Mass-action kinetics** and the **Michaelis-Menten mechanism** provide a foundation for modeling these systems and understanding enzyme-substrate interactions.\n"
      ]
    },
    {
      "cell_type": "markdown",
      "id": "901e9b16",
      "metadata": {
        "id": "901e9b16"
      },
      "source": [
        "## **3. Integration of ODEs**\n",
        "\n",
        "### **Key Concepts**\n",
        "\n",
        "#### **Euler's Method**\n",
        "\n",
        "Euler's method provides a numerical approximation to the solution of an ordinary differential equation (ODE) of the form:\n",
        "\n",
        "$$\n",
        "\\frac{dy}{dt} = f(t, y), \\quad y(t_0) = y_0.\n",
        "$$\n",
        "\n",
        "The iterative formula for Euler's method is:\n",
        "\n",
        "$$\n",
        "y_{n+1} = y_n + h \\cdot f(t_n, y_n),\n",
        "$$\n",
        "\n",
        "where:\n",
        "- \\( y_n \\): Approximate value of \\( y \\) at time \\( t_n \\),\n",
        "- \\( h \\): Step size,\n",
        "- \\( f(t_n, y_n) \\): Slope (right-hand side of the ODE) evaluated at \\( t_n \\).\n",
        "\n",
        "---\n",
        "\n",
        "### **Shortcomings of Euler's Method**\n",
        "\n",
        "1. **Assumption of Linearity**:\n",
        "   - Euler's method assumes linear behavior within a step. This can lead to inaccuracies for stiff or highly nonlinear systems.\n",
        "\n",
        "2. **Step Size Sensitivity**:\n",
        "   - The accuracy of the method depends on the choice of \\( h \\). Larger step sizes introduce larger errors, while smaller step sizes increase computational cost.\n",
        "\n",
        "3. **Accumulation of Errors**:\n",
        "   - Local truncation errors at each step can accumulate, resulting in significant global errors over time.\n",
        "\n",
        "4. **Inefficiency for Stiff Systems**:\n",
        "   - For stiff ODEs, Euler's method often requires very small step sizes to maintain stability and accuracy.\n"
      ]
    },
    {
      "cell_type": "code",
      "execution_count": 2,
      "id": "e65c5156",
      "metadata": {
        "colab": {
          "base_uri": "https://localhost:8080/",
          "height": 449
        },
        "id": "e65c5156",
        "outputId": "1b2c06c7-2e2d-4e7e-a6c0-cf4172f988f0"
      },
      "outputs": [
        {
          "output_type": "display_data",
          "data": {
            "text/plain": [
              "<Figure size 640x480 with 1 Axes>"
            ],
            "image/png": "[encoded data removed]"
          },
          "metadata": {}
        }
      ],
      "source": [
        "\n",
        "import numpy as np\n",
        "import matplotlib.pyplot as plt\n",
        "\n",
        "def euler_method(f, y0, t):\n",
        "    y = np.zeros(len(t))\n",
        "    y[0] = y0\n",
        "    for i in range(1, len(t)):\n",
        "        y[i] = y[i-1] + (t[i] - t[i-1]) * f(t[i-1], y[i-1])\n",
        "    return y\n",
        "\n",
        "def dydt(t, y):\n",
        "    return -0.5 * y  # Example: Exponential decay\n",
        "\n",
        "# Parameters\n",
        "t = np.linspace(0, 10, 100)\n",
        "y0 = 1\n",
        "\n",
        "# Solve\n",
        "y = euler_method(dydt, y0, t)\n",
        "\n",
        "# Plot\n",
        "plt.plot(t, y, label=\"Euler's Method\")\n",
        "plt.xlabel(\"Time\")\n",
        "plt.ylabel(\"y(t)\")\n",
        "plt.legend()\n",
        "plt.show()\n"
      ]
    },
    {
      "cell_type": "markdown",
      "id": "4f9d8bc4",
      "metadata": {
        "id": "4f9d8bc4"
      },
      "source": [
        "## **Exponential Decay and Euler’s Method**\n",
        "\n",
        "This plot shows how a quantity, \\( y(t) \\), decreases over time according to a rule: the faster the value decreases, the smaller it gets. This behavior is known as **exponential decay**.\n",
        "\n",
        "---\n",
        "\n",
        "### **How It Works**\n",
        "\n",
        "The governing equation is:\n",
        "\n",
        "$$\n",
        "\\frac{dy}{dt} = -0.5 \\cdot y.\n",
        "$$\n",
        "\n",
        "This means that \\( y(t) \\) shrinks at a rate proportional to its current value, \\( -0.5 \\cdot y \\).\n",
        "\n",
        "---\n",
        "\n",
        "### **How We Solve It**\n",
        "\n",
        "Using **Euler’s Method**, we calculate \\( y(t) \\) step by step:\n",
        "\n",
        "1. **Start with an initial value**: \\( y_0 \\).\n",
        "\n",
        "2. **Use the formula**:\n",
        "\n",
        "   $$\n",
        "   y_{\\text{next}} = y_{\\text{current}} + h \\cdot \\text{rate of change},\n",
        "   $$\n",
        "\n",
        "   where:\n",
        "   - \\( h \\) is the step size (the time increment),\n",
        "   - \\(\\text{rate of change} = -0.5 \\cdot y_{\\text{current}}\\).\n",
        "\n",
        "3. **Repeat** to get values of \\( y \\) at later times.\n",
        "\n",
        "---\n",
        "\n",
        "### **Step-by-Step Process**\n",
        "\n",
        "1. Begin at \\( t_0 \\) with \\( y_0 \\).\n",
        "2. Compute the rate of change at \\( y_{\\text{current}} \\) using \\( -0.5 \\cdot y_{\\text{current}} \\).\n",
        "3. Update \\( y_{\\text{next}} \\) using the formula:\n",
        "\n",
        "   $$\n",
        "   y_{\\text{next}} = y_{\\text{current}} + h \\cdot (-0.5 \\cdot y_{\\text{current}}).\n",
        "   $$\n",
        "\n",
        "4. Increment \\( t \\) by the step size \\( h \\) and repeat.\n",
        "\n",
        "---\n",
        "\n",
        "This iterative process allows us to approximate the solution \\( y(t) \\) over time.\n",
        "\n"
      ]
    },
    {
      "cell_type": "markdown",
      "id": "26640dff",
      "metadata": {
        "id": "26640dff"
      },
      "source": [
        "\n",
        "## **4. Impact of Rate Parameters**\n"
      ]
    },
    {
      "cell_type": "code",
      "execution_count": 3,
      "id": "2f60ee94",
      "metadata": {
        "colab": {
          "base_uri": "https://localhost:8080/",
          "height": 449
        },
        "id": "2f60ee94",
        "outputId": "99b627a9-f406-452a-ab96-70d37c7fd843"
      },
      "outputs": [
        {
          "output_type": "display_data",
          "data": {
            "text/plain": [
              "<Figure size 640x480 with 1 Axes>"
            ],
            "image/png": "[encoded data removed]"
          },
          "metadata": {}
        }
      ],
      "source": [
        "\n",
        "from scipy.integrate import odeint\n",
        "import numpy as np\n",
        "import matplotlib.pyplot as plt\n",
        "\n",
        "def crn_model(y, t, k1, k2, k3):\n",
        "    E, S, C, P = y\n",
        "    dE_dt = -k1 * E * S + k2 * C + k3 * C\n",
        "    dS_dt = -k1 * E * S + k2 * C\n",
        "    dC_dt = k1 * E * S - (k2 + k3) * C\n",
        "    dP_dt = k3 * C\n",
        "    return [dE_dt, dS_dt, dC_dt, dP_dt]\n",
        "\n",
        "# Initial conditions\n",
        "E0, S0, C0, P0 = 1.0, 10.0, 0.0, 0.0\n",
        "\n",
        "# Time points\n",
        "t = np.linspace(0, 50, 500)\n",
        "\n",
        "# Rate constants\n",
        "k1, k2, k3 = 0.1, 0.05, 0.1\n",
        "\n",
        "# Solving ODE\n",
        "solution = odeint(crn_model, [E0, S0, C0, P0], t, args=(k1, k2, k3))\n",
        "E, S, C, P = solution.T\n",
        "\n",
        "# Plotting results\n",
        "plt.plot(t, E, label=\"[E]\")\n",
        "plt.plot(t, S, label=\"[S]\")\n",
        "plt.plot(t, C, label=\"[C]\")\n",
        "plt.plot(t, P, label=\"[P]\")\n",
        "plt.xlabel(\"Time\")\n",
        "plt.ylabel(\"Concentration\")\n",
        "plt.legend()\n",
        "plt.show()\n"
      ]
    },
    {
      "cell_type": "markdown",
      "id": "2bbc7edd",
      "metadata": {
        "id": "2bbc7edd"
      },
      "source": [
        "## **Enzymatic Reaction Dynamics**\n",
        "\n",
        "This plot illustrates how four key components of an enzymatic reaction change over time:\n",
        "\n",
        "---\n",
        "\n",
        "### **Components**\n",
        "\n",
        "1. **Enzyme (\\([E]\\), Blue)**:\n",
        "   - The enzyme facilitates the reaction by binding to the substrate, forming a temporary complex.\n",
        "   - Its concentration decreases slightly at first but recovers as it is recycled.\n",
        "\n",
        "2. **Substrate (\\([S]\\), Red)**:\n",
        "   - The substrate is the starting material that reacts with the enzyme.\n",
        "   - Its concentration decreases steadily as it is converted into the product.\n",
        "\n",
        "3. **Enzyme-Substrate Complex (\\([C]\\), Green)**:\n",
        "   - This complex forms when the enzyme binds to the substrate.\n",
        "   - Its concentration increases initially, then stabilizes as the reaction reaches a balance.\n",
        "\n",
        "4. **Product (\\([P]\\), Purple)**:\n",
        "   - The product is the outcome of the reaction.\n",
        "   - Its concentration increases steadily as the substrate is consumed.\n",
        "\n",
        "---\n",
        "\n",
        "### **What’s Happening in the Reaction?**\n",
        "\n",
        "#### **1. Binding**\n",
        "\n",
        "The enzyme (\\(E\\)) and substrate (\\(S\\)) combine to form the enzyme-substrate complex (\\(C\\)):\n",
        "\n",
        "$$\n",
        "E + S \\rightarrow C\n",
        "$$\n",
        "\n",
        "---\n",
        "\n",
        "#### **2. Reaction**\n",
        "\n",
        "The enzyme-substrate complex (\\(C\\)) breaks down to release the enzyme (\\(E\\)) and produce the product (\\(P\\)):\n",
        "\n",
        "$$\n",
        "C \\rightarrow E + P\n",
        "$$\n",
        "\n",
        "---\n",
        "\n",
        "#### **3. Recycling**\n",
        "\n",
        "The enzyme (\\(E\\)) is free to bind to more substrate, allowing the process to repeat.\n",
        "\n",
        "---\n",
        "\n",
        "This step-by-step process highlights how the enzymatic reaction progresses over time, with each component dynamically changing as the reaction proceeds.\n"
      ]
    },
    {
      "cell_type": "markdown",
      "source": [],
      "metadata": {
        "id": "NakhREzXPzAF"
      },
      "id": "NakhREzXPzAF"
    },
    {
      "cell_type": "markdown",
      "metadata": {
        "id": "6802ba2d"
      },
      "source": [
        "### Interactive Simulation: Enzyme-Substrate Reaction\n",
        "\n",
        "Adjust the rate constants \\( k_1, k_2, \\) and \\( k_3 \\) and observe how the concentrations of species change over time.\n",
        "\n",
        "\n"
      ],
      "id": "6802ba2d"
    },
    {
      "cell_type": "code",
      "source": [],
      "metadata": {
        "id": "wp5yTKLPP1cZ"
      },
      "id": "wp5yTKLPP1cZ",
      "execution_count": null,
      "outputs": []
    },
    {
      "cell_type": "code",
      "execution_count": 5,
      "metadata": {
        "colab": {
          "base_uri": "https://localhost:8080/",
          "height": 583,
          "referenced_widgets": [
            "e18a7b180e8e4b7ab7867bd852a944c3",
            "503e657a77e34b62bb58705a3bdae26e",
            "0bcdec4035584e5ab7f18eb2daf029bc",
            "f56e4f8a57794994a8d5f8428f4672e3",
            "67dbeb9ca27f4fd2985e7092a59a36fb",
            "40ebbb863e53491988316a7e352aa671",
            "25a44364bb1e4d4b85094b7c770dcc5e",
            "e69747ae58a44809bc6d4f09a6a9ec77",
            "54fac326bc0a47f9b2642e64da0eeb77",
            "90800d37fd5f42328f2a11c825ff5707",
            "c6e49b0e4bcf4527880e35c12b88bca0",
            "39ed1f0955c645c286d8b3fbb5e3db6c",
            "2e256fadbb324c6c81527444c16a70cf"
          ]
        },
        "id": "ec767c14",
        "outputId": "974330cb-2f8a-42b3-b25b-bf2855595b17"
      },
      "outputs": [
        {
          "output_type": "display_data",
          "data": {
            "text/plain": [
              "interactive(children=(FloatSlider(value=0.1, description='k1', max=1.0, min=0.01, step=0.01), FloatSlider(valu…"
            ],
            "application/vnd.jupyter.widget-view+json": {
              "version_major": 2,
              "version_minor": 0,
              "model_id": "e18a7b180e8e4b7ab7867bd852a944c3"
            }
          },
          "metadata": {}
        }
      ],
      "source": [
        "import numpy as np\n",
        "from scipy.integrate import odeint\n",
        "import matplotlib.pyplot as plt\n",
        "import ipywidgets as widgets\n",
        "from ipywidgets import interact\n",
        "\n",
        "# Define the CRN model\n",
        "def crn_model(y, t, k1, k2, k3):\n",
        "    E, S, C, P = y\n",
        "    dE_dt = -k1 * E * S + k2 * C + k3 * C\n",
        "    dS_dt = -k1 * E * S + k2 * C\n",
        "    dC_dt = k1 * E * S - (k2 + k3) * C\n",
        "    dP_dt = k3 * C\n",
        "    return [dE_dt, dS_dt, dC_dt, dP_dt]\n",
        "\n",
        "# Initial conditions\n",
        "E0, S0, C0, P0 = 1.0, 10.0, 0.0, 0.0\n",
        "\n",
        "# Time points\n",
        "t = np.linspace(0, 50, 500)\n",
        "\n",
        "# Interactive function\n",
        "def simulate_crn(k1=0.1, k2=0.05, k3=0.1):\n",
        "    solution = odeint(crn_model, [E0, S0, C0, P0], t, args=(k1, k2, k3))\n",
        "    E, S, C, P = solution.T\n",
        "\n",
        "    plt.figure(figsize=(8, 5))\n",
        "    plt.plot(t, E, label=\"[E] (Enzyme)\")\n",
        "    plt.plot(t, S, label=\"[S] (Substrate)\")\n",
        "    plt.plot(t, C, label=\"[C] (Complex)\")\n",
        "    plt.plot(t, P, label=\"[P] (Product)\")\n",
        "    plt.xlabel(\"Time\")\n",
        "    plt.ylabel(\"Concentration\")\n",
        "    plt.title(\"Enzyme-Substrate Reaction Dynamics\")\n",
        "    plt.legend()\n",
        "    plt.show()\n",
        "\n",
        "# Create interactive sliders\n",
        "interact(simulate_crn, k1=(0.01, 1.0, 0.01), k2=(0.01, 1.0, 0.01), k3=(0.01, 1.0, 0.01));"
      ],
      "id": "ec767c14"
    },
    {
      "cell_type": "markdown",
      "id": "b4f28682",
      "metadata": {
        "id": "b4f28682"
      },
      "source": [
        "\n",
        "## **6. Application: Calcium Oscillations**\n",
        "\n",
        "### **High-Level Explanation:**\n",
        "\n",
        "#### **What are Calcium Oscillations?**\n",
        "- Calcium oscillations refer to the rhythmic changes in calcium ion (\\( \\text{Ca}^{2+} \\)) concentrations within cells over time.\n",
        "- These oscillations play a critical role in various biological processes, such as:\n",
        "  - **Muscle Contraction**: Calcium signals trigger muscles to contract and relax.\n",
        "  - **Neurotransmission**: Calcium ions help transmit signals between neurons.\n",
        "  - **Immune Responses**: Calcium regulates the activation and movement of immune cells.\n",
        "\n",
        "#### **Why Do Oscillations Happen?**\n",
        "- Oscillatory behavior is caused by feedback loops in **Chemical Reaction Networks (CRNs)**. For example:\n",
        "  - **Positive Feedback**: Increases calcium release, amplifying the signal.\n",
        "  - **Negative Feedback**: Helps reduce calcium levels, ensuring oscillations don't go out of control.\n",
        "- These feedback mechanisms create a repeating cycle of calcium release and uptake, resulting in the oscillations observed.\n",
        "\n",
        "---\n"
      ]
    },
    {
      "cell_type": "code",
      "execution_count": 4,
      "id": "b15ec138",
      "metadata": {
        "colab": {
          "base_uri": "https://localhost:8080/",
          "height": 472
        },
        "id": "b15ec138",
        "outputId": "1ff40101-62dd-4398-e488-6cb4a019678c"
      },
      "outputs": [
        {
          "output_type": "display_data",
          "data": {
            "text/plain": [
              "<Figure size 640x480 with 1 Axes>"
            ],
            "image/png": "[encoded data removed]"
          },
          "metadata": {}
        }
      ],
      "source": [
        "\n",
        "from scipy.integrate import odeint\n",
        "import numpy as np\n",
        "import matplotlib.pyplot as plt\n",
        "\n",
        "def calcium_model(C, t, k_on, k_off, feedback):\n",
        "    dC_dt = k_on - k_off * C + feedback * (C**2 / (1 + C**2))\n",
        "    return dC_dt\n",
        "\n",
        "# Parameters\n",
        "t = np.linspace(0, 100, 1000)\n",
        "C0 = 0.1  # Initial calcium concentration\n",
        "k_on = 0.2\n",
        "k_off = 0.1\n",
        "feedback = 0.5\n",
        "\n",
        "# Solve ODE\n",
        "C = odeint(calcium_model, C0, t, args=(k_on, k_off, feedback))\n",
        "\n",
        "# Plot results\n",
        "plt.plot(t, C)\n",
        "plt.xlabel(\"Time\")\n",
        "plt.ylabel(\"Calcium Concentration\")\n",
        "plt.title(\"Calcium Oscillations\")\n",
        "plt.show()\n"
      ]
    },
    {
      "cell_type": "markdown",
      "id": "74c86a20",
      "metadata": {
        "id": "74c86a20"
      },
      "source": [
        "## **Calcium Oscillations: Dynamics Over Time**\n",
        "\n",
        "This plot shows how calcium levels in a system change over time. Initially, calcium levels are low, but they rise and eventually settle into a stable oscillatory pattern. This behavior is controlled by a balance of key processes:\n",
        "\n",
        "---\n",
        "\n",
        "### **Key Processes**\n",
        "\n",
        "1. **Calcium Influx ($k_{\\text{on}}$)**:\n",
        "   - Represents calcium \"flowing in\" to the system, which increases the calcium level.\n",
        "\n",
        "2. **Calcium Efflux ($k_{\\text{off}} \\cdot C$)**:\n",
        "   - Represents calcium \"flowing out\" of the system, which decreases the calcium level.\n",
        "   - The efflux depends on the current calcium concentration ($C$).\n",
        "\n",
        "3. **Feedback Mechanism**:\n",
        "   - A special mechanism that boosts calcium levels when they reach a certain threshold.\n",
        "   - This feedback creates a \"push\" that helps maintain or amplify the oscillatory behavior.\n",
        "\n"
      ]
    }
  ],
  "metadata": {
    "kernelspec": {
      "display_name": "Python 3",
      "language": "python",
      "name": "python3"
    },
    "language_info": {
      "codemirror_mode": {
        "name": "ipython",
        "version": 3
      },
      "file_extension": ".py",
      "mimetype": "text/x-python",
      "name": "python",
      "nbconvert_exporter": "python",
      "pygments_lexer": "ipython3",
      "version": "3.11.6"
    },
    "colab": {
      "provenance": []
    },
    "widgets": {
      "application/vnd.jupyter.widget-state+json": {
        "e18a7b180e8e4b7ab7867bd852a944c3": {
          "model_module": "@jupyter-widgets/controls",
          "model_name": "VBoxModel",
          "model_module_version": "1.5.0",
          "state": {
            "_dom_classes": [
              "widget-interact"
            ],
            "_model_module": "@jupyter-widgets/controls",
            "_model_module_version": "1.5.0",
            "_model_name": "VBoxModel",
            "_view_count": null,
            "_view_module": "@jupyter-widgets/controls",
            "_view_module_version": "1.5.0",
            "_view_name": "VBoxView",
            "box_style": "",
            "children": [
              "IPY_MODEL_503e657a77e34b62bb58705a3bdae26e",
              "IPY_MODEL_0bcdec4035584e5ab7f18eb2daf029bc",
              "IPY_MODEL_f56e4f8a57794994a8d5f8428f4672e3",
              "IPY_MODEL_67dbeb9ca27f4fd2985e7092a59a36fb"
            ],
            "layout": "IPY_MODEL_40ebbb863e53491988316a7e352aa671"
          }
        },
        "503e657a77e34b62bb58705a3bdae26e": {
          "model_module": "@jupyter-widgets/controls",
          "model_name": "FloatSliderModel",
          "model_module_version": "1.5.0",
          "state": {
            "_dom_classes": [],
            "_model_module": "@jupyter-widgets/controls",
            "_model_module_version": "1.5.0",
            "_model_name": "FloatSliderModel",
            "_view_count": null,
            "_view_module": "@jupyter-widgets/controls",
            "_view_module_version": "1.5.0",
            "_view_name": "FloatSliderView",
            "continuous_update": true,
            "description": "k1",
            "description_tooltip": null,
            "disabled": false,
            "layout": "IPY_MODEL_25a44364bb1e4d4b85094b7c770dcc5e",
            "max": 1,
            "min": 0.01,
            "orientation": "horizontal",
            "readout": true,
            "readout_format": ".2f",
            "step": 0.01,
            "style": "IPY_MODEL_e69747ae58a44809bc6d4f09a6a9ec77",
            "value": 0.1
          }
        },
        "0bcdec4035584e5ab7f18eb2daf029bc": {
          "model_module": "@jupyter-widgets/controls",
          "model_name": "FloatSliderModel",
          "model_module_version": "1.5.0",
          "state": {
            "_dom_classes": [],
            "_model_module": "@jupyter-widgets/controls",
            "_model_module_version": "1.5.0",
            "_model_name": "FloatSliderModel",
            "_view_count": null,
            "_view_module": "@jupyter-widgets/controls",
            "_view_module_version": "1.5.0",
            "_view_name": "FloatSliderView",
            "continuous_update": true,
            "description": "k2",
            "description_tooltip": null,
            "disabled": false,
            "layout": "IPY_MODEL_54fac326bc0a47f9b2642e64da0eeb77",
            "max": 1,
            "min": 0.01,
            "orientation": "horizontal",
            "readout": true,
            "readout_format": ".2f",
            "step": 0.01,
            "style": "IPY_MODEL_90800d37fd5f42328f2a11c825ff5707",
            "value": 0.05
          }
        },
        "f56e4f8a57794994a8d5f8428f4672e3": {
          "model_module": "@jupyter-widgets/controls",
          "model_name": "FloatSliderModel",
          "model_module_version": "1.5.0",
          "state": {
            "_dom_classes": [],
            "_model_module": "@jupyter-widgets/controls",
            "_model_module_version": "1.5.0",
            "_model_name": "FloatSliderModel",
            "_view_count": null,
            "_view_module": "@jupyter-widgets/controls",
            "_view_module_version": "1.5.0",
            "_view_name": "FloatSliderView",
            "continuous_update": true,
            "description": "k3",
            "description_tooltip": null,
            "disabled": false,
            "layout": "IPY_MODEL_c6e49b0e4bcf4527880e35c12b88bca0",
            "max": 1,
            "min": 0.01,
            "orientation": "horizontal",
            "readout": true,
            "readout_format": ".2f",
            "step": 0.01,
            "style": "IPY_MODEL_39ed1f0955c645c286d8b3fbb5e3db6c",
            "value": 0.1
          }
        },
        "67dbeb9ca27f4fd2985e7092a59a36fb": {
          "model_module": "@jupyter-widgets/output",
          "model_name": "OutputModel",
          "model_module_version": "1.0.0",
          "state": {
            "_dom_classes": [],
            "_model_module": "@jupyter-widgets/output",
            "_model_module_version": "1.0.0",
            "_model_name": "OutputModel",
            "_view_count": null,
            "_view_module": "@jupyter-widgets/output",
            "_view_module_version": "1.0.0",
            "_view_name": "OutputView",
            "layout": "IPY_MODEL_2e256fadbb324c6c81527444c16a70cf",
            "msg_id": "",
            "outputs": [
              {
                "output_type": "display_data",
                "data": {
                  "text/plain": "<Figure size 800x500 with 1 Axes>",
                  "image/png": "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\n"
                },
                "metadata": {}
              }
            ]
          }
        },
        "40ebbb863e53491988316a7e352aa671": {
          "model_module": "@jupyter-widgets/base",
          "model_name": "LayoutModel",
          "model_module_version": "1.2.0",
          "state": {
            "_model_module": "@jupyter-widgets/base",
            "_model_module_version": "1.2.0",
            "_model_name": "LayoutModel",
            "_view_count": null,
            "_view_module": "@jupyter-widgets/base",
            "_view_module_version": "1.2.0",
            "_view_name": "LayoutView",
            "align_content": null,
            "align_items": null,
            "align_self": null,
            "border": null,
            "bottom": null,
            "display": null,
            "flex": null,
            "flex_flow": null,
            "grid_area": null,
            "grid_auto_columns": null,
            "grid_auto_flow": null,
            "grid_auto_rows": null,
            "grid_column": null,
            "grid_gap": null,
            "grid_row": null,
            "grid_template_areas": null,
            "grid_template_columns": null,
            "grid_template_rows": null,
            "height": null,
            "justify_content": null,
            "justify_items": null,
            "left": null,
            "margin": null,
            "max_height": null,
            "max_width": null,
            "min_height": null,
            "min_width": null,
            "object_fit": null,
            "object_position": null,
            "order": null,
            "overflow": null,
            "overflow_x": null,
            "overflow_y": null,
            "padding": null,
            "right": null,
            "top": null,
            "visibility": null,
            "width": null
          }
        },
        "25a44364bb1e4d4b85094b7c770dcc5e": {
          "model_module": "@jupyter-widgets/base",
          "model_name": "LayoutModel",
          "model_module_version": "1.2.0",
          "state": {
            "_model_module": "@jupyter-widgets/base",
            "_model_module_version": "1.2.0",
            "_model_name": "LayoutModel",
            "_view_count": null,
            "_view_module": "@jupyter-widgets/base",
            "_view_module_version": "1.2.0",
            "_view_name": "LayoutView",
            "align_content": null,
            "align_items": null,
            "align_self": null,
            "border": null,
            "bottom": null,
            "display": null,
            "flex": null,
            "flex_flow": null,
            "grid_area": null,
            "grid_auto_columns": null,
            "grid_auto_flow": null,
            "grid_auto_rows": null,
            "grid_column": null,
            "grid_gap": null,
            "grid_row": null,
            "grid_template_areas": null,
            "grid_template_columns": null,
            "grid_template_rows": null,
            "height": null,
            "justify_content": null,
            "justify_items": null,
            "left": null,
            "margin": null,
            "max_height": null,
            "max_width": null,
            "min_height": null,
            "min_width": null,
            "object_fit": null,
            "object_position": null,
            "order": null,
            "overflow": null,
            "overflow_x": null,
            "overflow_y": null,
            "padding": null,
            "right": null,
            "top": null,
            "visibility": null,
            "width": null
          }
        },
        "e69747ae58a44809bc6d4f09a6a9ec77": {
          "model_module": "@jupyter-widgets/controls",
          "model_name": "SliderStyleModel",
          "model_module_version": "1.5.0",
          "state": {
            "_model_module": "@jupyter-widgets/controls",
            "_model_module_version": "1.5.0",
            "_model_name": "SliderStyleModel",
            "_view_count": null,
            "_view_module": "@jupyter-widgets/base",
            "_view_module_version": "1.2.0",
            "_view_name": "StyleView",
            "description_width": "",
            "handle_color": null
          }
        },
        "54fac326bc0a47f9b2642e64da0eeb77": {
          "model_module": "@jupyter-widgets/base",
          "model_name": "LayoutModel",
          "model_module_version": "1.2.0",
          "state": {
            "_model_module": "@jupyter-widgets/base",
            "_model_module_version": "1.2.0",
            "_model_name": "LayoutModel",
            "_view_count": null,
            "_view_module": "@jupyter-widgets/base",
            "_view_module_version": "1.2.0",
            "_view_name": "LayoutView",
            "align_content": null,
            "align_items": null,
            "align_self": null,
            "border": null,
            "bottom": null,
            "display": null,
            "flex": null,
            "flex_flow": null,
            "grid_area": null,
            "grid_auto_columns": null,
            "grid_auto_flow": null,
            "grid_auto_rows": null,
            "grid_column": null,
            "grid_gap": null,
            "grid_row": null,
            "grid_template_areas": null,
            "grid_template_columns": null,
            "grid_template_rows": null,
            "height": null,
            "justify_content": null,
            "justify_items": null,
            "left": null,
            "margin": null,
            "max_height": null,
            "max_width": null,
            "min_height": null,
            "min_width": null,
            "object_fit": null,
            "object_position": null,
            "order": null,
            "overflow": null,
            "overflow_x": null,
            "overflow_y": null,
            "padding": null,
            "right": null,
            "top": null,
            "visibility": null,
            "width": null
          }
        },
        "90800d37fd5f42328f2a11c825ff5707": {
          "model_module": "@jupyter-widgets/controls",
          "model_name": "SliderStyleModel",
          "model_module_version": "1.5.0",
          "state": {
            "_model_module": "@jupyter-widgets/controls",
            "_model_module_version": "1.5.0",
            "_model_name": "SliderStyleModel",
            "_view_count": null,
            "_view_module": "@jupyter-widgets/base",
            "_view_module_version": "1.2.0",
            "_view_name": "StyleView",
            "description_width": "",
            "handle_color": null
          }
        },
        "c6e49b0e4bcf4527880e35c12b88bca0": {
          "model_module": "@jupyter-widgets/base",
          "model_name": "LayoutModel",
          "model_module_version": "1.2.0",
          "state": {
            "_model_module": "@jupyter-widgets/base",
            "_model_module_version": "1.2.0",
            "_model_name": "LayoutModel",
            "_view_count": null,
            "_view_module": "@jupyter-widgets/base",
            "_view_module_version": "1.2.0",
            "_view_name": "LayoutView",
            "align_content": null,
            "align_items": null,
            "align_self": null,
            "border": null,
            "bottom": null,
            "display": null,
            "flex": null,
            "flex_flow": null,
            "grid_area": null,
            "grid_auto_columns": null,
            "grid_auto_flow": null,
            "grid_auto_rows": null,
            "grid_column": null,
            "grid_gap": null,
            "grid_row": null,
            "grid_template_areas": null,
            "grid_template_columns": null,
            "grid_template_rows": null,
            "height": null,
            "justify_content": null,
            "justify_items": null,
            "left": null,
            "margin": null,
            "max_height": null,
            "max_width": null,
            "min_height": null,
            "min_width": null,
            "object_fit": null,
            "object_position": null,
            "order": null,
            "overflow": null,
            "overflow_x": null,
            "overflow_y": null,
            "padding": null,
            "right": null,
            "top": null,
            "visibility": null,
            "width": null
          }
        },
        "39ed1f0955c645c286d8b3fbb5e3db6c": {
          "model_module": "@jupyter-widgets/controls",
          "model_name": "SliderStyleModel",
          "model_module_version": "1.5.0",
          "state": {
            "_model_module": "@jupyter-widgets/controls",
            "_model_module_version": "1.5.0",
            "_model_name": "SliderStyleModel",
            "_view_count": null,
            "_view_module": "@jupyter-widgets/base",
            "_view_module_version": "1.2.0",
            "_view_name": "StyleView",
            "description_width": "",
            "handle_color": null
          }
        },
        "2e256fadbb324c6c81527444c16a70cf": {
          "model_module": "@jupyter-widgets/base",
          "model_name": "LayoutModel",
          "model_module_version": "1.2.0",
          "state": {
            "_model_module": "@jupyter-widgets/base",
            "_model_module_version": "1.2.0",
            "_model_name": "LayoutModel",
            "_view_count": null,
            "_view_module": "@jupyter-widgets/base",
            "_view_module_version": "1.2.0",
            "_view_name": "LayoutView",
            "align_content": null,
            "align_items": null,
            "align_self": null,
            "border": null,
            "bottom": null,
            "display": null,
            "flex": null,
            "flex_flow": null,
            "grid_area": null,
            "grid_auto_columns": null,
            "grid_auto_flow": null,
            "grid_auto_rows": null,
            "grid_column": null,
            "grid_gap": null,
            "grid_row": null,
            "grid_template_areas": null,
            "grid_template_columns": null,
            "grid_template_rows": null,
            "height": null,
            "justify_content": null,
            "justify_items": null,
            "left": null,
            "margin": null,
            "max_height": null,
            "max_width": null,
            "min_height": null,
            "min_width": null,
            "object_fit": null,
            "object_position": null,
            "order": null,
            "overflow": null,
            "overflow_x": null,
            "overflow_y": null,
            "padding": null,
            "right": null,
            "top": null,
            "visibility": null,
            "width": null
          }
        }
      }
    }
  },
  "nbformat": 4,
  "nbformat_minor": 5
}