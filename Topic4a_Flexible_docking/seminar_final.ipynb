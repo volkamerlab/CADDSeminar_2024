{
 "cells": [
  {
   "cell_type": "code",
   "execution_count": 1,
   "id": "2d042975-3a21-47f4-990f-8455c7f74cc5",
   "metadata": {},
   "outputs": [
    {
     "name": "stderr",
     "output_type": "stream",
     "text": [
      "Warning: importing 'simtk.openmm' is deprecated.  Import 'openmm' instead.\n"
     ]
    }
   ],
   "source": [
    "import os\n",
    "import requests\n",
    "from pdbfixer import PDBFixer\n",
    "from simtk.openmm.app import PDBFile\n",
    "from rdkit import Chem\n",
    "from rdkit.Chem import AllChem, rdMolAlign\n",
    "from Bio import PDB\n",
    "import subprocess"
   ]
  },
  {
   "cell_type": "code",
   "execution_count": 2,
   "id": "e7a4f014-899d-489f-84f8-d0d946bc6253",
   "metadata": {},
   "outputs": [],
   "source": [
    "PDB_DIR = \"pdb_files/\"\n",
    "LIGAND_DIR = \"ligands/\"\n",
    "DOCKING_DIR = \"docking_results/\"\n",
    "os.makedirs(PDB_DIR, exist_ok=True)\n",
    "os.makedirs(LIGAND_DIR, exist_ok=True)\n",
    "os.makedirs(DOCKING_DIR, exist_ok=True)\n",
    "\n"
   ]
  },
  {
   "cell_type": "code",
   "execution_count": 4,
   "id": "023b7edd-8090-4a08-8579-e94d14641aa6",
   "metadata": {},
   "outputs": [
    {
     "name": "stdout",
     "output_type": "stream",
     "text": [
      "4IAQ downloaded.\n",
      "6G79 downloaded.\n"
     ]
    }
   ],
   "source": [
    "# --- 1. Fetch PDB Files ---\n",
    "\n",
    "def fetch_pdb(pdb_id):\n",
    "    url = f\"https://files.rcsb.org/download/{pdb_id}.pdb\"\n",
    "    response = requests.get(url)\n",
    "    pdb_path = f\"{PDB_DIR}{pdb_id}.pdb\"\n",
    "    \n",
    "    if response.status_code == 200:\n",
    "        with open(pdb_path, 'wb') as f:\n",
    "            f.write(response.content)\n",
    "        print(f\"{pdb_id} downloaded.\")\n",
    "        return pdb_path\n",
    "    else:\n",
    "        raise Exception(f\"Failed to fetch PDB {pdb_id}\")\n",
    "    \n",
    "# Fetch and prepare proteins\n",
    "pdb_4iaq = fetch_pdb(\"4IAQ\")\n",
    "pdb_6g79 = fetch_pdb(\"6G79\")"
   ]
  },
  {
   "cell_type": "code",
   "execution_count": null,
   "id": "47ced17f",
   "metadata": {},
   "outputs": [],
   "source": [
    "# --- 2. Prepare Protein with PDBFixer ---\n",
    "\n",
    "from openbabel import pybel\n",
    "\n",
    "def prepare_protein(input_pdb, output_pdb):\n",
    "    fixer = PDBFixer(filename=input_pdb)\n",
    "    fixer.findMissingResidues()\n",
    "    fixer.findMissingAtoms()\n",
    "    fixer.addMissingAtoms()\n",
    "    fixer.removeHeterogens(True)\n",
    "    \n",
    "    with open(output_pdb, 'w') as f:\n",
    "        PDBFile.writeFile(fixer.topology, fixer.positions, f)\n",
    "\n",
    "    protein = list(pybel.readfile(\"pdb\", output_pdb))[0]\n",
    "\n",
    "    protein.OBMol.CorrectForPH(7.0)\n",
    "    protein.addh()\n",
    "    protein.write(\"pdb\", f\"{output_pdb}\", overwrite=True)\n",
    "    \n",
    "    print(f\"Protein {input_pdb} prepared as {output_pdb}\")\n",
    "    \n",
    "prepare_protein(pdb_4iaq, f\"{PDB_DIR}4IAQ_prepared.pdb\")\n",
    "prepare_protein(pdb_6g79, f\"{PDB_DIR}6G79_prepared.pdb\")\n"
   ]
  },
  {
   "cell_type": "code",
   "execution_count": 15,
   "id": "efea025b-2f94-4e7f-b3c5-86b1e05a3e7e",
   "metadata": {},
   "outputs": [
    {
     "name": "stdout",
     "output_type": "stream",
     "text": [
      "Protein pdb_files/4IAQ.pdb prepared as pdb_files/4IAQ_prepared.pdb\n",
      "Protein pdb_files/6G79.pdb prepared as pdb_files/6G79_prepared.pdb\n"
     ]
    }
   ],
   "source": [
    "# --- 2. Prepare Protein with PDBFixer ---\n",
    "\n",
    "def prepare_protein(input_pdb, output_pdb):\n",
    "    fixer = PDBFixer(filename=input_pdb)\n",
    "    fixer.findMissingResidues()\n",
    "    fixer.findMissingAtoms()\n",
    "    fixer.addMissingAtoms()\n",
    "    fixer.addMissingHydrogens(7.0)\n",
    "    fixer.removeHeterogens(True)\n",
    "    \n",
    "    with open(output_pdb, 'w') as f:\n",
    "        PDBFile.writeFile(fixer.topology, fixer.positions, f)\n",
    "    \n",
    "    print(f\"Protein {input_pdb} prepared as {output_pdb}\")\n",
    "    \n",
    "prepare_protein(pdb_4iaq, f\"{PDB_DIR}4IAQ_prepared.pdb\")\n",
    "prepare_protein(pdb_6g79, f\"{PDB_DIR}6G79_prepared.pdb\")\n"
   ]
  },
  {
   "cell_type": "code",
   "execution_count": 16,
   "id": "854bfe74-1b0a-4a1b-8375-93972729589a",
   "metadata": {},
   "outputs": [
    {
     "name": "stdout",
     "output_type": "stream",
     "text": [
      "Aligned pdb_files/6G79_prepared.pdb to pdb_files/4IAQ_prepared.pdb\n"
     ]
    }
   ],
   "source": [
    "# --- 3. Align Protein Structures ---\n",
    "\n",
    "def align_proteins(reference_pdb, target_pdb):\n",
    "    parser = PDB.PDBParser(QUIET=True)\n",
    "    ref_structure = parser.get_structure(\"ref\", reference_pdb)\n",
    "    target_structure = parser.get_structure(\"target\", target_pdb)\n",
    "    \n",
    "    super_imposer = PDB.Superimposer()\n",
    "    ref_atoms = []\n",
    "    target_atoms = []\n",
    "    \n",
    "    for ref_chain, target_chain in zip(ref_structure[0], target_structure[0]):\n",
    "        for ref_res, target_res in zip(ref_chain, target_chain):\n",
    "            if 'CA' in ref_res and 'CA' in target_res:\n",
    "                ref_atoms.append(ref_res['CA'])\n",
    "                target_atoms.append(target_res['CA'])\n",
    "    \n",
    "    super_imposer.set_atoms(ref_atoms, target_atoms)\n",
    "    super_imposer.apply(target_structure.get_atoms())\n",
    "    \n",
    "    aligned_pdb = target_pdb.replace(\".pdb\", \"_aligned.pdb\")\n",
    "    with open(aligned_pdb, 'w') as f:\n",
    "        io = PDB.PDBIO()\n",
    "        io.set_structure(target_structure)\n",
    "        io.save(f)\n",
    "    \n",
    "    print(f\"Aligned {target_pdb} to {reference_pdb}\")\n",
    "    return aligned_pdb\n",
    "\n",
    "# Align proteins\n",
    "aligned_6g79 = align_proteins(f\"{PDB_DIR}4IAQ_prepared.pdb\", f\"{PDB_DIR}6G79_prepared.pdb\")"
   ]
  },
  {
   "cell_type": "code",
   "execution_count": 23,
   "id": "704d13ed-d940-45bb-8e50-448b965c07c6",
   "metadata": {},
   "outputs": [],
   "source": [
    "# --- 4. Select Binding Site ---\n",
    "\n",
    "def select_binding_site(pdb_file, ligand_resname):\n",
    "    parser = PDB.PDBParser(QUIET=True)\n",
    "    structure = parser.get_structure(\"protein\", pdb_file)\n",
    "    \n",
    "    ligand_atoms = []\n",
    "    for model in structure:\n",
    "        for chain in model:\n",
    "            for res in chain:\n",
    "                if res.resname == ligand_resname:\n",
    "                    for atom in res:\n",
    "                        ligand_atoms.append(atom.coord)\n",
    "    \n",
    "    if not ligand_atoms:\n",
    "        raise ValueError(f\"Ligand {ligand_resname} not found in {pdb_file}\")\n",
    "\n",
    "    # Calculate center of mass for the ligand binding site\n",
    "    center = sum(ligand_atoms) / len(ligand_atoms)\n",
    "    print(f\"Binding site center for {pdb_file}: {center}\")\n",
    "    return center\n"
   ]
  },
  {
   "cell_type": "code",
   "execution_count": 24,
   "id": "a8e6a983-627e-4fae-a27a-0a9f2a0cc375",
   "metadata": {},
   "outputs": [],
   "source": [
    "# --- 5. Prepare Ligand from SMILES (.sdf format) ---\n",
    "\n",
    "def prepare_ligand_from_smiles(smiles, ligand_name):\n",
    "    mol = Chem.MolFromSmiles(smiles)\n",
    "    mol = Chem.AddHs(mol)\n",
    "    AllChem.EmbedMolecule(mol)\n",
    "    ligand_path = f\"{LIGAND_DIR}{ligand_name}.sdf\"\n",
    "    \n",
    "    writer = Chem.SDWriter(ligand_path)\n",
    "    writer.write(mol)\n",
    "    writer.close()\n",
    "    \n",
    "    print(f\"Ligand {ligand_name} saved as {ligand_path}\")\n",
    "    return ligand_path\n"
   ]
  },
  {
   "cell_type": "code",
   "execution_count": 30,
   "id": "2b3d8e26-b019-463f-a28d-d4ec7ee0e35a",
   "metadata": {},
   "outputs": [],
   "source": [
    "# --- 6. Perform Docking with GNINA ---\n",
    "\n",
    "import os\n",
    "import subprocess\n",
    "\n",
    "def perform_docking(protein_pdb, ligand_sdf, center, docking_dir=\"./docking_results/\"):\n",
    "    # Ensure docking directory exists\n",
    "    if not os.path.exists(docking_dir):\n",
    "        os.makedirs(docking_dir)\n",
    "    \n",
    "    output_sdf = f\"{docking_dir}{os.path.basename(protein_pdb).split('.')[0]}_{os.path.basename(ligand_sdf).split('.')[0]}.sdf\"\n",
    "    \n",
    "    command = [\n",
    "        \"gnina\", \"-r\", protein_pdb, \"-l\", ligand_sdf,\n",
    "        \"--center_x\", str(center[0]), \"--center_y\", str(center[1]), \"--center_z\", str(center[2]),\n",
    "        \"--size_x\", \"15\", \"--size_y\", \"15\", \"--size_z\", \"15\",\n",
    "        \"-o\", output_sdf, \"--exhaustiveness\", \"8\", \"--seed 0\"\n",
    "    ]\n",
    "    \n",
    "    # Run the command and capture the result\n",
    "    result = subprocess.run(command, capture_output=True, text=True)\n",
    "    \n",
    "    # Check if the command was successful\n",
    "    if result.returncode == 0:\n",
    "        print(f\"Docking complete: {output_sdf}\")\n",
    "    else:\n",
    "        print(f\"Error during docking: {result.stderr}\")\n",
    "    \n",
    "    return output_sdf\n"
   ]
  },
  {
   "cell_type": "code",
   "execution_count": 31,
   "id": "f933bf90-cde8-437d-8619-e13e5b96bd35",
   "metadata": {},
   "outputs": [],
   "source": [
    "# --- 7. Calculate RMSD ---\n",
    "\n",
    "def calculate_rmsd(ref_sdf, docked_sdf):\n",
    "    ref_mol = Chem.SDMolSupplier(ref_sdf)[0]\n",
    "    docked_mol = Chem.SDMolSupplier(docked_sdf)[0]\n",
    "    \n",
    "    rmsd = rdMolAlign.GetBestRMS(docked_mol, ref_mol)\n",
    "    print(f\"RMSD: {rmsd:.2f} Å\")\n",
    "    return rmsd"
   ]
  },
  {
   "cell_type": "code",
   "execution_count": 32,
   "id": "16491595-5c71-4dc2-a6d9-cf5d543c3af9",
   "metadata": {},
   "outputs": [
    {
     "name": "stdout",
     "output_type": "stream",
     "text": [
      "4IAQ downloaded.\n",
      "6G79 downloaded.\n",
      "Protein ./pdb_files/4IAQ.pdb prepared as ./pdb_files/4IAQ_prepared.pdb\n",
      "Protein ./pdb_files/6G79.pdb prepared as ./pdb_files/6G79_prepared.pdb\n",
      "Aligned ./pdb_files/6G79_prepared.pdb to ./pdb_files/4IAQ_prepared.pdb\n",
      "Ligand 2GM saved as ./ligand_files/2GM.sdf\n",
      "Ligand EP5 saved as ./ligand_files/EP5.sdf\n",
      "Binding site center for ./pdb_files/4IAQ_prepared.pdb: [-20.923973  10.137262  21.737665]\n",
      "Docking complete: ./docking_results/4IAQ_prepared_2GM.sdf\n",
      "RMSD: 0.28 Å\n"
     ]
    },
    {
     "name": "stderr",
     "output_type": "stream",
     "text": [
      "[15:44:20] Warning: molecule is tagged as 2D, but at least one Z coordinate is not zero. Marking the mol as 3D.\n"
     ]
    },
    {
     "data": {
      "text/plain": [
       "0.2775365590035181"
      ]
     },
     "execution_count": 32,
     "metadata": {},
     "output_type": "execute_result"
    }
   ],
   "source": [
    "# --- Execute Workflow ---\n",
    "\n",
    "import os\n",
    "\n",
    "# Define directories for PDB and ligand files\n",
    "PDB_DIR = \"./pdb_files/\"\n",
    "LIGAND_DIR = \"./ligand_files/\"\n",
    "\n",
    "# Create directories if they don't exist\n",
    "for directory in [PDB_DIR, LIGAND_DIR]:\n",
    "    if not os.path.exists(directory):\n",
    "        os.makedirs(directory)\n",
    "\n",
    "\n",
    "\n",
    "\n",
    "# Align proteins\n",
    "aligned_6g79 = align_proteins(f\"{PDB_DIR}4IAQ_prepared.pdb\", f\"{PDB_DIR}6G79_prepared.pdb\")\n",
    "\n",
    "# Prepare ligands\n",
    "ligand_2gm = prepare_ligand_from_smiles(\"CN1C[C@@H](C[C@H]2[C@H]1Cc3c[nH]c4cccc2c34)C(=O)N[C@]5(C)O[C@@]6(O)[C@@H]7CCCN7C(=O)[C@H](Cc8ccccc8)N6C5=O\", \"2GM\")  # Example SMILES\n",
    "ligand_ep5 = prepare_ligand_from_smiles(\"[NH3+]CCc1c[nH]c2ccc(OCC(=O)N3CCN(CC3)c4ccc(cc4)C#N)cc12\", \"EP5\")\n",
    "\n",
    "# Binding site selection\n",
    "center_4iaq = select_binding_site(f\"{PDB_DIR}4IAQ_prepared.pdb\", \"2GM\")\n",
    "\n",
    "# Docking\n",
    "docked_4iaq_2gm = perform_docking(f\"{PDB_DIR}4IAQ_prepared.pdb\", ligand_2gm, center_4iaq)\n",
    "\n",
    "# RMSD Calculation\n",
    "calculate_rmsd(ligand_2gm, docked_4iaq_2gm)\n"
   ]
  },
  {
   "cell_type": "code",
   "execution_count": null,
   "id": "5eba2f51-4788-4598-a7cb-710d3c6d7563",
   "metadata": {},
   "outputs": [],
   "source": []
  }
 ],
 "metadata": {
  "kernelspec": {
   "display_name": "dockm8_cuda",
   "language": "python",
   "name": "python3"
  },
  "language_info": {
   "codemirror_mode": {
    "name": "ipython",
    "version": 3
   },
   "file_extension": ".py",
   "mimetype": "text/x-python",
   "name": "python",
   "nbconvert_exporter": "python",
   "pygments_lexer": "ipython3",
   "version": "3.10.16"
  }
 },
 "nbformat": 4,
 "nbformat_minor": 5
}
